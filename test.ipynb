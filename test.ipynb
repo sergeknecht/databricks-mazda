{
 "cells": [
  {
   "cell_type": "code",
   "execution_count": 0,
   "metadata": {
    "application/vnd.databricks.v1+cell": {
     "cellMetadata": {},
     "inputWidgets": {},
     "nuid": "cf988eef-3b0b-42a8-bdb0-c518c5fabd6b",
     "showTitle": false,
     "title": ""
    }
   },
   "outputs": [],
   "source": [
    "## Initializations"
   ]
  },
  {
   "cell_type": "code",
   "execution_count": 0,
   "metadata": {
    "application/vnd.databricks.v1+cell": {
     "cellMetadata": {},
     "inputWidgets": {},
     "nuid": "bc317b73-ca2c-4bcd-8b03-f5a22083f40e",
     "showTitle": false,
     "title": ""
    }
   },
   "outputs": [],
   "source": [
    "DEBUG = False"
   ]
  },
  {
   "cell_type": "code",
   "execution_count": 0,
   "metadata": {
    "application/vnd.databricks.v1+cell": {
     "cellMetadata": {},
     "inputWidgets": {},
     "nuid": "e27b87e4-4fb0-4d99-bf12-30d9b28c2508",
     "showTitle": false,
     "title": ""
    }
   },
   "outputs": [],
   "source": [
    "from pyspark.sql.functions import col\n",
    "from pyspark.sql.types import StringType,IntegerType,BooleanType,DateType"
   ]
  },
  {
   "cell_type": "code",
   "execution_count": 0,
   "metadata": {
    "application/vnd.databricks.v1+cell": {
     "cellMetadata": {},
     "inputWidgets": {},
     "nuid": "488f6b15-ef40-463b-b50f-155fc8f9fcbc",
     "showTitle": false,
     "title": ""
    }
   },
   "outputs": [],
   "source": [
    "def retrieve_workspace_instance_name():\n",
    "  import os\n",
    "  from urllib.parse import urlparse\n",
    "  url = os.environ['DATABRICKS_HOST']\n",
    "  host_dict = urlparse(url)\n",
    "  return host_dict.hostname\n",
    "def retrieve_spark_remote():\n",
    "  import os\n",
    "  return os.environ['SPARK_REMOTE']\n",
    "def retrieve_token():\n",
    "  import os\n",
    "  return os.environ['DATABRICKS_TOKEN']\n",
    "def retrieve_cluster_id():\n",
    "  import os\n",
    "  return os.environ['DATABRICKS_CLUSTER_ID']"
   ]
  },
  {
   "cell_type": "code",
   "execution_count": 0,
   "metadata": {
    "application/vnd.databricks.v1+cell": {
     "cellMetadata": {},
     "inputWidgets": {},
     "nuid": "dce91042-ac5a-4963-9ce4-cbeae06995ba",
     "showTitle": false,
     "title": ""
    }
   },
   "outputs": [],
   "source": [
    "if DEBUG:\n",
    "  # By setting fields in builder.remote:\n",
    "  from databricks.connect import DatabricksSession\n",
    "\n",
    "  spark = DatabricksSession.builder.remote(\n",
    "    f\"sc://{retrieve_workspace_instance_name()}:443/;token={retrieve_token()};x-databricks-cluster-id={retrieve_cluster_id()}\"\n",
    "  ).getOrCreate()"
   ]
  },
  {
   "cell_type": "code",
   "execution_count": 0,
   "metadata": {
    "application/vnd.databricks.v1+cell": {
     "cellMetadata": {},
     "inputWidgets": {},
     "nuid": "ab3e11e8-54a9-49de-9907-2bb434629c49",
     "showTitle": false,
     "title": ""
    }
   },
   "outputs": [],
   "source": [
    "dbutils.widgets.text(\"catalog\", \"mazda_bi20_nonprd_catalog\", \"Unity catalog name\")\n",
    "dbutils.widgets.text(\"schema\", \"LZ_MUM\", \"Oracle schema\")\n",
    "dbutils.widgets.text(\"table\", \"TUSER\", \"Oracle table\")"
   ]
  },
  {
   "cell_type": "code",
   "execution_count": 0,
   "metadata": {
    "application/vnd.databricks.v1+cell": {
     "cellMetadata": {},
     "inputWidgets": {},
     "nuid": "ef91ba49-0fc5-469f-b7d2-4e7f3f5d4327",
     "showTitle": false,
     "title": ""
    }
   },
   "outputs": [],
   "source": [
    "catalog = dbutils.widgets.get(\"catalog\")\n",
    "schema = dbutils.widgets.get(\"schema\")\n",
    "table = dbutils.widgets.get(\"table\")"
   ]
  },
  {
   "cell_type": "code",
   "execution_count": 0,
   "metadata": {
    "application/vnd.databricks.v1+cell": {
     "cellMetadata": {},
     "inputWidgets": {},
     "nuid": "5bc34284-e47b-4ea8-a627-b4c1699e9a12",
     "showTitle": false,
     "title": ""
    }
   },
   "outputs": [],
   "source": [
    "username = dbutils.secrets.get(scope = \"ACC\", key = \"DWH_BI1__JDBC_USERNAME\")\n",
    "password = dbutils.secrets.get(scope = \"ACC\", key = \"DWH_BI1__JDBC_PASSWORD\")\n",
    "\n",
    "assert username, \"secret username not retrieved\"\n",
    "assert password, \"secret password not retrieved\"\n",
    "\n",
    "hostName = \"accdw-scan.mle.mazdaeur.com\"\n",
    "# hostName=\"10.230.2.32\"\n",
    "port = \"1521\"\n",
    "databaseName = \"ACC_DWH\"\n",
    "\n",
    "jdbcUrl = f\"jdbc:oracle:thin:@//{hostName}:{port}/{databaseName}\"\n",
    "print(jdbcUrl)  "
   ]
  },
  {
   "cell_type": "code",
   "execution_count": 0,
   "metadata": {
    "application/vnd.databricks.v1+cell": {
     "cellMetadata": {},
     "inputWidgets": {},
     "nuid": "c3bba57e-4da9-4788-b99e-8a107306d209",
     "showTitle": false,
     "title": ""
    }
   },
   "outputs": [],
   "source": [
    "sql = f\"\"\"\n",
    "SELECT OWNER, TABLE_NAME, NUM_ROWS, AVG_ROW_LEN\n",
    "FROM all_tables \n",
    "WHERE owner LIKE 'LZ_%'\n",
    "AND NUM_ROWS > 0\n",
    "ORDER BY NUM_ROWS DESC\n",
    "\"\"\"\n",
    "df_tables = (spark.read\n",
    "  .format(\"jdbc\")\n",
    "  .option(\"driver\", 'oracle.jdbc.driver.OracleDriver')\n",
    "  .option(\"url\", jdbcUrl)\n",
    "  .option(\"query\", sql)\n",
    "  .option(\"user\", username)\n",
    "  .option(\"password\", password)\n",
    "  .load()\n",
    "  .withColumn(\"NUM_ROWS\",col(\"NUM_ROWS\").cast(IntegerType()))\n",
    ")\n",
    "\n",
    "display(df_tables)"
   ]
  },
  {
   "cell_type": "code",
   "execution_count": 0,
   "metadata": {
    "application/vnd.databricks.v1+cell": {
     "cellMetadata": {},
     "inputWidgets": {},
     "nuid": "57984eb7-d83f-4123-835b-f5bacc1142ea",
     "showTitle": false,
     "title": ""
    }
   },
   "outputs": [],
   "source": [
    "sql = f\"\"\"\n",
    "SELECT \n",
    "  tc.TABLE_NAME, tc.COLUMN_NAME, tc.DATA_TYPE, tc.NULLABLE, tc.NUM_NULLS, tc.NUM_DISTINCT, tc.DATA_DEFAULT, tc.AVG_COL_LEN, tc.CHAR_LENGTH,\n",
    "  con.cons\n",
    "FROM DBA_TAB_COLUMNS tc\n",
    "left join\n",
    "  ( select  listagg( cc.constraint_name, ',') within group (order by cc.constraint_name)  cons, \n",
    "         table_name, owner , column_name \n",
    "         from  DBA_CONS_COLUMNS cc \n",
    "          group by  table_name, owner , column_name ) con\n",
    "  on con.table_name = tc.table_name and \n",
    "     con.owner = tc.owner and\n",
    "     con.column_name = tc.column_name\n",
    "where  tc.owner = 'LZ_MUM'\n",
    "order by 1 ,2 \n",
    "\"\"\"\n",
    "df_schema = (spark.read\n",
    "  .format(\"jdbc\")\n",
    "  .option(\"driver\", 'oracle.jdbc.driver.OracleDriver')\n",
    "  .option(\"url\", jdbcUrl)\n",
    "  .option(\"query\", sql)\n",
    "  .option(\"user\", username)\n",
    "  .option(\"password\", password)\n",
    "  .load()\n",
    "  .withColumn(\"NUM_NULLS\",col(\"NUM_NULLS\").cast(IntegerType()))\n",
    "  .withColumn(\"NUM_DISTINCT\",col(\"NUM_DISTINCT\").cast(IntegerType()))\n",
    "  .withColumn(\"AVG_COL_LEN\",col(\"AVG_COL_LEN\").cast(IntegerType()))\n",
    "  .withColumn(\"CHAR_LENGTH\",col(\"CHAR_LENGTH\").cast(IntegerType()))\n",
    ")\n",
    "display(df_schema)"
   ]
  },
  {
   "cell_type": "code",
   "execution_count": 0,
   "metadata": {
    "application/vnd.databricks.v1+cell": {
     "cellMetadata": {},
     "inputWidgets": {},
     "nuid": "fe20e655-19ed-4d60-b511-e8289a0a1245",
     "showTitle": false,
     "title": ""
    }
   },
   "outputs": [],
   "source": [
    "df = (spark.read\n",
    "  .format(\"jdbc\")\n",
    "  .option(\"driver\", 'oracle.jdbc.driver.OracleDriver')\n",
    "  .option(\"url\", jdbcUrl)\n",
    "  .option(\"dbtable\", f\"{schema}.{table}\")\n",
    "  .option(\"user\", username)\n",
    "  .option(\"password\", password)\n",
    "  .load()\n",
    ")"
   ]
  },
  {
   "cell_type": "code",
   "execution_count": 0,
   "metadata": {
    "application/vnd.databricks.v1+cell": {
     "cellMetadata": {},
     "inputWidgets": {},
     "nuid": "bceb83c8-b432-4725-916d-991ea9aab8f2",
     "showTitle": false,
     "title": ""
    }
   },
   "outputs": [],
   "source": [
    "display(df)"
   ]
  },
  {
   "cell_type": "code",
   "execution_count": 0,
   "metadata": {
    "application/vnd.databricks.v1+cell": {
     "cellMetadata": {},
     "inputWidgets": {},
     "nuid": "4b15e46a-f7d5-4df1-93d4-cad2f835212d",
     "showTitle": false,
     "title": ""
    }
   },
   "outputs": [],
   "source": [
    "df.printSchema()"
   ]
  },
  {
   "cell_type": "code",
   "execution_count": 0,
   "metadata": {
    "application/vnd.databricks.v1+cell": {
     "cellMetadata": {},
     "inputWidgets": {},
     "nuid": "6cf52bba-4010-408e-ace2-268abb325ae4",
     "showTitle": false,
     "title": ""
    }
   },
   "outputs": [],
   "source": [
    "spark.sql(f\"CREATE SCHEMA IF NOT EXISTS {catalog}.{schema}\")\n",
    "df.write.format(\"delta\").mode('overwrite').saveAsTable(f\"{catalog}.{schema}.{table}\")"
   ]
  }
 ],
 "metadata": {
  "application/vnd.databricks.v1+notebook": {
   "dashboards": [],
   "language": "python",
   "notebookMetadata": {
    "pythonIndentUnit": 4
   },
   "notebookName": "test",
   "widgets": {}
  },
  "kernelspec": {
   "display_name": "venv",
   "language": "python",
   "name": "python3"
  },
  "language_info": {
   "codemirror_mode": {
    "name": "ipython",
    "version": 3
   },
   "file_extension": ".py",
   "mimetype": "text/x-python",
   "name": "python",
   "nbconvert_exporter": "python",
   "pygments_lexer": "ipython3",
   "version": "3.11.6"
  }
 },
 "nbformat": 4,
 "nbformat_minor": 0
}
