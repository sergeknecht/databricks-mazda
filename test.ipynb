{
 "cells": [
  {
   "cell_type": "code",
   "execution_count": 38,
   "metadata": {},
   "outputs": [],
   "source": [
    "## Initializations"
   ]
  },
  {
   "cell_type": "code",
   "execution_count": null,
   "metadata": {},
   "outputs": [],
   "source": [
    "DEBUG = False"
   ]
  },
  {
   "cell_type": "code",
   "execution_count": null,
   "metadata": {},
   "outputs": [],
   "source": [
    "from pyspark.sql.functions import col\n",
    "from pyspark.sql.types import StringType,IntegerType,BooleanType,DateType"
   ]
  },
  {
   "cell_type": "code",
   "execution_count": 39,
   "metadata": {},
   "outputs": [],
   "source": [
    "def retrieve_workspace_instance_name():\n",
    "  import os\n",
    "  from urllib.parse import urlparse\n",
    "  url = os.environ['DATABRICKS_HOST']\n",
    "  host_dict = urlparse(url)\n",
    "  return host_dict.hostname\n",
    "def retrieve_spark_remote():\n",
    "  import os\n",
    "  return os.environ['SPARK_REMOTE']\n",
    "def retrieve_token():\n",
    "  import os\n",
    "  return os.environ['DATABRICKS_TOKEN']\n",
    "def retrieve_cluster_id():\n",
    "  import os\n",
    "  return os.environ['DATABRICKS_CLUSTER_ID']"
   ]
  },
  {
   "cell_type": "code",
   "execution_count": 40,
   "metadata": {},
   "outputs": [],
   "source": [
    "if DEBUG:\n",
    "  # By setting fields in builder.remote:\n",
    "  from databricks.connect import DatabricksSession\n",
    "\n",
    "  spark = DatabricksSession.builder.remote(\n",
    "    f\"sc://{retrieve_workspace_instance_name()}:443/;token={retrieve_token()};x-databricks-cluster-id={retrieve_cluster_id()}\"\n",
    "  ).getOrCreate()"
   ]
  },
  {
   "cell_type": "code",
   "execution_count": 41,
   "metadata": {},
   "outputs": [
    {
     "data": {
      "application/vnd.jupyter.widget-view+json": {
       "model_id": "0c57c2bfadc348c7ab54c39881243cc0",
       "version_major": 2,
       "version_minor": 0
      },
      "text/plain": [
       "Box(children=(Label(value='Unity catalog name'), Text(value='mazda_bi20_nonprd_catalog')))"
      ]
     },
     "metadata": {},
     "output_type": "display_data"
    },
    {
     "data": {
      "application/vnd.jupyter.widget-view+json": {
       "model_id": "0215d431d2114e3295c1150a54198628",
       "version_major": 2,
       "version_minor": 0
      },
      "text/plain": [
       "Box(children=(Label(value='Oracle schema'), Text(value='LZ_MUM')))"
      ]
     },
     "metadata": {},
     "output_type": "display_data"
    },
    {
     "data": {
      "application/vnd.jupyter.widget-view+json": {
       "model_id": "7a7f646763564404b2127d8cef134b3b",
       "version_major": 2,
       "version_minor": 0
      },
      "text/plain": [
       "Box(children=(Label(value='Oracle table'), Text(value='TUSER')))"
      ]
     },
     "metadata": {},
     "output_type": "display_data"
    }
   ],
   "source": [
    "dbutils.widgets.text(\"catalog\", \"mazda_bi20_nonprd_catalog\", \"Unity catalog name\")\n",
    "dbutils.widgets.text(\"schema\", \"LZ_MUM\", \"Oracle schema\")\n",
    "dbutils.widgets.text(\"table\", \"TUSER\", \"Oracle table\")"
   ]
  },
  {
   "cell_type": "code",
   "execution_count": 42,
   "metadata": {},
   "outputs": [],
   "source": [
    "catalog = dbutils.widgets.get(\"catalog\")\n",
    "schema = dbutils.widgets.get(\"schema\")\n",
    "table = dbutils.widgets.get(\"table\")"
   ]
  },
  {
   "cell_type": "code",
   "execution_count": 43,
   "metadata": {},
   "outputs": [
    {
     "name": "stdout",
     "output_type": "stream",
     "text": [
      "jdbc:oracle:thin:@//accdw-scan.mle.mazdaeur.com:1521/ACC_DWH\n"
     ]
    }
   ],
   "source": [
    "username = dbutils.secrets.get(scope = \"ACC\", key = \"DWH_BI1__JDBC_USERNAME\")\n",
    "password = dbutils.secrets.get(scope = \"ACC\", key = \"DWH_BI1__JDBC_PASSWORD\")\n",
    "\n",
    "assert username, \"secret username not retrieved\"\n",
    "assert password, \"secret password not retrieved\"\n",
    "\n",
    "hostName = \"accdw-scan.mle.mazdaeur.com\"\n",
    "# hostName=\"10.230.2.32\"\n",
    "port = \"1521\"\n",
    "databaseName = \"ACC_DWH\"\n",
    "\n",
    "jdbcUrl = f\"jdbc:oracle:thin:@//{hostName}:{port}/{databaseName}\"\n",
    "print(jdbcUrl)  "
   ]
  },
  {
   "cell_type": "code",
   "execution_count": 44,
   "metadata": {},
   "outputs": [
    {
     "data": {
      "text/html": [
       "<table border=\"1\" class=\"dataframe\">\n",
       "  <thead>\n",
       "    <tr style=\"text-align: right;\">\n",
       "      <th></th>\n",
       "      <th>TABLESPACE_NAME</th>\n",
       "      <th>OWNER</th>\n",
       "      <th>TABLE_NAME</th>\n",
       "      <th>NUM_ROWS</th>\n",
       "      <th>AVG_ROW_LEN</th>\n",
       "    </tr>\n",
       "  </thead>\n",
       "  <tbody>\n",
       "    <tr>\n",
       "      <th>0</th>\n",
       "      <td>DWHD</td>\n",
       "      <td>LZ_SIEBEL_OLTP</td>\n",
       "      <td>S_CAMP_CON_CURR</td>\n",
       "      <td>112127251.0000000000</td>\n",
       "      <td>10.0000000000</td>\n",
       "    </tr>\n",
       "    <tr>\n",
       "      <th>1</th>\n",
       "      <td>DWHD</td>\n",
       "      <td>LZ_DSR</td>\n",
       "      <td>SVC_REC_ITEMS_ID</td>\n",
       "      <td>105480456.0000000000</td>\n",
       "      <td>12.0000000000</td>\n",
       "    </tr>\n",
       "    <tr>\n",
       "      <th>2</th>\n",
       "      <td>DWHD</td>\n",
       "      <td>LZ_DSR</td>\n",
       "      <td>W_INVOICE_ITEMS_CURR</td>\n",
       "      <td>83776657.0000000000</td>\n",
       "      <td>6.0000000000</td>\n",
       "    </tr>\n",
       "    <tr>\n",
       "      <th>3</th>\n",
       "      <td>DWHD</td>\n",
       "      <td>LZ_DSR</td>\n",
       "      <td>W_ORDER_ITEMS_CURR</td>\n",
       "      <td>82192486.0000000000</td>\n",
       "      <td>6.0000000000</td>\n",
       "    </tr>\n",
       "    <tr>\n",
       "      <th>4</th>\n",
       "      <td>DWHD</td>\n",
       "      <td>LZ_LEM</td>\n",
       "      <td>COST_DETAILS_CURR</td>\n",
       "      <td>43854836.0000000000</td>\n",
       "      <td>6.0000000000</td>\n",
       "    </tr>\n",
       "    <tr>\n",
       "      <th>5</th>\n",
       "      <td>DWHD</td>\n",
       "      <td>LZ_SIEBEL_OLTP</td>\n",
       "      <td>S_COMMUNICATION_CURR</td>\n",
       "      <td>34702812.0000000000</td>\n",
       "      <td>11.0000000000</td>\n",
       "    </tr>\n",
       "    <tr>\n",
       "      <th>6</th>\n",
       "      <td>DWHD</td>\n",
       "      <td>LZ_SIEBEL_OLTP</td>\n",
       "      <td>S_VHCL_SRV_CURR</td>\n",
       "      <td>26184660.0000000000</td>\n",
       "      <td>10.0000000000</td>\n",
       "    </tr>\n",
       "    <tr>\n",
       "      <th>7</th>\n",
       "      <td>DWHD</td>\n",
       "      <td>LZ_TSC</td>\n",
       "      <td>TSC_ASSIGNMENT_ID</td>\n",
       "      <td>25914461.0000000000</td>\n",
       "      <td>15.0000000000</td>\n",
       "    </tr>\n",
       "    <tr>\n",
       "      <th>8</th>\n",
       "      <td>DWHD</td>\n",
       "      <td>LZ_SUNBIL</td>\n",
       "      <td>TBSDB_SUNBILPOS</td>\n",
       "      <td>23623075.0000000000</td>\n",
       "      <td>154.0000000000</td>\n",
       "    </tr>\n",
       "    <tr>\n",
       "      <th>9</th>\n",
       "      <td>DWHD</td>\n",
       "      <td>LZ_SIEBEL_OLTP</td>\n",
       "      <td>S_EVT_ACT_CURR</td>\n",
       "      <td>18947461.0000000000</td>\n",
       "      <td>10.0000000000</td>\n",
       "    </tr>\n",
       "    <tr>\n",
       "      <th>10</th>\n",
       "      <td>DWHD</td>\n",
       "      <td>LZ_WML</td>\n",
       "      <td>WML_CLAIM_ID</td>\n",
       "      <td>17084754.0000000000</td>\n",
       "      <td>45.0000000000</td>\n",
       "    </tr>\n",
       "    <tr>\n",
       "      <th>11</th>\n",
       "      <td>DWHD</td>\n",
       "      <td>LZ_SIEBEL_OLTP</td>\n",
       "      <td>S_VHCL_SALES_BU_CURR</td>\n",
       "      <td>15105354.0000000000</td>\n",
       "      <td>10.0000000000</td>\n",
       "    </tr>\n",
       "    <tr>\n",
       "      <th>12</th>\n",
       "      <td>DWHD</td>\n",
       "      <td>LZ_SIEBEL_OLTP</td>\n",
       "      <td>S_PARTY_CURR</td>\n",
       "      <td>14911436.0000000000</td>\n",
       "      <td>10.0000000000</td>\n",
       "    </tr>\n",
       "    <tr>\n",
       "      <th>13</th>\n",
       "      <td>DWHD</td>\n",
       "      <td>LZ_PIM</td>\n",
       "      <td>XXRECON_REP_ITEM_LANG_TRANS_V</td>\n",
       "      <td>14831748.0000000000</td>\n",
       "      <td>320.0000000000</td>\n",
       "    </tr>\n",
       "    <tr>\n",
       "      <th>14</th>\n",
       "      <td>DWHD</td>\n",
       "      <td>LZ_FILE</td>\n",
       "      <td>CIP_CUSTOMER</td>\n",
       "      <td>14790129.0000000000</td>\n",
       "      <td>51.0000000000</td>\n",
       "    </tr>\n",
       "    <tr>\n",
       "      <th>15</th>\n",
       "      <td>DWHD</td>\n",
       "      <td>LZ_SIEBEL_OLTP</td>\n",
       "      <td>S_REVN_CURR</td>\n",
       "      <td>13888044.0000000000</td>\n",
       "      <td>10.0000000000</td>\n",
       "    </tr>\n",
       "    <tr>\n",
       "      <th>16</th>\n",
       "      <td>DWHD</td>\n",
       "      <td>LZ_SIEBEL_OLTP</td>\n",
       "      <td>S_ADDR_PER_CURR</td>\n",
       "      <td>13713963.0000000000</td>\n",
       "      <td>10.0000000000</td>\n",
       "    </tr>\n",
       "    <tr>\n",
       "      <th>17</th>\n",
       "      <td>DWHD</td>\n",
       "      <td>LZ_SIEBEL_OLTP</td>\n",
       "      <td>S_CON_ADDR_CURR</td>\n",
       "      <td>13457772.0000000000</td>\n",
       "      <td>10.0000000000</td>\n",
       "    </tr>\n",
       "    <tr>\n",
       "      <th>18</th>\n",
       "      <td>DWHD</td>\n",
       "      <td>LZ_EPD</td>\n",
       "      <td>TBEPD_ELEASSIGN</td>\n",
       "      <td>13112415.0000000000</td>\n",
       "      <td>51.0000000000</td>\n",
       "    </tr>\n",
       "    <tr>\n",
       "      <th>19</th>\n",
       "      <td>DWHD</td>\n",
       "      <td>LZ_COC</td>\n",
       "      <td>TBCOC_PRODUCT</td>\n",
       "      <td>12146710.0000000000</td>\n",
       "      <td>38.0000000000</td>\n",
       "    </tr>\n",
       "  </tbody>\n",
       "</table>"
      ],
      "text/plain": [
       "DataFrame[TABLESPACE_NAME: string, OWNER: string, TABLE_NAME: string, NUM_ROWS: decimal(38,10), AVG_ROW_LEN: decimal(38,10)]"
      ]
     },
     "metadata": {},
     "output_type": "display_data"
    }
   ],
   "source": [
    "sql = f\"\"\"\n",
    "SELECT TABLESPACE_NAME, OWNER, TABLE_NAME, NUM_ROWS, AVG_ROW_LEN\n",
    "FROM all_tables \n",
    "WHERE owner LIKE 'LZ_%'\n",
    "AND NUM_ROWS > 0\n",
    "ORDER BY NUM_ROWS DESC\n",
    "\"\"\"\n",
    "df_tables = (spark.read\n",
    "  .format(\"jdbc\")\n",
    "  .option(\"driver\", 'oracle.jdbc.driver.OracleDriver')\n",
    "  .option(\"url\", jdbcUrl)\n",
    "  .option(\"query\", sql)\n",
    "  .option(\"user\", username)\n",
    "  .option(\"password\", password)\n",
    "  .load()\n",
    "  .withColumn(\"NUM_ROWS\",col(\"NUM_ROWS\").cast(IntegerType()))\n",
    ")\n",
    "\n",
    "display(df_tables)"
   ]
  },
  {
   "cell_type": "code",
   "execution_count": 45,
   "metadata": {},
   "outputs": [
    {
     "data": {
      "text/html": [
       "<table border=\"1\" class=\"dataframe\">\n",
       "  <thead>\n",
       "    <tr style=\"text-align: right;\">\n",
       "      <th></th>\n",
       "      <th>TABLE_NAME</th>\n",
       "      <th>COLUMN_NAME</th>\n",
       "      <th>DATA_TYPE</th>\n",
       "      <th>NULLABLE</th>\n",
       "      <th>NUM_NULLS</th>\n",
       "      <th>NUM_DISTINCT</th>\n",
       "      <th>DATA_DEFAULT</th>\n",
       "      <th>AVG_COL_LEN</th>\n",
       "      <th>CHAR_LENGTH</th>\n",
       "      <th>CONS</th>\n",
       "    </tr>\n",
       "  </thead>\n",
       "  <tbody>\n",
       "    <tr>\n",
       "      <th>0</th>\n",
       "      <td>TUSER</td>\n",
       "      <td>CN</td>\n",
       "      <td>VARCHAR2</td>\n",
       "      <td>Y</td>\n",
       "      <td>0E-10</td>\n",
       "      <td>62668.0000000000</td>\n",
       "      <td>None</td>\n",
       "      <td>21.0000000000</td>\n",
       "      <td>255.0000000000</td>\n",
       "      <td>None</td>\n",
       "    </tr>\n",
       "    <tr>\n",
       "      <th>1</th>\n",
       "      <td>TUSER</td>\n",
       "      <td>FIRSTNAME</td>\n",
       "      <td>VARCHAR2</td>\n",
       "      <td>Y</td>\n",
       "      <td>0E-10</td>\n",
       "      <td>11649.0000000000</td>\n",
       "      <td>None</td>\n",
       "      <td>8.0000000000</td>\n",
       "      <td>255.0000000000</td>\n",
       "      <td>None</td>\n",
       "    </tr>\n",
       "    <tr>\n",
       "      <th>2</th>\n",
       "      <td>TUSER</td>\n",
       "      <td>GUID</td>\n",
       "      <td>VARCHAR2</td>\n",
       "      <td>N</td>\n",
       "      <td>0E-10</td>\n",
       "      <td>62716.0000000000</td>\n",
       "      <td>None</td>\n",
       "      <td>37.0000000000</td>\n",
       "      <td>40.0000000000</td>\n",
       "      <td>PK_MUM_USER</td>\n",
       "    </tr>\n",
       "    <tr>\n",
       "      <th>3</th>\n",
       "      <td>TUSER</td>\n",
       "      <td>LASTNAME</td>\n",
       "      <td>VARCHAR2</td>\n",
       "      <td>Y</td>\n",
       "      <td>0E-10</td>\n",
       "      <td>40668.0000000000</td>\n",
       "      <td>None</td>\n",
       "      <td>9.0000000000</td>\n",
       "      <td>255.0000000000</td>\n",
       "      <td>None</td>\n",
       "    </tr>\n",
       "    <tr>\n",
       "      <th>4</th>\n",
       "      <td>TUSER</td>\n",
       "      <td>MIDDLENAME</td>\n",
       "      <td>VARCHAR2</td>\n",
       "      <td>Y</td>\n",
       "      <td>59852.0000000000</td>\n",
       "      <td>1087.0000000000</td>\n",
       "      <td>None</td>\n",
       "      <td>2.0000000000</td>\n",
       "      <td>255.0000000000</td>\n",
       "      <td>None</td>\n",
       "    </tr>\n",
       "  </tbody>\n",
       "</table>"
      ],
      "text/plain": [
       "DataFrame[TABLE_NAME: string, COLUMN_NAME: string, DATA_TYPE: string, NULLABLE: string, NUM_NULLS: decimal(38,10), NUM_DISTINCT: decimal(38,10), DATA_DEFAULT: string, AVG_COL_LEN: decimal(38,10), CHAR_LENGTH: decimal(38,10), CONS: string]"
      ]
     },
     "metadata": {},
     "output_type": "display_data"
    }
   ],
   "source": [
    "sql = f\"\"\"\n",
    "SELECT \n",
    "  tc.TABLE_NAME, tc.COLUMN_NAME, tc.DATA_TYPE, tc.NULLABLE, tc.NUM_NULLS, tc.NUM_DISTINCT, tc.DATA_DEFAULT, tc.AVG_COL_LEN, tc.CHAR_LENGTH,\n",
    "  con.cons\n",
    "FROM DBA_TAB_COLUMNS tc\n",
    "left join\n",
    "  ( select  listagg( cc.constraint_name, ',') within group (order by cc.constraint_name)  cons, \n",
    "         table_name, owner , column_name \n",
    "         from  DBA_CONS_COLUMNS cc \n",
    "          group by  table_name, owner , column_name ) con\n",
    "  on con.table_name = tc.table_name and \n",
    "     con.owner = tc.owner and\n",
    "     con.column_name = tc.column_name\n",
    "where  tc.owner = 'LZ_MUM'\n",
    "order by 1 ,2 \n",
    "\"\"\"\n",
    "df_schema = (spark.read\n",
    "  .format(\"jdbc\")\n",
    "  .option(\"driver\", 'oracle.jdbc.driver.OracleDriver')\n",
    "  .option(\"url\", jdbcUrl)\n",
    "  .option(\"query\", sql)\n",
    "  .option(\"user\", username)\n",
    "  .option(\"password\", password)\n",
    "  .load()\n",
    "  .withColumn(\"NUM_NULLS\",col(\"NUM_NULLS\").cast(IntegerType()))\n",
    "  .withColumn(\"NUM_DISTINCT\",col(\"NUM_DISTINCT\").cast(IntegerType()))\n",
    "  .withColumn(\"AVG_COL_LEN\",col(\"AVG_COL_LEN\").cast(IntegerType()))\n",
    "  .withColumn(\"CHAR_LENGTH\",col(\"CHAR_LENGTH\").cast(IntegerType()))\n",
    ")\n",
    "display(df_schema)"
   ]
  },
  {
   "cell_type": "code",
   "execution_count": 46,
   "metadata": {},
   "outputs": [],
   "source": [
    "df = (spark.read\n",
    "  .format(\"jdbc\")\n",
    "  .option(\"driver\", 'oracle.jdbc.driver.OracleDriver')\n",
    "  .option(\"url\", jdbcUrl)\n",
    "  .option(\"dbtable\", f\"{schema}.{table}\")\n",
    "  .option(\"user\", username)\n",
    "  .option(\"password\", password)\n",
    "  .load()\n",
    ")"
   ]
  },
  {
   "cell_type": "code",
   "execution_count": 47,
   "metadata": {},
   "outputs": [],
   "source": [
    "display(df)"
   ]
  },
  {
   "cell_type": "code",
   "execution_count": 48,
   "metadata": {},
   "outputs": [
    {
     "name": "stdout",
     "output_type": "stream",
     "text": [
      "root\n",
      " |-- GUID: string (nullable = true)\n",
      " |-- CN: string (nullable = true)\n",
      " |-- FIRSTNAME: string (nullable = true)\n",
      " |-- MIDDLENAME: string (nullable = true)\n",
      " |-- LASTNAME: string (nullable = true)\n",
      "\n"
     ]
    }
   ],
   "source": [
    "df.printSchema()"
   ]
  },
  {
   "cell_type": "code",
   "execution_count": 49,
   "metadata": {},
   "outputs": [],
   "source": [
    "spark.sql(f\"CREATE SCHEMA IF NOT EXISTS {catalog}.{schema}\")\n",
    "df.write.format(\"delta\").mode('overwrite').saveAsTable(f\"{catalog}.{schema}.{table}\")"
   ]
  }
 ],
 "metadata": {
  "kernelspec": {
   "display_name": "venv",
   "language": "python",
   "name": "python3"
  },
  "language_info": {
   "codemirror_mode": {
    "name": "ipython",
    "version": 3
   },
   "file_extension": ".py",
   "mimetype": "text/x-python",
   "name": "python",
   "nbconvert_exporter": "python",
   "pygments_lexer": "ipython3",
   "version": "3.11.6"
  }
 },
 "nbformat": 4,
 "nbformat_minor": 2
}
