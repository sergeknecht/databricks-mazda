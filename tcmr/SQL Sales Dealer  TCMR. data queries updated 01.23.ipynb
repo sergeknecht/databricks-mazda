{
 "cells": [
  {
   "cell_type": "markdown",
   "metadata": {},
   "source": [
    "Loading the packages"
   ]
  },
  {
   "cell_type": "code",
   "execution_count": 1,
   "metadata": {},
   "outputs": [
    {
     "name": "stdout",
     "output_type": "stream",
     "text": [
      "c:\\Users\\sknecht\\Projects\\databricks-mazda\\.venv\\Scripts\\python.exe\n"
     ]
    }
   ],
   "source": [
    "import sys\n",
    "print(sys.executable)"
   ]
  },
  {
   "cell_type": "code",
   "execution_count": 3,
   "metadata": {},
   "outputs": [
    {
     "name": "stderr",
     "output_type": "stream",
     "text": [
      "UsageError: %%python is a cell magic, but the cell body is empty.\n"
     ]
    }
   ],
   "source": [
    "%%python -m ipython kernel install --user --name=.venv"
   ]
  },
  {
   "cell_type": "code",
   "execution_count": 4,
   "metadata": {
    "ExecuteTime": {
     "end_time": "2020-11-25T11:53:22.437856Z",
     "start_time": "2020-11-25T11:53:20.470617Z"
    }
   },
   "outputs": [
    {
     "name": "stderr",
     "output_type": "stream",
     "text": [
      "C:\\Users\\sknecht\\AppData\\Local\\Temp\\ipykernel_21524\\337264456.py:9: DeprecationWarning: \n",
      "Pyarrow will become a required dependency of pandas in the next major release of pandas (pandas 3.0),\n",
      "(to allow more performant data types, such as the Arrow string type, and better interoperability with other libraries)\n",
      "but was not found to be installed on your system.\n",
      "If this would cause problems for you,\n",
      "please provide us feedback at https://github.com/pandas-dev/pandas/issues/54466\n",
      "        \n",
      "  import pandas as pd\n"
     ]
    }
   ],
   "source": [
    "## Importing the relevant packages\n",
    "\n",
    "import oracledb\n",
    "# cx_Oracle.init_oracle_client(lib_dir=r\"C:\\oracle\\instantclient_21_3\")\n",
    "import getpass\n",
    "import sqlite3\n",
    "import time\n",
    "\n",
    "import pandas as pd\n",
    "import numpy as np\n",
    "import os\n",
    "import glob\n",
    "import openpyxl\n",
    "import psutil\n",
    "from datetime import timedelta\n",
    "from datetime import datetime\n",
    "\n",
    "\n",
    "import re\n",
    "import datetime\n",
    "import gc\n",
    "\n",
    "import matplotlib.pyplot as plt; plt.rcdefaults()\n",
    "import matplotlib.pyplot as plt\n",
    "\n",
    "from itertools import islice \n",
    "\n",
    "\n",
    "## Let the display show more rows & columns\n",
    "pd.set_option('display.max_columns', 300)\n",
    "pd.set_option('display.max_rows', 400)\n",
    "pd.set_option('display.min_rows', 100)\n",
    "pd.set_option('display.expand_frame_repr', True)\n"
   ]
  },
  {
   "cell_type": "code",
   "execution_count": 5,
   "metadata": {
    "ExecuteTime": {
     "end_time": "2020-11-25T11:53:50.672274Z",
     "start_time": "2020-11-25T11:53:25.750140Z"
    }
   },
   "outputs": [],
   "source": [
    "environment = input('environment (DVL, TST, ACP, PRD): ')\n",
    "username = input('username: ')\n",
    "password = getpass.getpass('password: ')"
   ]
  },
  {
   "cell_type": "code",
   "execution_count": 6,
   "metadata": {
    "ExecuteTime": {
     "end_time": "2020-11-25T11:53:56.154164Z",
     "start_time": "2020-11-25T11:53:56.150191Z"
    }
   },
   "outputs": [],
   "source": [
    "def connectionpool(i):\n",
    "    switcher={\n",
    "        'DVL':'dvldw-scan.mle.mazdaeur.com:1521/DVL_DWH',\n",
    "        'TST':'tstdw-scan.mle.mazdaeur.com:1521/TST_DWH',\n",
    "        'ACP':'accdw-scan.mle.mazdaeur.com:1521/ACP_DWH',\n",
    "        'PRD':'prddw-scan.mle.mazdaeur.com/PRD_DWH'        \n",
    "    }\n",
    "    return switcher.get(i,\"No valid connection name\")"
   ]
  },
  {
   "cell_type": "code",
   "execution_count": 7,
   "metadata": {},
   "outputs": [
    {
     "data": {
      "text/plain": [
       "'prddw-scan.mle.mazdaeur.com/PRD_DWH'"
      ]
     },
     "execution_count": 7,
     "metadata": {},
     "output_type": "execute_result"
    }
   ],
   "source": [
    "connectionpool(environment)"
   ]
  },
  {
   "cell_type": "code",
   "execution_count": 8,
   "metadata": {
    "ExecuteTime": {
     "end_time": "2020-11-25T11:54:09.138991Z",
     "start_time": "2020-11-25T11:54:07.071339Z"
    }
   },
   "outputs": [
    {
     "name": "stdout",
     "output_type": "stream",
     "text": [
      "DWSRV/password:prddw-scan.mle.mazdaeur.com/PRD_DWH\n"
     ]
    }
   ],
   "source": [
    "# Connect to the Oracle DB (DVL)\n",
    "connection = username + \"/\" + \"password:\" + connectionpool(environment)\n",
    "con = oracledb.connect(user=username, password=password, port=1521, dsn=connectionpool(environment))\n",
    "\n",
    "print(connection)"
   ]
  },
  {
   "cell_type": "code",
   "execution_count": 9,
   "metadata": {},
   "outputs": [],
   "source": [
    "# Now execute the sqlquery \n",
    "cursor = con.cursor() "
   ]
  },
  {
   "cell_type": "code",
   "execution_count": 10,
   "metadata": {},
   "outputs": [],
   "source": [
    "cursor.arraysize = 10000"
   ]
  },
  {
   "cell_type": "code",
   "execution_count": 11,
   "metadata": {},
   "outputs": [
    {
     "name": "stdout",
     "output_type": "stream",
     "text": [
      "('connection established',)\n"
     ]
    }
   ],
   "source": [
    "# execute SQL \n",
    "cursor.execute(\"select 'connection established' from dual\") \n",
    "for row in cursor: print(row)"
   ]
  },
  {
   "cell_type": "code",
   "execution_count": null,
   "metadata": {},
   "outputs": [],
   "source": [
    "## market selection\n",
    "## GER = '1-GZI'\n",
    "## UK = '1-GZE'\n"
   ]
  },
  {
   "cell_type": "markdown",
   "metadata": {
    "tags": []
   },
   "source": [
    "### UK"
   ]
  },
  {
   "cell_type": "code",
   "execution_count": null,
   "metadata": {},
   "outputs": [],
   "source": [
    "tcmr_base=None\n",
    "dlr_base=None\n",
    "sales_base=None"
   ]
  },
  {
   "cell_type": "code",
   "execution_count": 22,
   "metadata": {},
   "outputs": [
    {
     "name": "stderr",
     "output_type": "stream",
     "text": [
      "C:\\Users\\sknecht\\AppData\\Local\\Temp\\ipykernel_28764\\3776240913.py:4: UserWarning: pandas only supports SQLAlchemy connectable (engine/connection) or database string URI or sqlite3 DBAPI2 connection. Other DBAPI2 objects are not tested. Please consider using SQLAlchemy.\n",
      "  tcmr_base=pd.read_sql(\n"
     ]
    },
    {
     "name": "stdout",
     "output_type": "stream",
     "text": [
      "sql execute time:543.2142488956451\n"
     ]
    }
   ],
   "source": [
    "### Loading TCMR data UK\n",
    "start_time = time.time()\n",
    "\n",
    "tcmr_base=pd.read_sql(\n",
    "    '''select \n",
    "    dtc.agree_num as \"ref_num\",\n",
    "    ftph.updated_sbl as \"tcmr_updated\",\n",
    "    ftph.status as \"tcmr_pw_status\",\n",
    "    ftph.renewal_type as \"tcmr_type\",\n",
    "    ftph.tcmr_lead_stat as \"tcmr_lead\",\n",
    "    ftph.payment_walk as \"payment_walk\",\n",
    "    ddl.dlr_code as \"crnt_dlr_code\",\n",
    "    ddl.dlr_name as \"crnt_dlr_name\"\n",
    "from dwh.fact_tcmr_contract ftc\n",
    "    join dwh.dim_tcmr_contract dtc\n",
    "        on ftc.tcmr_contract_sk = dtc.tcmr_contract_sk\n",
    "    left join dwh.FACT_TCMR_PAYMENT_HIST ftph\n",
    "        on dtc.tcmr_contract_sk = ftph.tcmr_contract_sk\n",
    "    left join dwh.dim_tcmr_contract dtc\n",
    "        on ftph.tcmr_contract_sk = dtc.tcmr_contract_sk\n",
    "    join dwh.DIM_DLR ddl\n",
    "        on ftc.dlr_sk = ddl.dlr_sk\n",
    "where\n",
    "    1 = 1\n",
    "    and ftc.tech_bu_id = '1-GZE'\n",
    "''', con)\n",
    "\n",
    "end_time = time.time()\n",
    "print(\"sql execute time:%s\" % (end_time - start_time))\n",
    "\n",
    "tcmr_base = tcmr_base.sort_values('tcmr_updated', ascending=False).drop_duplicates('ref_num').sort_index()"
   ]
  },
  {
   "cell_type": "code",
   "execution_count": 23,
   "metadata": {},
   "outputs": [
    {
     "name": "stderr",
     "output_type": "stream",
     "text": [
      "C:\\Users\\sknecht\\AppData\\Local\\Temp\\ipykernel_28764\\4185893535.py:4: UserWarning: pandas only supports SQLAlchemy connectable (engine/connection) or database string URI or sqlite3 DBAPI2 connection. Other DBAPI2 objects are not tested. Please consider using SQLAlchemy.\n",
      "  dlr_base=pd.read_sql('''select\n"
     ]
    },
    {
     "name": "stdout",
     "output_type": "stream",
     "text": [
      "sql execute time:0.22063851356506348\n"
     ]
    }
   ],
   "source": [
    "### Loading dlr data\n",
    "start_time = time.time()\n",
    "\n",
    "dlr_base=pd.read_sql('''select \n",
    "    ddl.dlr_code as \"dlr_code\",\n",
    "    ddl.dlr_name as \"dlr_name\",\n",
    "    ddl.dlr_status as \"dlr_status\",\n",
    "    ddl.dlr_sales_district as \"mazda_zone\",\n",
    "    ddl.dlr_bank_district as \"bank_zone\",\n",
    "    ddl.DLR_SALES_ALLOW_ORDER_FLAG as \"sales_flag\"\n",
    "from dwh.DIM_DLR ddl\n",
    "where \n",
    "    1 = 1\n",
    "    and ddl.dlr_dist_code = 'MMUK'\n",
    "    and ddl.dlr_sales_district is not null\n",
    "''', con)\n",
    "\n",
    "end_time = time.time()\n",
    "print(\"sql execute time:%s\" % (end_time - start_time))"
   ]
  },
  {
   "cell_type": "code",
   "execution_count": 24,
   "metadata": {},
   "outputs": [
    {
     "name": "stderr",
     "output_type": "stream",
     "text": [
      "C:\\Users\\sknecht\\AppData\\Local\\Temp\\ipykernel_28764\\4051197299.py:5: UserWarning: pandas only supports SQLAlchemy connectable (engine/connection) or database string URI or sqlite3 DBAPI2 connection. Other DBAPI2 objects are not tested. Please consider using SQLAlchemy.\n",
      "  sales_base=pd.read_sql('''select\n"
     ]
    },
    {
     "name": "stdout",
     "output_type": "stream",
     "text": [
      "sql execute time:153.91302728652954\n"
     ]
    }
   ],
   "source": [
    "#download sales data\n",
    "\n",
    "start_time = time.time()\n",
    "\n",
    "sales_base=pd.read_sql('''select \n",
    "    dcc.con_id as \"Contact Row ID\",\n",
    "    fcs.tech_accnt_id as \"Account Row ID\",\n",
    "    dcc.first_name as \"First Name\",\n",
    "    dcc.last_name as \"Last Name\",\n",
    "    dcc.date_of_birth as \"Birthday\",\n",
    "    dcc.address_line_1 as \"Street Address\",\n",
    "    dcc.city as \"City\",\n",
    "    dcc.post_code as \"Postal Code\",\n",
    "    dcc.country as \"Country\",\n",
    "    dcc.phone_private as \"Private Phone #\",\n",
    "    dcc.phone_work as \"Business Phone #\",\n",
    "    dcc.phone_mobile as \"Cell Phone #\",\n",
    "    dcc.email_private as \"Private Email\",\n",
    "    dcc.email_work as \"Business Email\",\n",
    "    dca.account_name as \"Account Name\",\n",
    "    dca.addr as \"Street Address.1\",\n",
    "    dca.email_1 as \"BBusiness Email\",\n",
    "    dca.email_2 as \"BPrivate Email\",\n",
    "    dca.city as \"City.1\",\n",
    "    dca.zipcode as \"Postal Code.1\",\n",
    "    dca.county as \"County.1\",\n",
    "    dlr.dlr_code as \"Dealer #\",\n",
    "    dlr.dlr_name as \"Dealer Name\",\n",
    "    dlr.dlr_country_name as \"Dealer_Country_I\",\n",
    "    fcs.tech_sale_dt as \"Sale Date\",\n",
    "    fcs.tech_vin_cd as \"VIN\",\n",
    "    dc.lcns_num as \"Registration #\",\n",
    "    dc.registered_dt as \"Registration Date\",\n",
    "    dc.model_cd as \"Model_I\",\n",
    "    dvm.veh_mdl_product_code as \"Model Number\",\n",
    "    dcs.sale_class_cd as \"New/Used/Demo\",\n",
    "    dc.fuel_cd as \"Fuel\"\n",
    "from dwh.fact_car_sales fcs\n",
    "    join dwh.dim_car_sales dcs\n",
    "        on fcs.car_sale_sk = dcs.car_sale_sk\n",
    "    join dwh.dim_dist dd\n",
    "        on fcs.dist_sk = dd.dist_sk\n",
    "    join dwh.dim_car dc\n",
    "        on fcs.car_sk = dc.car_sk\n",
    "    join dwh.DIM_DLR dlr\n",
    "        on fcs.dlr_sk = dlr.dlr_sk\n",
    "    join dwh.DIM_VEH_MODEL dvm\n",
    "        on dvm.veh_mdl_sk =  dc.veh_mdl_sk\n",
    "    join dwh.dim_customer_contact dcc\n",
    "        on fcs.customer_contact_owner_sk = dcc.customer_contact_sk\n",
    "    join dwh.dim_customer_account dca\n",
    "        on fcs.customer_account_sk = dca.customer_account_sk\n",
    "    where \n",
    "    1 = 1\n",
    "    and (dca.tech_bu_id = '1-GZE' or dcc.tech_bu_id = '1-GZE')\n",
    "    and dc.make_cd = 'Mazda'\n",
    "    and fcs.cal_sale_sk >= 20140601\n",
    "    and dc.serial_num is not null\n",
    "    and dcs.sale_class_cd is not null\n",
    "    and (dcc.con_id is not null or fcs.tech_accnt_id is not null)\n",
    "    ''', con)\n",
    "\n",
    "end_time = time.time()\n",
    "print(\"sql execute time:%s\" % (end_time - start_time))"
   ]
  },
  {
   "cell_type": "code",
   "execution_count": 25,
   "metadata": {},
   "outputs": [],
   "source": [
    "import os\n",
    "path = r'C:\\\\Data Analytics\\\\Renewals Dashboard - Sales data\\\\'\n",
    "os.makedirs(path, exist_ok=True)"
   ]
  },
  {
   "cell_type": "code",
   "execution_count": 28,
   "metadata": {},
   "outputs": [],
   "source": [
    "tcmr_base.to_csv(r'C:\\\\Data Analytics\\\\Renewals Dashboard - Sales data\\\\UKtcmr_base.csv', index = False, encoding = 'utf-8-sig')\n",
    "dlr_base.to_csv(r'C:\\\\Data Analytics\\\\Renewals Dashboard - Sales data\\\\UKdlr_base.csv', index = False, encoding = 'utf-8-sig')\n",
    "sales_base.to_csv(r'C:\\\\Data Analytics\\\\Renewals Dashboard - Sales data\\\\UKsales_base.csv', index = False, encoding = 'utf-8-sig')"
   ]
  },
  {
   "cell_type": "markdown",
   "metadata": {
    "jp-MarkdownHeadingCollapsed": true,
    "tags": []
   },
   "source": [
    "### Germany"
   ]
  },
  {
   "cell_type": "code",
   "execution_count": null,
   "metadata": {},
   "outputs": [],
   "source": [
    "tcmr_base=None\n",
    "dlr_base=None\n",
    "sales_base=None"
   ]
  },
  {
   "cell_type": "code",
   "execution_count": 29,
   "metadata": {},
   "outputs": [
    {
     "name": "stderr",
     "output_type": "stream",
     "text": [
      "C:\\Users\\sknecht\\AppData\\Local\\Temp\\ipykernel_28764\\2819601676.py:4: UserWarning: pandas only supports SQLAlchemy connectable (engine/connection) or database string URI or sqlite3 DBAPI2 connection. Other DBAPI2 objects are not tested. Please consider using SQLAlchemy.\n",
      "  tcmr_base=pd.read_sql(\n"
     ]
    },
    {
     "name": "stdout",
     "output_type": "stream",
     "text": [
      "sql execute time:821.0267267227173\n"
     ]
    }
   ],
   "source": [
    "### Loading TCMR data Ger\n",
    "start_time = time.time()\n",
    "\n",
    "tcmr_base=pd.read_sql(\n",
    "    '''select \n",
    "    dtc.agree_num as \"ref_num\",\n",
    "    ftph.updated_sbl as \"tcmr_updated\",\n",
    "    ftph.status as \"tcmr_pw_status\",\n",
    "    ftph.renewal_type as \"tcmr_type\",\n",
    "    ftph.tcmr_lead_stat as \"tcmr_lead\",\n",
    "    ftph.payment_walk as \"payment_walk\",\n",
    "    ddl.dlr_code as \"crnt_dlr_code\",\n",
    "    ddl.dlr_name as \"crnt_dlr_name\"\n",
    "from dwh.fact_tcmr_contract ftc\n",
    "    join dwh.dim_tcmr_contract dtc\n",
    "        on ftc.tcmr_contract_sk = dtc.tcmr_contract_sk\n",
    "    left join dwh.FACT_TCMR_PAYMENT_HIST ftph\n",
    "        on dtc.tcmr_contract_sk = ftph.tcmr_contract_sk\n",
    "    left join dwh.dim_tcmr_contract dtc\n",
    "        on ftph.tcmr_contract_sk = dtc.tcmr_contract_sk\n",
    "    join dwh.DIM_DLR ddl\n",
    "        on ftc.dlr_sk = ddl.dlr_sk\n",
    "where\n",
    "    1 = 1\n",
    "    and ftc.tech_bu_id = '1-GZI'\n",
    "''', con)\n",
    "\n",
    "end_time = time.time()\n",
    "print(\"sql execute time:%s\" % (end_time - start_time))\n",
    "\n",
    "tcmr_base = tcmr_base.sort_values('tcmr_updated', ascending=False).drop_duplicates('ref_num').sort_index()"
   ]
  },
  {
   "cell_type": "code",
   "execution_count": 30,
   "metadata": {},
   "outputs": [
    {
     "name": "stderr",
     "output_type": "stream",
     "text": [
      "C:\\Users\\sknecht\\AppData\\Local\\Temp\\ipykernel_28764\\420099745.py:4: UserWarning: pandas only supports SQLAlchemy connectable (engine/connection) or database string URI or sqlite3 DBAPI2 connection. Other DBAPI2 objects are not tested. Please consider using SQLAlchemy.\n",
      "  dlr_base=pd.read_sql('''select\n"
     ]
    },
    {
     "name": "stdout",
     "output_type": "stream",
     "text": [
      "sql execute time:0.41649580001831055\n"
     ]
    }
   ],
   "source": [
    "### Loading dlr data\n",
    "start_time = time.time()\n",
    "\n",
    "dlr_base=pd.read_sql('''select \n",
    "    ddl.dlr_code as \"dlr_code\",\n",
    "    ddl.dlr_name as \"dlr_name\",\n",
    "    ddl.dlr_status as \"dlr_status\",\n",
    "    ddl.dlr_sales_district as \"mazda_zone\",\n",
    "    ddl.dlr_bank_district as \"bank_zone\",\n",
    "    ddl.DLR_SALES_ALLOW_ORDER_FLAG as \"sales_flag\"\n",
    "from dwh.DIM_DLR ddl\n",
    "where \n",
    "    1 = 1\n",
    "    and ddl.dlr_dist_code = 'MMD'\n",
    "    and ddl.dlr_sales_district is not null\n",
    "''', con)\n",
    "\n",
    "end_time = time.time()\n",
    "print(\"sql execute time:%s\" % (end_time - start_time))"
   ]
  },
  {
   "cell_type": "code",
   "execution_count": 31,
   "metadata": {},
   "outputs": [
    {
     "name": "stderr",
     "output_type": "stream",
     "text": [
      "C:\\Users\\sknecht\\AppData\\Local\\Temp\\ipykernel_28764\\3909614525.py:5: UserWarning: pandas only supports SQLAlchemy connectable (engine/connection) or database string URI or sqlite3 DBAPI2 connection. Other DBAPI2 objects are not tested. Please consider using SQLAlchemy.\n",
      "  sales_base=pd.read_sql('''select\n"
     ]
    },
    {
     "name": "stdout",
     "output_type": "stream",
     "text": [
      "sql execute time:265.6879403591156\n"
     ]
    }
   ],
   "source": [
    "#download sales data\n",
    "\n",
    "start_time = time.time()\n",
    "\n",
    "sales_base=pd.read_sql('''select \n",
    "    dcc.con_id as \"Contact Row ID\",\n",
    "    fcs.tech_accnt_id as \"Account Row ID\",\n",
    "    dcc.first_name as \"First Name\",\n",
    "    dcc.last_name as \"Last Name\",\n",
    "    dcc.date_of_birth as \"Birthday\",\n",
    "    dcc.address_line_1 as \"Street Address\",\n",
    "    dcc.city as \"City\",\n",
    "    dcc.post_code as \"Postal Code\",\n",
    "    dcc.country as \"Country\",\n",
    "    dcc.phone_private as \"Private Phone #\",\n",
    "    dcc.phone_work as \"Business Phone #\",\n",
    "    dcc.phone_mobile as \"Cell Phone #\",\n",
    "    dcc.email_private as \"Private Email\",\n",
    "    dcc.email_work as \"Business Email\",\n",
    "    dca.account_name as \"Account Name\",\n",
    "    dca.addr as \"Street Address.1\",\n",
    "    dca.email_1 as \"BBusiness Email\",\n",
    "    dca.email_2 as \"BPrivate Email\",\n",
    "    dca.city as \"City.1\",\n",
    "    dca.zipcode as \"Postal Code.1\",\n",
    "    dca.county as \"County.1\",\n",
    "    dlr.dlr_code as \"Dealer #\",\n",
    "    dlr.dlr_name as \"Dealer Name\",\n",
    "    dlr.dlr_country_name as \"Dealer_Country_I\",\n",
    "    fcs.tech_sale_dt as \"Sale Date\",\n",
    "    fcs.tech_vin_cd as \"VIN\",\n",
    "    dc.lcns_num as \"Registration #\",\n",
    "    dc.registered_dt as \"Registration Date\",\n",
    "    dc.model_cd as \"Model_I\",\n",
    "    dvm.veh_mdl_product_code as \"Model Number\",\n",
    "    dcs.sale_class_cd as \"New/Used/Demo\",\n",
    "    dc.fuel_cd as \"Fuel\"\n",
    "from dwh.fact_car_sales fcs\n",
    "    join dwh.dim_car_sales dcs\n",
    "        on fcs.car_sale_sk = dcs.car_sale_sk\n",
    "    join dwh.dim_dist dd\n",
    "        on fcs.dist_sk = dd.dist_sk\n",
    "    join dwh.dim_car dc\n",
    "        on fcs.car_sk = dc.car_sk\n",
    "    join dwh.DIM_DLR dlr\n",
    "        on fcs.dlr_sk = dlr.dlr_sk\n",
    "    join dwh.DIM_VEH_MODEL dvm\n",
    "        on dvm.veh_mdl_sk =  dc.veh_mdl_sk\n",
    "    join dwh.dim_customer_contact dcc\n",
    "        on fcs.customer_contact_owner_sk = dcc.customer_contact_sk\n",
    "    join dwh.dim_customer_account dca\n",
    "        on fcs.customer_account_sk = dca.customer_account_sk\n",
    "    where \n",
    "    1 = 1\n",
    "    and (dca.tech_bu_id = '1-GZI' or dcc.tech_bu_id = '1-GZI')\n",
    "    and dc.make_cd = 'Mazda'\n",
    "    and fcs.cal_sale_sk >= 20140601\n",
    "    and dc.serial_num is not null\n",
    "    and dcs.sale_class_cd is not null\n",
    "    and (dcc.con_id is not null or fcs.tech_accnt_id is not null)\n",
    "    ''', con)\n",
    "\n",
    "end_time = time.time()\n",
    "print(\"sql execute time:%s\" % (end_time - start_time))"
   ]
  },
  {
   "cell_type": "code",
   "execution_count": 32,
   "metadata": {},
   "outputs": [],
   "source": [
    "tcmr_base.to_csv(r'C:\\\\Data Analytics\\\\Renewals Dashboard - Sales data\\\\GERtcmr_base.csv', index = False, encoding = 'utf-8-sig')\n",
    "dlr_base.to_csv(r'C:\\\\Data Analytics\\\\Renewals Dashboard - Sales data\\\\GERdlr_base.csv', index = False, encoding = 'utf-8-sig')\n",
    "sales_base.to_csv(r'C:\\\\Data Analytics\\\\Renewals Dashboard - Sales data\\\\GERsales_base.csv', index = False, encoding = 'utf-8-sig')"
   ]
  },
  {
   "cell_type": "markdown",
   "metadata": {
    "jp-MarkdownHeadingCollapsed": true,
    "tags": []
   },
   "source": [
    "### Switzerland"
   ]
  },
  {
   "cell_type": "code",
   "execution_count": null,
   "metadata": {},
   "outputs": [],
   "source": [
    "tcmr_base=None\n",
    "dlr_base=None\n",
    "sales_base=None"
   ]
  },
  {
   "cell_type": "code",
   "execution_count": 33,
   "metadata": {},
   "outputs": [
    {
     "name": "stderr",
     "output_type": "stream",
     "text": [
      "C:\\Users\\sknecht\\AppData\\Local\\Temp\\ipykernel_28764\\4264391750.py:4: UserWarning: pandas only supports SQLAlchemy connectable (engine/connection) or database string URI or sqlite3 DBAPI2 connection. Other DBAPI2 objects are not tested. Please consider using SQLAlchemy.\n",
      "  tcmr_base=pd.read_sql(\n"
     ]
    },
    {
     "name": "stdout",
     "output_type": "stream",
     "text": [
      "sql execute time:68.2197413444519\n"
     ]
    }
   ],
   "source": [
    "### Loading TCMR data Ger\n",
    "start_time = time.time()\n",
    "\n",
    "tcmr_base=pd.read_sql(\n",
    "    '''select \n",
    "    dtc.agree_num as \"ref_num\",\n",
    "    ftph.updated_sbl as \"tcmr_updated\",\n",
    "    ftph.status as \"tcmr_pw_status\",\n",
    "    ftph.renewal_type as \"tcmr_type\",\n",
    "    ftph.tcmr_lead_stat as \"tcmr_lead\",\n",
    "    ftph.payment_walk as \"payment_walk\",\n",
    "    ddl.dlr_code as \"crnt_dlr_code\",\n",
    "    ddl.dlr_name as \"crnt_dlr_name\"\n",
    "from dwh.fact_tcmr_contract ftc\n",
    "    join dwh.dim_tcmr_contract dtc\n",
    "        on ftc.tcmr_contract_sk = dtc.tcmr_contract_sk\n",
    "    left join dwh.FACT_TCMR_PAYMENT_HIST ftph\n",
    "        on dtc.tcmr_contract_sk = ftph.tcmr_contract_sk\n",
    "    left join dwh.dim_tcmr_contract dtc\n",
    "        on ftph.tcmr_contract_sk = dtc.tcmr_contract_sk\n",
    "    join dwh.DIM_DLR ddl\n",
    "        on ftc.dlr_sk = ddl.dlr_sk\n",
    "where\n",
    "    1 = 1\n",
    "    and ftc.tech_bu_id = '1-8PMCW'\n",
    "''', con)\n",
    "\n",
    "end_time = time.time()\n",
    "print(\"sql execute time:%s\" % (end_time - start_time))\n",
    "\n",
    "tcmr_base = tcmr_base.sort_values('tcmr_updated', ascending=False).drop_duplicates('ref_num').sort_index()"
   ]
  },
  {
   "cell_type": "code",
   "execution_count": 34,
   "metadata": {},
   "outputs": [
    {
     "name": "stdout",
     "output_type": "stream",
     "text": [
      "sql execute time:0.1143791675567627\n"
     ]
    },
    {
     "name": "stderr",
     "output_type": "stream",
     "text": [
      "C:\\Users\\sknecht\\AppData\\Local\\Temp\\ipykernel_28764\\893207345.py:4: UserWarning: pandas only supports SQLAlchemy connectable (engine/connection) or database string URI or sqlite3 DBAPI2 connection. Other DBAPI2 objects are not tested. Please consider using SQLAlchemy.\n",
      "  dlr_base=pd.read_sql('''select\n"
     ]
    }
   ],
   "source": [
    "### Loading dlr data\n",
    "start_time = time.time()\n",
    "\n",
    "dlr_base=pd.read_sql('''select \n",
    "    ddl.dlr_code as \"dlr_code\",\n",
    "    ddl.dlr_name as \"dlr_name\",\n",
    "    ddl.dlr_status as \"dlr_status\",\n",
    "    ddl.dlr_sales_district as \"mazda_zone\",\n",
    "    ddl.dlr_bank_district as \"bank_zone\",\n",
    "    ddl.DLR_SALES_ALLOW_ORDER_FLAG as \"sales_flag\"\n",
    "from dwh.DIM_DLR ddl\n",
    "where \n",
    "    1 = 1\n",
    "    and ddl.dlr_dist_code = 'MS'\n",
    "    and ddl.dlr_sales_district is not null\n",
    "''', con)\n",
    "\n",
    "end_time = time.time()\n",
    "print(\"sql execute time:%s\" % (end_time - start_time))"
   ]
  },
  {
   "cell_type": "code",
   "execution_count": 35,
   "metadata": {},
   "outputs": [
    {
     "name": "stderr",
     "output_type": "stream",
     "text": [
      "C:\\Users\\sknecht\\AppData\\Local\\Temp\\ipykernel_28764\\457636194.py:5: UserWarning: pandas only supports SQLAlchemy connectable (engine/connection) or database string URI or sqlite3 DBAPI2 connection. Other DBAPI2 objects are not tested. Please consider using SQLAlchemy.\n",
      "  sales_base=pd.read_sql('''select\n"
     ]
    },
    {
     "name": "stdout",
     "output_type": "stream",
     "text": [
      "sql execute time:45.01234269142151\n"
     ]
    }
   ],
   "source": [
    "#download sales data\n",
    "\n",
    "start_time = time.time()\n",
    "\n",
    "sales_base=pd.read_sql('''select \n",
    "    dcc.con_id as \"Contact Row ID\",\n",
    "    fcs.tech_accnt_id as \"Account Row ID\",\n",
    "    dcc.first_name as \"First Name\",\n",
    "    dcc.last_name as \"Last Name\",\n",
    "    dcc.date_of_birth as \"Birthday\",\n",
    "    dcc.address_line_1 as \"Street Address\",\n",
    "    dcc.city as \"City\",\n",
    "    dcc.post_code as \"Postal Code\",\n",
    "    dcc.country as \"Country\",\n",
    "    dcc.phone_private as \"Private Phone #\",\n",
    "    dcc.phone_work as \"Business Phone #\",\n",
    "    dcc.phone_mobile as \"Cell Phone #\",\n",
    "    dcc.email_private as \"Private Email\",\n",
    "    dcc.email_work as \"Business Email\",\n",
    "    dca.account_name as \"Account Name\",\n",
    "    dca.addr as \"Street Address.1\",\n",
    "    dca.email_1 as \"BBusiness Email\",\n",
    "    dca.email_2 as \"BPrivate Email\",\n",
    "    dca.city as \"City.1\",\n",
    "    dca.zipcode as \"Postal Code.1\",\n",
    "    dca.county as \"County.1\",\n",
    "    dlr.dlr_code as \"Dealer #\",\n",
    "    dlr.dlr_name as \"Dealer Name\",\n",
    "    dlr.dlr_country_name as \"Dealer_Country_I\",\n",
    "    fcs.tech_sale_dt as \"Sale Date\",\n",
    "    fcs.tech_vin_cd as \"VIN\",\n",
    "    dc.lcns_num as \"Registration #\",\n",
    "    dc.registered_dt as \"Registration Date\",\n",
    "    dc.model_cd as \"Model_I\",\n",
    "    dvm.veh_mdl_product_code as \"Model Number\",\n",
    "    dcs.sale_class_cd as \"New/Used/Demo\",\n",
    "    dc.fuel_cd as \"Fuel\"\n",
    "from dwh.fact_car_sales fcs\n",
    "    join dwh.dim_car_sales dcs\n",
    "        on fcs.car_sale_sk = dcs.car_sale_sk\n",
    "    join dwh.dim_dist dd\n",
    "        on fcs.dist_sk = dd.dist_sk\n",
    "    join dwh.dim_car dc\n",
    "        on fcs.car_sk = dc.car_sk\n",
    "    join dwh.DIM_DLR dlr\n",
    "        on fcs.dlr_sk = dlr.dlr_sk\n",
    "    join dwh.DIM_VEH_MODEL dvm\n",
    "        on dvm.veh_mdl_sk =  dc.veh_mdl_sk\n",
    "    join dwh.dim_customer_contact dcc\n",
    "        on fcs.customer_contact_owner_sk = dcc.customer_contact_sk\n",
    "    join dwh.dim_customer_account dca\n",
    "        on fcs.customer_account_sk = dca.customer_account_sk\n",
    "    where \n",
    "    1 = 1\n",
    "    and (dca.tech_bu_id = '1-8PMCW' or dcc.tech_bu_id = '1-8PMCW')\n",
    "    and dc.make_cd = 'Mazda'\n",
    "    and fcs.cal_sale_sk >= 20140601\n",
    "    and dc.serial_num is not null\n",
    "    and dcs.sale_class_cd is not null\n",
    "    and (dcc.con_id is not null or fcs.tech_accnt_id is not null)\n",
    "    ''', con)\n",
    "\n",
    "end_time = time.time()\n",
    "print(\"sql execute time:%s\" % (end_time - start_time))"
   ]
  },
  {
   "cell_type": "code",
   "execution_count": 36,
   "metadata": {},
   "outputs": [],
   "source": [
    "tcmr_base.to_csv(r'C:\\\\Data Analytics\\\\Renewals Dashboard - Sales data\\\\CHtcmr_base.csv', index = False, encoding = 'utf-8-sig')\n",
    "dlr_base.to_csv(r'C:\\\\Data Analytics\\\\Renewals Dashboard - Sales data\\\\CHdlr_base.csv', index = False, encoding = 'utf-8-sig')\n",
    "sales_base.to_csv(r'C:\\\\Data Analytics\\\\Renewals Dashboard - Sales data\\\\CHsales_base.csv', index = False, encoding = 'utf-8-sig')"
   ]
  },
  {
   "cell_type": "markdown",
   "metadata": {
    "jp-MarkdownHeadingCollapsed": true,
    "tags": []
   },
   "source": [
    "### Spain"
   ]
  },
  {
   "cell_type": "code",
   "execution_count": null,
   "metadata": {},
   "outputs": [],
   "source": [
    "tcmr_base=None\n",
    "dlr_base=None\n",
    "sales_base=None"
   ]
  },
  {
   "cell_type": "code",
   "execution_count": 37,
   "metadata": {},
   "outputs": [
    {
     "name": "stderr",
     "output_type": "stream",
     "text": [
      "C:\\Users\\sknecht\\AppData\\Local\\Temp\\ipykernel_28764\\3309356607.py:4: UserWarning: pandas only supports SQLAlchemy connectable (engine/connection) or database string URI or sqlite3 DBAPI2 connection. Other DBAPI2 objects are not tested. Please consider using SQLAlchemy.\n",
      "  tcmr_base=pd.read_sql(\n"
     ]
    },
    {
     "name": "stdout",
     "output_type": "stream",
     "text": [
      "sql execute time:139.6901924610138\n"
     ]
    }
   ],
   "source": [
    "### Loading TCMR data Spain\n",
    "start_time = time.time()\n",
    "\n",
    "tcmr_base=pd.read_sql(\n",
    "    '''select \n",
    "    dtc.agree_num as \"ref_num\",\n",
    "    ftph.updated_sbl as \"tcmr_updated\",\n",
    "    ftph.status as \"tcmr_pw_status\",\n",
    "    ftph.renewal_type as \"tcmr_type\",\n",
    "    ftph.tcmr_lead_stat as \"tcmr_lead\",\n",
    "    ftph.payment_walk as \"payment_walk\",\n",
    "    ddl.dlr_code as \"crnt_dlr_code\",\n",
    "    ddl.dlr_name as \"crnt_dlr_name\"\n",
    "from dwh.fact_tcmr_contract ftc\n",
    "    join dwh.dim_tcmr_contract dtc\n",
    "        on ftc.tcmr_contract_sk = dtc.tcmr_contract_sk\n",
    "    left join dwh.FACT_TCMR_PAYMENT_HIST ftph\n",
    "        on dtc.tcmr_contract_sk = ftph.tcmr_contract_sk\n",
    "    left join dwh.dim_tcmr_contract dtc\n",
    "        on ftph.tcmr_contract_sk = dtc.tcmr_contract_sk\n",
    "    join dwh.DIM_DLR ddl\n",
    "        on ftc.dlr_sk = ddl.dlr_sk\n",
    "where\n",
    "    1 = 1\n",
    "    and ftc.tech_bu_id = '1-8PMAJ'\n",
    "''', con)\n",
    "\n",
    "end_time = time.time()\n",
    "print(\"sql execute time:%s\" % (end_time - start_time))\n",
    "\n",
    "tcmr_base = tcmr_base.sort_values('tcmr_updated', ascending=False).drop_duplicates('ref_num').sort_index()"
   ]
  },
  {
   "cell_type": "code",
   "execution_count": 38,
   "metadata": {},
   "outputs": [
    {
     "name": "stderr",
     "output_type": "stream",
     "text": [
      "C:\\Users\\sknecht\\AppData\\Local\\Temp\\ipykernel_28764\\1464237243.py:4: UserWarning: pandas only supports SQLAlchemy connectable (engine/connection) or database string URI or sqlite3 DBAPI2 connection. Other DBAPI2 objects are not tested. Please consider using SQLAlchemy.\n",
      "  dlr_base=pd.read_sql('''select\n"
     ]
    },
    {
     "name": "stdout",
     "output_type": "stream",
     "text": [
      "sql execute time:0.2583811283111572\n"
     ]
    }
   ],
   "source": [
    "### Loading dlr data\n",
    "start_time = time.time()\n",
    "\n",
    "dlr_base=pd.read_sql('''select \n",
    "    ddl.dlr_code as \"dlr_code\",\n",
    "    ddl.dlr_name as \"dlr_name\",\n",
    "    ddl.dlr_status as \"dlr_status\",\n",
    "    ddl.dlr_sales_district as \"mazda_zone\",\n",
    "    ddl.dlr_bank_district as \"bank_zone\",\n",
    "    ddl.DLR_SALES_ALLOW_ORDER_FLAG as \"sales_flag\"\n",
    "from dwh.DIM_DLR ddl\n",
    "where \n",
    "    1 = 1\n",
    "    and ddl.dlr_dist_code = 'MAE'\n",
    "    and ddl.dlr_sales_district is not null\n",
    "''', con)\n",
    "\n",
    "end_time = time.time()\n",
    "print(\"sql execute time:%s\" % (end_time - start_time))"
   ]
  },
  {
   "cell_type": "code",
   "execution_count": 39,
   "metadata": {},
   "outputs": [
    {
     "name": "stderr",
     "output_type": "stream",
     "text": [
      "C:\\Users\\sknecht\\AppData\\Local\\Temp\\ipykernel_28764\\495616538.py:5: UserWarning: pandas only supports SQLAlchemy connectable (engine/connection) or database string URI or sqlite3 DBAPI2 connection. Other DBAPI2 objects are not tested. Please consider using SQLAlchemy.\n",
      "  sales_base=pd.read_sql('''select\n"
     ]
    },
    {
     "name": "stdout",
     "output_type": "stream",
     "text": [
      "sql execute time:77.11185908317566\n"
     ]
    }
   ],
   "source": [
    "#download sales data\n",
    "\n",
    "start_time = time.time()\n",
    "\n",
    "sales_base=pd.read_sql('''select \n",
    "    dcc.con_id as \"Contact Row ID\",\n",
    "    fcs.tech_accnt_id as \"Account Row ID\",\n",
    "    dcc.first_name as \"First Name\",\n",
    "    dcc.last_name as \"Last Name\",\n",
    "    dcc.date_of_birth as \"Birthday\",\n",
    "    dcc.address_line_1 as \"Street Address\",\n",
    "    dcc.city as \"City\",\n",
    "    dcc.post_code as \"Postal Code\",\n",
    "    dcc.country as \"Country\",\n",
    "    dcc.phone_private as \"Private Phone #\",\n",
    "    dcc.phone_work as \"Business Phone #\",\n",
    "    dcc.phone_mobile as \"Cell Phone #\",\n",
    "    dcc.email_private as \"Private Email\",\n",
    "    dcc.email_work as \"Business Email\",\n",
    "    dca.account_name as \"Account Name\",\n",
    "    dca.addr as \"Street Address.1\",\n",
    "    dca.email_1 as \"BBusiness Email\",\n",
    "    dca.email_2 as \"BPrivate Email\",\n",
    "    dca.city as \"City.1\",\n",
    "    dca.zipcode as \"Postal Code.1\",\n",
    "    dca.county as \"County.1\",\n",
    "    dlr.dlr_code as \"Dealer #\",\n",
    "    dlr.dlr_name as \"Dealer Name\",\n",
    "    dlr.dlr_country_name as \"Dealer_Country_I\",\n",
    "    fcs.tech_sale_dt as \"Sale Date\",\n",
    "    fcs.tech_vin_cd as \"VIN\",\n",
    "    dc.lcns_num as \"Registration #\",\n",
    "    dc.registered_dt as \"Registration Date\",\n",
    "    dc.model_cd as \"Model_I\",\n",
    "    dvm.veh_mdl_product_code as \"Model Number\",\n",
    "    dcs.sale_class_cd as \"New/Used/Demo\",\n",
    "    dc.fuel_cd as \"Fuel\"\n",
    "from dwh.fact_car_sales fcs\n",
    "    join dwh.dim_car_sales dcs\n",
    "        on fcs.car_sale_sk = dcs.car_sale_sk\n",
    "    join dwh.dim_dist dd\n",
    "        on fcs.dist_sk = dd.dist_sk\n",
    "    join dwh.dim_car dc\n",
    "        on fcs.car_sk = dc.car_sk\n",
    "    join dwh.DIM_DLR dlr\n",
    "        on fcs.dlr_sk = dlr.dlr_sk\n",
    "    join dwh.DIM_VEH_MODEL dvm\n",
    "        on dvm.veh_mdl_sk =  dc.veh_mdl_sk\n",
    "    join dwh.dim_customer_contact dcc\n",
    "        on fcs.customer_contact_owner_sk = dcc.customer_contact_sk\n",
    "    join dwh.dim_customer_account dca\n",
    "        on fcs.customer_account_sk = dca.customer_account_sk\n",
    "    where \n",
    "    1 = 1\n",
    "    and (dca.tech_bu_id = '1-8PMAJ' or dcc.tech_bu_id = '1-8PMAJ')\n",
    "    and dc.make_cd = 'Mazda'\n",
    "    and fcs.cal_sale_sk >= 20140601\n",
    "    and dc.serial_num is not null\n",
    "    and dcs.sale_class_cd is not null\n",
    "    and (dcc.con_id is not null or fcs.tech_accnt_id is not null)\n",
    "    ''', con)\n",
    "\n",
    "end_time = time.time()\n",
    "print(\"sql execute time:%s\" % (end_time - start_time))"
   ]
  },
  {
   "cell_type": "code",
   "execution_count": 40,
   "metadata": {
    "tags": []
   },
   "outputs": [],
   "source": [
    "tcmr_base.to_csv(r'C:\\\\Data Analytics\\\\Renewals Dashboard - Sales data\\\\EStcmr_base.csv', index = False, encoding = 'utf-8-sig')\n",
    "dlr_base.to_csv(r'C:\\\\Data Analytics\\\\Renewals Dashboard - Sales data\\\\ESdlr_base.csv', index = False, encoding = 'utf-8-sig')\n",
    "sales_base.to_csv(r'C:\\\\Data Analytics\\\\Renewals Dashboard - Sales data\\\\ESsales_base.csv', index = False, encoding = 'utf-8-sig')"
   ]
  },
  {
   "cell_type": "markdown",
   "metadata": {},
   "source": [
    "### Italy"
   ]
  },
  {
   "cell_type": "code",
   "execution_count": null,
   "metadata": {},
   "outputs": [],
   "source": [
    "tcmr_base=None\n",
    "dlr_base=None\n",
    "sales_base=None"
   ]
  },
  {
   "cell_type": "code",
   "execution_count": 41,
   "metadata": {},
   "outputs": [
    {
     "name": "stderr",
     "output_type": "stream",
     "text": [
      "C:\\Users\\sknecht\\AppData\\Local\\Temp\\ipykernel_28764\\323868668.py:4: UserWarning: pandas only supports SQLAlchemy connectable (engine/connection) or database string URI or sqlite3 DBAPI2 connection. Other DBAPI2 objects are not tested. Please consider using SQLAlchemy.\n",
      "  tcmr_base=pd.read_sql(\n"
     ]
    },
    {
     "name": "stdout",
     "output_type": "stream",
     "text": [
      "sql execute time:67.42658352851868\n"
     ]
    }
   ],
   "source": [
    "### Loading TCMR data Spain\n",
    "start_time = time.time()\n",
    "\n",
    "tcmr_base=pd.read_sql(\n",
    "    '''select \n",
    "    dtc.agree_num as \"ref_num\",\n",
    "    ftph.updated_sbl as \"tcmr_updated\",\n",
    "    ftph.status as \"tcmr_pw_status\",\n",
    "    ftph.renewal_type as \"tcmr_type\",\n",
    "    ftph.tcmr_lead_stat as \"tcmr_lead\",\n",
    "    ftph.payment_walk as \"payment_walk\",\n",
    "    ddl.dlr_code as \"crnt_dlr_code\",\n",
    "    ddl.dlr_name as \"crnt_dlr_name\"\n",
    "from dwh.fact_tcmr_contract ftc\n",
    "    join dwh.dim_tcmr_contract dtc\n",
    "        on ftc.tcmr_contract_sk = dtc.tcmr_contract_sk\n",
    "    left join dwh.FACT_TCMR_PAYMENT_HIST ftph\n",
    "        on dtc.tcmr_contract_sk = ftph.tcmr_contract_sk\n",
    "    left join dwh.dim_tcmr_contract dtc\n",
    "        on ftph.tcmr_contract_sk = dtc.tcmr_contract_sk\n",
    "    join dwh.DIM_DLR ddl\n",
    "        on ftc.dlr_sk = ddl.dlr_sk\n",
    "where\n",
    "    1 = 1\n",
    "    and ftc.tech_bu_id = '1-8PMDL'\n",
    "''', con)\n",
    "\n",
    "end_time = time.time()\n",
    "print(\"sql execute time:%s\" % (end_time - start_time))\n",
    "\n",
    "tcmr_base = tcmr_base.sort_values('tcmr_updated', ascending=False).drop_duplicates('ref_num').sort_index()"
   ]
  },
  {
   "cell_type": "code",
   "execution_count": 42,
   "metadata": {},
   "outputs": [
    {
     "name": "stdout",
     "output_type": "stream",
     "text": [
      "sql execute time:0.13547229766845703\n"
     ]
    },
    {
     "name": "stderr",
     "output_type": "stream",
     "text": [
      "C:\\Users\\sknecht\\AppData\\Local\\Temp\\ipykernel_28764\\120558498.py:4: UserWarning: pandas only supports SQLAlchemy connectable (engine/connection) or database string URI or sqlite3 DBAPI2 connection. Other DBAPI2 objects are not tested. Please consider using SQLAlchemy.\n",
      "  dlr_base=pd.read_sql('''select\n"
     ]
    }
   ],
   "source": [
    "### Loading dlr data\n",
    "start_time = time.time()\n",
    "\n",
    "dlr_base=pd.read_sql('''select \n",
    "    ddl.dlr_code as \"dlr_code\",\n",
    "    ddl.dlr_name as \"dlr_name\",\n",
    "    ddl.dlr_status as \"dlr_status\",\n",
    "    ddl.dlr_sales_district as \"mazda_zone\",\n",
    "    ddl.dlr_bank_district as \"bank_zone\",\n",
    "    ddl.DLR_SALES_ALLOW_ORDER_FLAG as \"sales_flag\"\n",
    "from dwh.DIM_DLR ddl\n",
    "where \n",
    "    1 = 1\n",
    "    and ddl.dlr_dist_code = 'MMI'\n",
    "    and ddl.dlr_sales_district is not null\n",
    "''', con)\n",
    "\n",
    "end_time = time.time()\n",
    "print(\"sql execute time:%s\" % (end_time - start_time))"
   ]
  },
  {
   "cell_type": "code",
   "execution_count": 43,
   "metadata": {},
   "outputs": [
    {
     "name": "stderr",
     "output_type": "stream",
     "text": [
      "C:\\Users\\sknecht\\AppData\\Local\\Temp\\ipykernel_28764\\4143542672.py:5: UserWarning: pandas only supports SQLAlchemy connectable (engine/connection) or database string URI or sqlite3 DBAPI2 connection. Other DBAPI2 objects are not tested. Please consider using SQLAlchemy.\n",
      "  sales_base=pd.read_sql('''select\n"
     ]
    },
    {
     "name": "stdout",
     "output_type": "stream",
     "text": [
      "sql execute time:92.92764925956726\n"
     ]
    }
   ],
   "source": [
    "#download sales data\n",
    "\n",
    "start_time = time.time()\n",
    "\n",
    "sales_base=pd.read_sql('''select \n",
    "    dcc.con_id as \"Contact Row ID\",\n",
    "    fcs.tech_accnt_id as \"Account Row ID\",\n",
    "    dcc.first_name as \"First Name\",\n",
    "    dcc.last_name as \"Last Name\",\n",
    "    dcc.date_of_birth as \"Birthday\",\n",
    "    dcc.address_line_1 as \"Street Address\",\n",
    "    dcc.city as \"City\",\n",
    "    dcc.post_code as \"Postal Code\",\n",
    "    dcc.country as \"Country\",\n",
    "    dcc.phone_private as \"Private Phone #\",\n",
    "    dcc.phone_work as \"Business Phone #\",\n",
    "    dcc.phone_mobile as \"Cell Phone #\",\n",
    "    dcc.email_private as \"Private Email\",\n",
    "    dcc.email_work as \"Business Email\",\n",
    "    dca.account_name as \"Account Name\",\n",
    "    dca.addr as \"Street Address.1\",\n",
    "    dca.email_1 as \"BBusiness Email\",\n",
    "    dca.email_2 as \"BPrivate Email\",\n",
    "    dca.city as \"City.1\",\n",
    "    dca.zipcode as \"Postal Code.1\",\n",
    "    dca.county as \"County.1\",\n",
    "    dlr.dlr_code as \"Dealer #\",\n",
    "    dlr.dlr_name as \"Dealer Name\",\n",
    "    dlr.dlr_country_name as \"Dealer_Country_I\",\n",
    "    fcs.tech_sale_dt as \"Sale Date\",\n",
    "    fcs.tech_vin_cd as \"VIN\",\n",
    "    dc.lcns_num as \"Registration #\",\n",
    "    dc.registered_dt as \"Registration Date\",\n",
    "    dc.model_cd as \"Model_I\",\n",
    "    dvm.veh_mdl_product_code as \"Model Number\",\n",
    "    dcs.sale_class_cd as \"New/Used/Demo\",\n",
    "    dc.fuel_cd as \"Fuel\"\n",
    "from dwh.fact_car_sales fcs\n",
    "    join dwh.dim_car_sales dcs\n",
    "        on fcs.car_sale_sk = dcs.car_sale_sk\n",
    "    join dwh.dim_dist dd\n",
    "        on fcs.dist_sk = dd.dist_sk\n",
    "    join dwh.dim_car dc\n",
    "        on fcs.car_sk = dc.car_sk\n",
    "    join dwh.DIM_DLR dlr\n",
    "        on fcs.dlr_sk = dlr.dlr_sk\n",
    "    join dwh.DIM_VEH_MODEL dvm\n",
    "        on dvm.veh_mdl_sk =  dc.veh_mdl_sk\n",
    "    join dwh.dim_customer_contact dcc\n",
    "        on fcs.customer_contact_owner_sk = dcc.customer_contact_sk\n",
    "    join dwh.dim_customer_account dca\n",
    "        on fcs.customer_account_sk = dca.customer_account_sk\n",
    "    where \n",
    "    1 = 1\n",
    "    and (dca.tech_bu_id = '1-8PMDL' or dcc.tech_bu_id = '1-8PMDL')\n",
    "    and dc.make_cd = 'Mazda'\n",
    "    and fcs.cal_sale_sk >= 20140601\n",
    "    and dc.serial_num is not null\n",
    "    and dcs.sale_class_cd is not null\n",
    "    and (dcc.con_id is not null or fcs.tech_accnt_id is not null)\n",
    "    ''', con)\n",
    "\n",
    "end_time = time.time()\n",
    "print(\"sql execute time:%s\" % (end_time - start_time))"
   ]
  },
  {
   "cell_type": "code",
   "execution_count": 44,
   "metadata": {},
   "outputs": [],
   "source": [
    "tcmr_base.to_csv(r'C:\\\\Data Analytics\\\\Renewals Dashboard - Sales data\\\\ITtcmr_base.csv', index = False, encoding = 'utf-8-sig')\n",
    "dlr_base.to_csv(r'C:\\\\Data Analytics\\\\Renewals Dashboard - Sales data\\\\ITdlr_base.csv', index = False, encoding = 'utf-8-sig')\n",
    "sales_base.to_csv(r'C:\\\\Data Analytics\\\\Renewals Dashboard - Sales data\\\\ITsales_base.csv', index = False, encoding = 'utf-8-sig')"
   ]
  },
  {
   "cell_type": "markdown",
   "metadata": {},
   "source": [
    "#### France"
   ]
  },
  {
   "cell_type": "code",
   "execution_count": null,
   "metadata": {},
   "outputs": [],
   "source": [
    "tcmr_base=None\n",
    "dlr_base=None\n",
    "sales_base=None"
   ]
  },
  {
   "cell_type": "code",
   "execution_count": 45,
   "metadata": {},
   "outputs": [
    {
     "name": "stderr",
     "output_type": "stream",
     "text": [
      "C:\\Users\\sknecht\\AppData\\Local\\Temp\\ipykernel_28764\\1548607196.py:4: UserWarning: pandas only supports SQLAlchemy connectable (engine/connection) or database string URI or sqlite3 DBAPI2 connection. Other DBAPI2 objects are not tested. Please consider using SQLAlchemy.\n",
      "  tcmr_base=pd.read_sql(\n"
     ]
    },
    {
     "name": "stdout",
     "output_type": "stream",
     "text": [
      "sql execute time:82.64949107170105\n"
     ]
    }
   ],
   "source": [
    "### Loading TCMR data France\n",
    "start_time = time.time()\n",
    "\n",
    "tcmr_base=pd.read_sql(\n",
    "    '''select \n",
    "    dtc.agree_num as \"ref_num\",\n",
    "    ftph.updated_sbl as \"tcmr_updated\",\n",
    "    ftph.status as \"tcmr_pw_status\",\n",
    "    ftph.renewal_type as \"tcmr_type\",\n",
    "    ftph.tcmr_lead_stat as \"tcmr_lead\",\n",
    "    ftph.payment_walk as \"payment_walk\",\n",
    "    ddl.dlr_code as \"crnt_dlr_code\",\n",
    "    ddl.dlr_name as \"crnt_dlr_name\"\n",
    "from dwh.fact_tcmr_contract ftc\n",
    "    join dwh.dim_tcmr_contract dtc\n",
    "        on ftc.tcmr_contract_sk = dtc.tcmr_contract_sk\n",
    "    left join dwh.FACT_TCMR_PAYMENT_HIST ftph\n",
    "        on dtc.tcmr_contract_sk = ftph.tcmr_contract_sk\n",
    "    left join dwh.dim_tcmr_contract dtc\n",
    "        on ftph.tcmr_contract_sk = dtc.tcmr_contract_sk\n",
    "    join dwh.DIM_DLR ddl\n",
    "        on ftc.dlr_sk = ddl.dlr_sk\n",
    "where\n",
    "    1 = 1\n",
    "    and ftc.tech_bu_id = '1-8PM8P'\n",
    "''', con)\n",
    "\n",
    "end_time = time.time()\n",
    "print(\"sql execute time:%s\" % (end_time - start_time))\n",
    "\n",
    "tcmr_base = tcmr_base.sort_values('tcmr_updated', ascending=False).drop_duplicates('ref_num').sort_index()"
   ]
  },
  {
   "cell_type": "code",
   "execution_count": 46,
   "metadata": {},
   "outputs": [
    {
     "name": "stderr",
     "output_type": "stream",
     "text": [
      "C:\\Users\\sknecht\\AppData\\Local\\Temp\\ipykernel_28764\\2620639876.py:4: UserWarning: pandas only supports SQLAlchemy connectable (engine/connection) or database string URI or sqlite3 DBAPI2 connection. Other DBAPI2 objects are not tested. Please consider using SQLAlchemy.\n",
      "  dlr_base=pd.read_sql('''select\n"
     ]
    },
    {
     "name": "stdout",
     "output_type": "stream",
     "text": [
      "sql execute time:4.609524250030518\n"
     ]
    }
   ],
   "source": [
    "### Loading dlr data\n",
    "start_time = time.time()\n",
    "\n",
    "dlr_base=pd.read_sql('''select \n",
    "    ddl.dlr_code as \"dlr_code\",\n",
    "    ddl.dlr_name as \"dlr_name\",\n",
    "    ddl.dlr_status as \"dlr_status\",\n",
    "    ddl.dlr_sales_district as \"mazda_zone\",\n",
    "    ddl.dlr_bank_district as \"bank_zone\",\n",
    "    ddl.DLR_SALES_ALLOW_ORDER_FLAG as \"sales_flag\"\n",
    "from dwh.DIM_DLR ddl\n",
    "where \n",
    "    1 = 1\n",
    "    and ddl.dlr_dist_code = 'MAF'\n",
    "    and ddl.dlr_sales_district is not null\n",
    "''', con)\n",
    "\n",
    "end_time = time.time()\n",
    "print(\"sql execute time:%s\" % (end_time - start_time))"
   ]
  },
  {
   "cell_type": "code",
   "execution_count": 47,
   "metadata": {},
   "outputs": [
    {
     "name": "stderr",
     "output_type": "stream",
     "text": [
      "C:\\Users\\sknecht\\AppData\\Local\\Temp\\ipykernel_28764\\3179698137.py:5: UserWarning: pandas only supports SQLAlchemy connectable (engine/connection) or database string URI or sqlite3 DBAPI2 connection. Other DBAPI2 objects are not tested. Please consider using SQLAlchemy.\n",
      "  sales_base=pd.read_sql('''select\n"
     ]
    },
    {
     "name": "stdout",
     "output_type": "stream",
     "text": [
      "sql execute time:369.835116147995\n"
     ]
    }
   ],
   "source": [
    "#download sales data\n",
    "\n",
    "start_time = time.time()\n",
    "\n",
    "sales_base=pd.read_sql('''select \n",
    "    dcc.con_id as \"Contact Row ID\",\n",
    "    fcs.tech_accnt_id as \"Account Row ID\",\n",
    "    dcc.first_name as \"First Name\",\n",
    "    dcc.last_name as \"Last Name\",\n",
    "    dcc.date_of_birth as \"Birthday\",\n",
    "    dcc.address_line_1 as \"Street Address\",\n",
    "    dcc.city as \"City\",\n",
    "    dcc.post_code as \"Postal Code\",\n",
    "    dcc.country as \"Country\",\n",
    "    dcc.phone_private as \"Private Phone #\",\n",
    "    dcc.phone_work as \"Business Phone #\",\n",
    "    dcc.phone_mobile as \"Cell Phone #\",\n",
    "    dcc.email_private as \"Private Email\",\n",
    "    dcc.email_work as \"Business Email\",\n",
    "    dca.account_name as \"Account Name\",\n",
    "    dca.addr as \"Street Address.1\",\n",
    "    dca.email_1 as \"BBusiness Email\",\n",
    "    dca.email_2 as \"BPrivate Email\",\n",
    "    dca.city as \"City.1\",\n",
    "    dca.zipcode as \"Postal Code.1\",\n",
    "    dca.county as \"County.1\",\n",
    "    dlr.dlr_code as \"Dealer #\",\n",
    "    dlr.dlr_name as \"Dealer Name\",\n",
    "    dlr.dlr_country_name as \"Dealer_Country_I\",\n",
    "    fcs.tech_sale_dt as \"Sale Date\",\n",
    "    fcs.tech_vin_cd as \"VIN\",\n",
    "    dc.lcns_num as \"Registration #\",\n",
    "    dc.registered_dt as \"Registration Date\",\n",
    "    dc.model_cd as \"Model_I\",\n",
    "    dvm.veh_mdl_product_code as \"Model Number\",\n",
    "    dcs.sale_class_cd as \"New/Used/Demo\",\n",
    "    dc.fuel_cd as \"Fuel\"\n",
    "from dwh.fact_car_sales fcs\n",
    "    join dwh.dim_car_sales dcs\n",
    "        on fcs.car_sale_sk = dcs.car_sale_sk\n",
    "    join dwh.dim_dist dd\n",
    "        on fcs.dist_sk = dd.dist_sk\n",
    "    join dwh.dim_car dc\n",
    "        on fcs.car_sk = dc.car_sk\n",
    "    join dwh.DIM_DLR dlr\n",
    "        on fcs.dlr_sk = dlr.dlr_sk\n",
    "    join dwh.DIM_VEH_MODEL dvm\n",
    "        on dvm.veh_mdl_sk =  dc.veh_mdl_sk\n",
    "    join dwh.dim_customer_contact dcc\n",
    "        on fcs.customer_contact_owner_sk = dcc.customer_contact_sk\n",
    "    join dwh.dim_customer_account dca\n",
    "        on fcs.customer_account_sk = dca.customer_account_sk\n",
    "    where \n",
    "    1 = 1\n",
    "    and (dca.tech_bu_id = '1-8PM8P' or dcc.tech_bu_id = '1-8PM8P')\n",
    "    and dc.make_cd = 'Mazda'\n",
    "    and fcs.cal_sale_sk >= 20140601\n",
    "    and dc.serial_num is not null\n",
    "    and dcs.sale_class_cd is not null\n",
    "    and (dcc.con_id is not null or fcs.tech_accnt_id is not null)\n",
    "    ''', con)\n",
    "\n",
    "end_time = time.time()\n",
    "print(\"sql execute time:%s\" % (end_time - start_time))"
   ]
  },
  {
   "cell_type": "code",
   "execution_count": 48,
   "metadata": {},
   "outputs": [],
   "source": [
    "tcmr_base.to_csv(r'C:\\\\Data Analytics\\\\Renewals Dashboard - Sales data\\\\FRtcmr_base.csv', index = False, encoding = 'utf-8-sig')\n",
    "dlr_base.to_csv(r'C:\\\\Data Analytics\\\\Renewals Dashboard - Sales data\\\\FRdlr_base.csv', index = False, encoding = 'utf-8-sig')\n",
    "sales_base.to_csv(r'C:\\\\Data Analytics\\\\Renewals Dashboard - Sales data\\\\FRsales_base.csv', index = False, encoding = 'utf-8-sig')"
   ]
  },
  {
   "cell_type": "markdown",
   "metadata": {},
   "source": [
    "### Poland"
   ]
  },
  {
   "cell_type": "code",
   "execution_count": 12,
   "metadata": {},
   "outputs": [],
   "source": [
    "tcmr_base=None\n",
    "dlr_base=None\n",
    "sales_base=None"
   ]
  },
  {
   "cell_type": "code",
   "execution_count": 49,
   "metadata": {},
   "outputs": [
    {
     "name": "stderr",
     "output_type": "stream",
     "text": [
      "C:\\Users\\sknecht\\AppData\\Local\\Temp\\ipykernel_28764\\2529471146.py:4: UserWarning: pandas only supports SQLAlchemy connectable (engine/connection) or database string URI or sqlite3 DBAPI2 connection. Other DBAPI2 objects are not tested. Please consider using SQLAlchemy.\n",
      "  tcmr_base=pd.read_sql(\n"
     ]
    },
    {
     "name": "stdout",
     "output_type": "stream",
     "text": [
      "sql execute time:91.48964095115662\n"
     ]
    }
   ],
   "source": [
    "### Loading TCMR data France\n",
    "start_time = time.time()\n",
    "\n",
    "tcmr_base=pd.read_sql(\n",
    "    '''select \n",
    "    dtc.agree_num as \"ref_num\",\n",
    "    ftph.updated_sbl as \"tcmr_updated\",\n",
    "    ftph.status as \"tcmr_pw_status\",\n",
    "    ftph.renewal_type as \"tcmr_type\",\n",
    "    ftph.tcmr_lead_stat as \"tcmr_lead\",\n",
    "    ftph.payment_walk as \"payment_walk\",\n",
    "    ddl.dlr_code as \"crnt_dlr_code\",\n",
    "    ddl.dlr_name as \"crnt_dlr_name\"\n",
    "from dwh.fact_tcmr_contract ftc\n",
    "    join dwh.dim_tcmr_contract dtc\n",
    "        on ftc.tcmr_contract_sk = dtc.tcmr_contract_sk\n",
    "    left join dwh.FACT_TCMR_PAYMENT_HIST ftph\n",
    "        on dtc.tcmr_contract_sk = ftph.tcmr_contract_sk\n",
    "    left join dwh.dim_tcmr_contract dtc\n",
    "        on ftph.tcmr_contract_sk = dtc.tcmr_contract_sk\n",
    "    join dwh.DIM_DLR ddl\n",
    "        on ftc.dlr_sk = ddl.dlr_sk\n",
    "where\n",
    "    1 = 1\n",
    "    and ftc.tech_bu_id = '1-8PMCM'\n",
    "''', con)\n",
    "\n",
    "end_time = time.time()\n",
    "print(\"sql execute time:%s\" % (end_time - start_time))\n",
    "\n",
    "tcmr_base = tcmr_base.sort_values('tcmr_updated', ascending=False).drop_duplicates('ref_num').sort_index()"
   ]
  },
  {
   "cell_type": "code",
   "execution_count": 50,
   "metadata": {},
   "outputs": [
    {
     "name": "stdout",
     "output_type": "stream",
     "text": [
      "sql execute time:0.12750768661499023\n"
     ]
    },
    {
     "name": "stderr",
     "output_type": "stream",
     "text": [
      "C:\\Users\\sknecht\\AppData\\Local\\Temp\\ipykernel_28764\\202411213.py:4: UserWarning: pandas only supports SQLAlchemy connectable (engine/connection) or database string URI or sqlite3 DBAPI2 connection. Other DBAPI2 objects are not tested. Please consider using SQLAlchemy.\n",
      "  dlr_base=pd.read_sql('''select\n"
     ]
    }
   ],
   "source": [
    "### Loading dlr data\n",
    "start_time = time.time()\n",
    "\n",
    "dlr_base=pd.read_sql('''select \n",
    "    ddl.dlr_code as \"dlr_code\",\n",
    "    ddl.dlr_name as \"dlr_name\",\n",
    "    ddl.dlr_status as \"dlr_status\",\n",
    "    ddl.dlr_sales_district as \"mazda_zone\",\n",
    "    ddl.dlr_bank_district as \"bank_zone\",\n",
    "    ddl.DLR_SALES_ALLOW_ORDER_FLAG as \"sales_flag\"\n",
    "from dwh.DIM_DLR ddl\n",
    "where \n",
    "    1 = 1\n",
    "    and ddl.dlr_dist_code = 'MMPOL'\n",
    "    and ddl.dlr_sales_district is not null\n",
    "''', con)\n",
    "\n",
    "end_time = time.time()\n",
    "print(\"sql execute time:%s\" % (end_time - start_time))"
   ]
  },
  {
   "cell_type": "code",
   "execution_count": 51,
   "metadata": {},
   "outputs": [
    {
     "name": "stderr",
     "output_type": "stream",
     "text": [
      "C:\\Users\\sknecht\\AppData\\Local\\Temp\\ipykernel_28764\\951546004.py:5: UserWarning: pandas only supports SQLAlchemy connectable (engine/connection) or database string URI or sqlite3 DBAPI2 connection. Other DBAPI2 objects are not tested. Please consider using SQLAlchemy.\n",
      "  sales_base=pd.read_sql('''select\n"
     ]
    },
    {
     "name": "stdout",
     "output_type": "stream",
     "text": [
      "sql execute time:84.39636039733887\n"
     ]
    }
   ],
   "source": [
    "#download sales data\n",
    "\n",
    "start_time = time.time()\n",
    "\n",
    "sales_base=pd.read_sql('''select \n",
    "    dcc.con_id as \"Contact Row ID\",\n",
    "    fcs.tech_accnt_id as \"Account Row ID\",\n",
    "    dcc.first_name as \"First Name\",\n",
    "    dcc.last_name as \"Last Name\",\n",
    "    dcc.date_of_birth as \"Birthday\",\n",
    "    dcc.address_line_1 as \"Street Address\",\n",
    "    dcc.city as \"City\",\n",
    "    dcc.post_code as \"Postal Code\",\n",
    "    dcc.country as \"Country\",\n",
    "    dcc.phone_private as \"Private Phone #\",\n",
    "    dcc.phone_work as \"Business Phone #\",\n",
    "    dcc.phone_mobile as \"Cell Phone #\",\n",
    "    dcc.email_private as \"Private Email\",\n",
    "    dcc.email_work as \"Business Email\",\n",
    "    dca.account_name as \"Account Name\",\n",
    "    dca.addr as \"Street Address.1\",\n",
    "    dca.email_1 as \"BBusiness Email\",\n",
    "    dca.email_2 as \"BPrivate Email\",\n",
    "    dca.city as \"City.1\",\n",
    "    dca.zipcode as \"Postal Code.1\",\n",
    "    dca.county as \"County.1\",\n",
    "    dlr.dlr_code as \"Dealer #\",\n",
    "    dlr.dlr_name as \"Dealer Name\",\n",
    "    dlr.dlr_country_name as \"Dealer_Country_I\",\n",
    "    fcs.tech_sale_dt as \"Sale Date\",\n",
    "    fcs.tech_vin_cd as \"VIN\",\n",
    "    dc.lcns_num as \"Registration #\",\n",
    "    dc.registered_dt as \"Registration Date\",\n",
    "    dc.model_cd as \"Model_I\",\n",
    "    dvm.veh_mdl_product_code as \"Model Number\",\n",
    "    dcs.sale_class_cd as \"New/Used/Demo\",\n",
    "    dc.fuel_cd as \"Fuel\"\n",
    "from dwh.fact_car_sales fcs\n",
    "    join dwh.dim_car_sales dcs\n",
    "        on fcs.car_sale_sk = dcs.car_sale_sk\n",
    "    join dwh.dim_dist dd\n",
    "        on fcs.dist_sk = dd.dist_sk\n",
    "    join dwh.dim_car dc\n",
    "        on fcs.car_sk = dc.car_sk\n",
    "    join dwh.DIM_DLR dlr\n",
    "        on fcs.dlr_sk = dlr.dlr_sk\n",
    "    join dwh.DIM_VEH_MODEL dvm\n",
    "        on dvm.veh_mdl_sk =  dc.veh_mdl_sk\n",
    "    join dwh.dim_customer_contact dcc\n",
    "        on fcs.customer_contact_owner_sk = dcc.customer_contact_sk\n",
    "    join dwh.dim_customer_account dca\n",
    "        on fcs.customer_account_sk = dca.customer_account_sk\n",
    "    where \n",
    "    1 = 1\n",
    "    and (dca.tech_bu_id = '1-8PMCM' or dcc.tech_bu_id = '1-8PMCM')\n",
    "    and dc.make_cd = 'Mazda'\n",
    "    and fcs.cal_sale_sk >= 20140601\n",
    "    and dc.serial_num is not null\n",
    "    and dcs.sale_class_cd is not null\n",
    "    and (dcc.con_id is not null or fcs.tech_accnt_id is not null)\n",
    "    ''', con)\n",
    "\n",
    "end_time = time.time()\n",
    "print(\"sql execute time:%s\" % (end_time - start_time))"
   ]
  },
  {
   "cell_type": "code",
   "execution_count": 52,
   "metadata": {},
   "outputs": [],
   "source": [
    "tcmr_base.to_csv(r'C:\\\\Data Analytics\\\\Renewals Dashboard - Sales data\\\\POLtcmr_base.csv', index = False, encoding = 'utf-8-sig')\n",
    "dlr_base.to_csv(r'C:\\\\Data Analytics\\\\Renewals Dashboard - Sales data\\\\POLdlr_base.csv', index = False, encoding = 'utf-8-sig')\n",
    "sales_base.to_csv(r'C:\\\\Data Analytics\\\\Renewals Dashboard - Sales data\\\\POLsales_base.csv', index = False, encoding = 'utf-8-sig')"
   ]
  },
  {
   "cell_type": "markdown",
   "metadata": {},
   "source": [
    "# Austria"
   ]
  },
  {
   "cell_type": "code",
   "execution_count": null,
   "metadata": {},
   "outputs": [],
   "source": [
    "tcmr_base=None\n",
    "dlr_base=None\n",
    "sales_base=None"
   ]
  },
  {
   "cell_type": "code",
   "execution_count": 53,
   "metadata": {},
   "outputs": [
    {
     "name": "stderr",
     "output_type": "stream",
     "text": [
      "C:\\Users\\sknecht\\AppData\\Local\\Temp\\ipykernel_28764\\3530738084.py:4: UserWarning: pandas only supports SQLAlchemy connectable (engine/connection) or database string URI or sqlite3 DBAPI2 connection. Other DBAPI2 objects are not tested. Please consider using SQLAlchemy.\n",
      "  tcmr_base=pd.read_sql(\n"
     ]
    },
    {
     "name": "stdout",
     "output_type": "stream",
     "text": [
      "sql execute time:80.47776365280151\n"
     ]
    }
   ],
   "source": [
    "### Loading TCMR data Austria\n",
    "start_time = time.time()\n",
    "\n",
    "tcmr_base=pd.read_sql(\n",
    "    '''select \n",
    "    dtc.agree_num as \"ref_num\",\n",
    "    ftph.updated_sbl as \"tcmr_updated\",\n",
    "    ftph.status as \"tcmr_pw_status\",\n",
    "    ftph.renewal_type as \"tcmr_type\",\n",
    "    ftph.tcmr_lead_stat as \"tcmr_lead\",\n",
    "    ftph.payment_walk as \"payment_walk\",\n",
    "    ddl.dlr_code as \"crnt_dlr_code\",\n",
    "    ddl.dlr_name as \"crnt_dlr_name\"\n",
    "from dwh.fact_tcmr_contract ftc\n",
    "    join dwh.dim_tcmr_contract dtc\n",
    "        on ftc.tcmr_contract_sk = dtc.tcmr_contract_sk\n",
    "    left join dwh.FACT_TCMR_PAYMENT_HIST ftph\n",
    "        on dtc.tcmr_contract_sk = ftph.tcmr_contract_sk\n",
    "    left join dwh.dim_tcmr_contract dtc\n",
    "        on ftph.tcmr_contract_sk = dtc.tcmr_contract_sk\n",
    "    join dwh.DIM_DLR ddl\n",
    "        on ftc.dlr_sk = ddl.dlr_sk\n",
    "where\n",
    "    1 = 1\n",
    "    and ftc.tech_bu_id = '1-8PMCM'\n",
    "''', con)\n",
    "\n",
    "end_time = time.time()\n",
    "print(\"sql execute time:%s\" % (end_time - start_time))\n",
    "\n",
    "tcmr_base = tcmr_base.sort_values('tcmr_updated', ascending=False).drop_duplicates('ref_num').sort_index()"
   ]
  },
  {
   "cell_type": "code",
   "execution_count": 54,
   "metadata": {},
   "outputs": [
    {
     "name": "stderr",
     "output_type": "stream",
     "text": [
      "C:\\Users\\sknecht\\AppData\\Local\\Temp\\ipykernel_28764\\3799364023.py:4: UserWarning: pandas only supports SQLAlchemy connectable (engine/connection) or database string URI or sqlite3 DBAPI2 connection. Other DBAPI2 objects are not tested. Please consider using SQLAlchemy.\n",
      "  dlr_base=pd.read_sql('''select\n"
     ]
    },
    {
     "name": "stdout",
     "output_type": "stream",
     "text": [
      "sql execute time:0.2149968147277832\n"
     ]
    }
   ],
   "source": [
    "### Loading dlr data\n",
    "start_time = time.time()\n",
    "\n",
    "dlr_base=pd.read_sql('''select \n",
    "    ddl.dlr_code as \"dlr_code\",\n",
    "    ddl.dlr_name as \"dlr_name\",\n",
    "    ddl.dlr_status as \"dlr_status\",\n",
    "    ddl.dlr_sales_district as \"mazda_zone\",\n",
    "    ddl.dlr_bank_district as \"bank_zone\",\n",
    "    ddl.DLR_SALES_ALLOW_ORDER_FLAG as \"sales_flag\"\n",
    "from dwh.DIM_DLR ddl\n",
    "where \n",
    "    1 = 1\n",
    "    and ddl.dlr_dist_code = 'MAG'\n",
    "    and ddl.dlr_sales_district is not null\n",
    "''', con)\n",
    "\n",
    "end_time = time.time()\n",
    "print(\"sql execute time:%s\" % (end_time - start_time))"
   ]
  },
  {
   "cell_type": "code",
   "execution_count": 55,
   "metadata": {},
   "outputs": [
    {
     "name": "stderr",
     "output_type": "stream",
     "text": [
      "C:\\Users\\sknecht\\AppData\\Local\\Temp\\ipykernel_28764\\951546004.py:5: UserWarning: pandas only supports SQLAlchemy connectable (engine/connection) or database string URI or sqlite3 DBAPI2 connection. Other DBAPI2 objects are not tested. Please consider using SQLAlchemy.\n",
      "  sales_base=pd.read_sql('''select\n"
     ]
    },
    {
     "name": "stdout",
     "output_type": "stream",
     "text": [
      "sql execute time:50.45028471946716\n"
     ]
    }
   ],
   "source": [
    "#download sales data\n",
    "\n",
    "start_time = time.time()\n",
    "\n",
    "sales_base=pd.read_sql('''select \n",
    "    dcc.con_id as \"Contact Row ID\",\n",
    "    fcs.tech_accnt_id as \"Account Row ID\",\n",
    "    dcc.first_name as \"First Name\",\n",
    "    dcc.last_name as \"Last Name\",\n",
    "    dcc.date_of_birth as \"Birthday\",\n",
    "    dcc.address_line_1 as \"Street Address\",\n",
    "    dcc.city as \"City\",\n",
    "    dcc.post_code as \"Postal Code\",\n",
    "    dcc.country as \"Country\",\n",
    "    dcc.phone_private as \"Private Phone #\",\n",
    "    dcc.phone_work as \"Business Phone #\",\n",
    "    dcc.phone_mobile as \"Cell Phone #\",\n",
    "    dcc.email_private as \"Private Email\",\n",
    "    dcc.email_work as \"Business Email\",\n",
    "    dca.account_name as \"Account Name\",\n",
    "    dca.addr as \"Street Address.1\",\n",
    "    dca.email_1 as \"BBusiness Email\",\n",
    "    dca.email_2 as \"BPrivate Email\",\n",
    "    dca.city as \"City.1\",\n",
    "    dca.zipcode as \"Postal Code.1\",\n",
    "    dca.county as \"County.1\",\n",
    "    dlr.dlr_code as \"Dealer #\",\n",
    "    dlr.dlr_name as \"Dealer Name\",\n",
    "    dlr.dlr_country_name as \"Dealer_Country_I\",\n",
    "    fcs.tech_sale_dt as \"Sale Date\",\n",
    "    fcs.tech_vin_cd as \"VIN\",\n",
    "    dc.lcns_num as \"Registration #\",\n",
    "    dc.registered_dt as \"Registration Date\",\n",
    "    dc.model_cd as \"Model_I\",\n",
    "    dvm.veh_mdl_product_code as \"Model Number\",\n",
    "    dcs.sale_class_cd as \"New/Used/Demo\",\n",
    "    dc.fuel_cd as \"Fuel\"\n",
    "from dwh.fact_car_sales fcs\n",
    "    join dwh.dim_car_sales dcs\n",
    "        on fcs.car_sale_sk = dcs.car_sale_sk\n",
    "    join dwh.dim_dist dd\n",
    "        on fcs.dist_sk = dd.dist_sk\n",
    "    join dwh.dim_car dc\n",
    "        on fcs.car_sk = dc.car_sk\n",
    "    join dwh.DIM_DLR dlr\n",
    "        on fcs.dlr_sk = dlr.dlr_sk\n",
    "    join dwh.DIM_VEH_MODEL dvm\n",
    "        on dvm.veh_mdl_sk =  dc.veh_mdl_sk\n",
    "    join dwh.dim_customer_contact dcc\n",
    "        on fcs.customer_contact_owner_sk = dcc.customer_contact_sk\n",
    "    join dwh.dim_customer_account dca\n",
    "        on fcs.customer_account_sk = dca.customer_account_sk\n",
    "    where \n",
    "    1 = 1\n",
    "    and (dca.tech_bu_id = '1-8PMCM' or dcc.tech_bu_id = '1-8PMCM')\n",
    "    and dc.make_cd = 'Mazda'\n",
    "    and fcs.cal_sale_sk >= 20140601\n",
    "    and dc.serial_num is not null\n",
    "    and dcs.sale_class_cd is not null\n",
    "    and (dcc.con_id is not null or fcs.tech_accnt_id is not null)\n",
    "    ''', con)\n",
    "\n",
    "end_time = time.time()\n",
    "print(\"sql execute time:%s\" % (end_time - start_time))"
   ]
  },
  {
   "cell_type": "code",
   "execution_count": 56,
   "metadata": {},
   "outputs": [],
   "source": [
    "tcmr_base.to_csv(r'C:\\\\Data Analytics\\\\Renewals Dashboard - Sales data\\\\ATtcmr_base.csv', index = False, encoding = 'utf-8-sig')\n",
    "dlr_base.to_csv(r'C:\\\\Data Analytics\\\\Renewals Dashboard - Sales data\\\\ATdlr_base.csv', index = False, encoding = 'utf-8-sig')\n",
    "sales_base.to_csv(r'C:\\\\Data Analytics\\\\Renewals Dashboard - Sales data\\\\ATsales_base.csv', index = False, encoding = 'utf-8-sig')"
   ]
  },
  {
   "cell_type": "markdown",
   "metadata": {},
   "source": [
    "# Ireland"
   ]
  },
  {
   "cell_type": "code",
   "execution_count": 13,
   "metadata": {},
   "outputs": [],
   "source": [
    "tcmr_base=None\n",
    "dlr_base=None\n",
    "sales_base=None"
   ]
  },
  {
   "cell_type": "code",
   "execution_count": 14,
   "metadata": {},
   "outputs": [
    {
     "name": "stderr",
     "output_type": "stream",
     "text": [
      "C:\\Users\\sknecht\\AppData\\Local\\Temp\\ipykernel_21524\\2187602347.py:4: UserWarning: pandas only supports SQLAlchemy connectable (engine/connection) or database string URI or sqlite3 DBAPI2 connection. Other DBAPI2 objects are not tested. Please consider using SQLAlchemy.\n",
      "  tcmr_base=pd.read_sql(\n"
     ]
    },
    {
     "name": "stdout",
     "output_type": "stream",
     "text": [
      "sql execute time:65.1290111541748\n"
     ]
    }
   ],
   "source": [
    "### Loading TCMR data Ireland\n",
    "start_time = time.time()\n",
    "\n",
    "tcmr_base=pd.read_sql(\n",
    "    '''select \n",
    "    dtc.agree_num as \"ref_num\",\n",
    "    ftph.updated_sbl as \"tcmr_updated\",\n",
    "    ftph.status as \"tcmr_pw_status\",\n",
    "    ftph.renewal_type as \"tcmr_type\",\n",
    "    ftph.tcmr_lead_stat as \"tcmr_lead\",\n",
    "    ftph.payment_walk as \"payment_walk\",\n",
    "    ddl.dlr_code as \"crnt_dlr_code\",\n",
    "    ddl.dlr_name as \"crnt_dlr_name\"\n",
    "from dwh.fact_tcmr_contract ftc\n",
    "    join dwh.dim_tcmr_contract dtc\n",
    "        on ftc.tcmr_contract_sk = dtc.tcmr_contract_sk\n",
    "    left join dwh.FACT_TCMR_PAYMENT_HIST ftph\n",
    "        on dtc.tcmr_contract_sk = ftph.tcmr_contract_sk\n",
    "    left join dwh.dim_tcmr_contract dtc\n",
    "        on ftph.tcmr_contract_sk = dtc.tcmr_contract_sk\n",
    "    join dwh.DIM_DLR ddl\n",
    "        on ftc.dlr_sk = ddl.dlr_sk\n",
    "where\n",
    "    1 = 1\n",
    "    and ftc.tech_bu_id = '1-8PMCM'\n",
    "''', con)\n",
    "\n",
    "end_time = time.time()\n",
    "print(\"sql execute time:%s\" % (end_time - start_time))\n",
    "\n",
    "tcmr_base = tcmr_base.sort_values('tcmr_updated', ascending=False).drop_duplicates('ref_num').sort_index()"
   ]
  },
  {
   "cell_type": "code",
   "execution_count": 15,
   "metadata": {},
   "outputs": [
    {
     "name": "stdout",
     "output_type": "stream",
     "text": [
      "sql execute time:0.07500386238098145\n"
     ]
    },
    {
     "name": "stderr",
     "output_type": "stream",
     "text": [
      "C:\\Users\\sknecht\\AppData\\Local\\Temp\\ipykernel_21524\\1909522352.py:4: UserWarning: pandas only supports SQLAlchemy connectable (engine/connection) or database string URI or sqlite3 DBAPI2 connection. Other DBAPI2 objects are not tested. Please consider using SQLAlchemy.\n",
      "  dlr_base=pd.read_sql('''select\n"
     ]
    }
   ],
   "source": [
    "### Loading dlr data\n",
    "start_time = time.time()\n",
    "\n",
    "dlr_base=pd.read_sql('''select \n",
    "    ddl.dlr_code as \"dlr_code\",\n",
    "    ddl.dlr_name as \"dlr_name\",\n",
    "    ddl.dlr_status as \"dlr_status\",\n",
    "    ddl.dlr_sales_district as \"mazda_zone\",\n",
    "    ddl.dlr_bank_district as \"bank_zone\",\n",
    "    ddl.DLR_SALES_ALLOW_ORDER_FLAG as \"sales_flag\"\n",
    "from dwh.DIM_DLR ddl\n",
    "where \n",
    "    1 = 1\n",
    "    and ddl.dlr_dist_code = 'MMIRL'\n",
    "    and ddl.dlr_sales_district is not null\n",
    "''', con)\n",
    "\n",
    "end_time = time.time()\n",
    "print(\"sql execute time:%s\" % (end_time - start_time))"
   ]
  },
  {
   "cell_type": "code",
   "execution_count": 16,
   "metadata": {},
   "outputs": [
    {
     "name": "stderr",
     "output_type": "stream",
     "text": [
      "C:\\Users\\sknecht\\AppData\\Local\\Temp\\ipykernel_21524\\951546004.py:5: UserWarning: pandas only supports SQLAlchemy connectable (engine/connection) or database string URI or sqlite3 DBAPI2 connection. Other DBAPI2 objects are not tested. Please consider using SQLAlchemy.\n",
      "  sales_base=pd.read_sql('''select\n"
     ]
    },
    {
     "name": "stdout",
     "output_type": "stream",
     "text": [
      "sql execute time:42.28795504570007\n"
     ]
    }
   ],
   "source": [
    "#download sales data\n",
    "\n",
    "start_time = time.time()\n",
    "\n",
    "sales_base=pd.read_sql('''select \n",
    "    dcc.con_id as \"Contact Row ID\",\n",
    "    fcs.tech_accnt_id as \"Account Row ID\",\n",
    "    dcc.first_name as \"First Name\",\n",
    "    dcc.last_name as \"Last Name\",\n",
    "    dcc.date_of_birth as \"Birthday\",\n",
    "    dcc.address_line_1 as \"Street Address\",\n",
    "    dcc.city as \"City\",\n",
    "    dcc.post_code as \"Postal Code\",\n",
    "    dcc.country as \"Country\",\n",
    "    dcc.phone_private as \"Private Phone #\",\n",
    "    dcc.phone_work as \"Business Phone #\",\n",
    "    dcc.phone_mobile as \"Cell Phone #\",\n",
    "    dcc.email_private as \"Private Email\",\n",
    "    dcc.email_work as \"Business Email\",\n",
    "    dca.account_name as \"Account Name\",\n",
    "    dca.addr as \"Street Address.1\",\n",
    "    dca.email_1 as \"BBusiness Email\",\n",
    "    dca.email_2 as \"BPrivate Email\",\n",
    "    dca.city as \"City.1\",\n",
    "    dca.zipcode as \"Postal Code.1\",\n",
    "    dca.county as \"County.1\",\n",
    "    dlr.dlr_code as \"Dealer #\",\n",
    "    dlr.dlr_name as \"Dealer Name\",\n",
    "    dlr.dlr_country_name as \"Dealer_Country_I\",\n",
    "    fcs.tech_sale_dt as \"Sale Date\",\n",
    "    fcs.tech_vin_cd as \"VIN\",\n",
    "    dc.lcns_num as \"Registration #\",\n",
    "    dc.registered_dt as \"Registration Date\",\n",
    "    dc.model_cd as \"Model_I\",\n",
    "    dvm.veh_mdl_product_code as \"Model Number\",\n",
    "    dcs.sale_class_cd as \"New/Used/Demo\",\n",
    "    dc.fuel_cd as \"Fuel\"\n",
    "from dwh.fact_car_sales fcs\n",
    "    join dwh.dim_car_sales dcs\n",
    "        on fcs.car_sale_sk = dcs.car_sale_sk\n",
    "    join dwh.dim_dist dd\n",
    "        on fcs.dist_sk = dd.dist_sk\n",
    "    join dwh.dim_car dc\n",
    "        on fcs.car_sk = dc.car_sk\n",
    "    join dwh.DIM_DLR dlr\n",
    "        on fcs.dlr_sk = dlr.dlr_sk\n",
    "    join dwh.DIM_VEH_MODEL dvm\n",
    "        on dvm.veh_mdl_sk =  dc.veh_mdl_sk\n",
    "    join dwh.dim_customer_contact dcc\n",
    "        on fcs.customer_contact_owner_sk = dcc.customer_contact_sk\n",
    "    join dwh.dim_customer_account dca\n",
    "        on fcs.customer_account_sk = dca.customer_account_sk\n",
    "    where \n",
    "    1 = 1\n",
    "    and (dca.tech_bu_id = '1-8PMCM' or dcc.tech_bu_id = '1-8PMCM')\n",
    "    and dc.make_cd = 'Mazda'\n",
    "    and fcs.cal_sale_sk >= 20140601\n",
    "    and dc.serial_num is not null\n",
    "    and dcs.sale_class_cd is not null\n",
    "    and (dcc.con_id is not null or fcs.tech_accnt_id is not null)\n",
    "    ''', con)\n",
    "\n",
    "end_time = time.time()\n",
    "print(\"sql execute time:%s\" % (end_time - start_time))"
   ]
  },
  {
   "cell_type": "code",
   "execution_count": 17,
   "metadata": {},
   "outputs": [],
   "source": [
    "tcmr_base.to_csv(r'C:\\\\Data Analytics\\\\Renewals Dashboard - Sales data\\\\IRLtcmr_base.csv', index = False, encoding = 'utf-8-sig')\n",
    "dlr_base.to_csv(r'C:\\\\Data Analytics\\\\Renewals Dashboard - Sales data\\\\IRLdlr_base.csv', index = False, encoding = 'utf-8-sig')\n",
    "sales_base.to_csv(r'C:\\\\Data Analytics\\\\Renewals Dashboard - Sales data\\\\IRLsales_base.csv', index = False, encoding = 'utf-8-sig')"
   ]
  },
  {
   "cell_type": "code",
   "execution_count": 61,
   "metadata": {},
   "outputs": [
    {
     "name": "stdout",
     "output_type": "stream",
     "text": [
      "ALL Done - great job!\n"
     ]
    }
   ],
   "source": [
    "print('ALL Done - great job!')"
   ]
  },
  {
   "cell_type": "code",
   "execution_count": 62,
   "metadata": {},
   "outputs": [],
   "source": [
    "## Upload and replace existing files in Teams: MLE_P_IT_Power BI rollout/Pilot - MME Financial Services/renewal report input data"
   ]
  },
  {
   "cell_type": "code",
   "execution_count": null,
   "metadata": {},
   "outputs": [],
   "source": []
  }
 ],
 "metadata": {
  "kernelspec": {
   "display_name": "Python 3 (ipykernel)",
   "language": "python",
   "name": "python3"
  },
  "language_info": {
   "codemirror_mode": {
    "name": "ipython",
    "version": 3
   },
   "file_extension": ".py",
   "mimetype": "text/x-python",
   "name": "python",
   "nbconvert_exporter": "python",
   "pygments_lexer": "ipython3",
   "version": "3.11.5"
  },
  "toc": {
   "base_numbering": 1,
   "nav_menu": {},
   "number_sections": true,
   "sideBar": true,
   "skip_h1_title": false,
   "title_cell": "Table of Contents",
   "title_sidebar": "Contents",
   "toc_cell": false,
   "toc_position": {},
   "toc_section_display": true,
   "toc_window_display": false
  },
  "varInspector": {
   "cols": {
    "lenName": 16,
    "lenType": 16,
    "lenVar": 40
   },
   "kernels_config": {
    "python": {
     "delete_cmd_postfix": "",
     "delete_cmd_prefix": "del ",
     "library": "var_list.py",
     "varRefreshCmd": "print(var_dic_list())"
    },
    "r": {
     "delete_cmd_postfix": ") ",
     "delete_cmd_prefix": "rm(",
     "library": "var_list.r",
     "varRefreshCmd": "cat(var_dic_list()) "
    }
   },
   "types_to_exclude": [
    "module",
    "function",
    "builtin_function_or_method",
    "instance",
    "_Feature"
   ],
   "window_display": false
  }
 },
 "nbformat": 4,
 "nbformat_minor": 4
}
