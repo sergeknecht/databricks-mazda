{
 "cells": [
  {
   "cell_type": "markdown",
   "metadata": {
    "application/vnd.databricks.v1+cell": {
     "cellMetadata": {},
     "inputWidgets": {},
     "nuid": "0c23eeeb-3735-4405-969c-43441ce34abf",
     "showTitle": false,
     "title": ""
    }
   },
   "source": [
    "Loading the packages"
   ]
  },
  {
   "cell_type": "code",
   "execution_count": 1,
   "metadata": {
    "application/vnd.databricks.v1+cell": {
     "cellMetadata": {},
     "inputWidgets": {},
     "nuid": "acfa8c20-dc65-4379-9adb-bf7580be5639",
     "showTitle": false,
     "title": ""
    }
   },
   "outputs": [
    {
     "name": "stdout",
     "output_type": "stream",
     "text": [
      "c:\\Users\\sknecht\\Projects\\databricks-mazda\\.venv\\Scripts\\python.exe\n"
     ]
    }
   ],
   "source": [
    "import sys\n",
    "print(sys.executable)"
   ]
  },
  {
   "cell_type": "code",
   "execution_count": 4,
   "metadata": {
    "application/vnd.databricks.v1+cell": {
     "cellMetadata": {},
     "inputWidgets": {},
     "nuid": "9ad6464c-b4ca-49ed-b7a5-f31d4b4a782e",
     "showTitle": false,
     "title": ""
    }
   },
   "outputs": [
    {
     "name": "stderr",
     "output_type": "stream",
     "text": [
      "UsageError: %%sh is a cell magic, but the cell body is empty.\n"
     ]
    }
   ],
   "source": [
    "%%sh python -m ipython kernel install --user --name=.venv"
   ]
  },
  {
   "cell_type": "code",
   "execution_count": 5,
   "metadata": {
    "ExecuteTime": {
     "end_time": "2020-11-25T11:53:22.437856Z",
     "start_time": "2020-11-25T11:53:20.470617Z"
    },
    "application/vnd.databricks.v1+cell": {
     "cellMetadata": {},
     "inputWidgets": {},
     "nuid": "2dc9be55-f51a-4167-9bab-bfe0cddbebcf",
     "showTitle": false,
     "title": ""
    }
   },
   "outputs": [
    {
     "name": "stderr",
     "output_type": "stream",
     "text": [
      "C:\\Users\\sknecht\\AppData\\Local\\Temp\\ipykernel_21976\\1861516938.py:8: DeprecationWarning: \n",
      "Pyarrow will become a required dependency of pandas in the next major release of pandas (pandas 3.0),\n",
      "(to allow more performant data types, such as the Arrow string type, and better interoperability with other libraries)\n",
      "but was not found to be installed on your system.\n",
      "If this would cause problems for you,\n",
      "please provide us feedback at https://github.com/pandas-dev/pandas/issues/54466\n",
      "        \n",
      "  import pandas as pd\n"
     ]
    }
   ],
   "source": [
    "## Importing the relevant packages\n",
    "\n",
    "import oracledb\n",
    "# cx_Oracle.init_oracle_client(lib_dir=r\"C:\\oracle\\instantclient_21_3\")\n",
    "import getpass\n",
    "import time\n",
    "\n",
    "import pandas as pd\n",
    "\n",
    "\n",
    "import matplotlib.pyplot as plt; plt.rcdefaults()\n",
    "import matplotlib.pyplot as plt\n",
    "\n",
    "## Let the display show more rows & columns\n",
    "pd.set_option('display.max_columns', 300)\n",
    "pd.set_option('display.max_rows', 400)\n",
    "pd.set_option('display.min_rows', 100)\n",
    "pd.set_option('display.expand_frame_repr', True)\n"
   ]
  },
  {
   "cell_type": "code",
   "execution_count": 6,
   "metadata": {
    "ExecuteTime": {
     "end_time": "2020-11-25T11:53:50.672274Z",
     "start_time": "2020-11-25T11:53:25.750140Z"
    },
    "application/vnd.databricks.v1+cell": {
     "cellMetadata": {},
     "inputWidgets": {},
     "nuid": "045e3758-230a-422e-8afc-31a9dccd2b63",
     "showTitle": false,
     "title": ""
    }
   },
   "outputs": [],
   "source": [
    "environment = input('environment (DVL, TST, ACP, PRD): ')\n",
    "username = input('username: ')\n",
    "password = getpass.getpass('password: ')"
   ]
  },
  {
   "cell_type": "code",
   "execution_count": 7,
   "metadata": {
    "ExecuteTime": {
     "end_time": "2020-11-25T11:53:56.154164Z",
     "start_time": "2020-11-25T11:53:56.150191Z"
    },
    "application/vnd.databricks.v1+cell": {
     "cellMetadata": {},
     "inputWidgets": {},
     "nuid": "22f1d4e8-0d01-406a-89ae-4768672a9da0",
     "showTitle": false,
     "title": ""
    }
   },
   "outputs": [],
   "source": [
    "def connectionpool(i):\n",
    "    switcher={\n",
    "        'DVL':'dvldw-scan.mle.mazdaeur.com:1521/DVL_DWH',\n",
    "        'TST':'tstdw-scan.mle.mazdaeur.com:1521/TST_DWH',\n",
    "        'ACP':'accdw-scan.mle.mazdaeur.com:1521/ACP_DWH',\n",
    "        'PRD':'prddw-scan.mle.mazdaeur.com/PRD_DWH'        \n",
    "    }\n",
    "    return switcher.get(i,\"No valid connection name\")"
   ]
  },
  {
   "cell_type": "code",
   "execution_count": 8,
   "metadata": {
    "application/vnd.databricks.v1+cell": {
     "cellMetadata": {},
     "inputWidgets": {},
     "nuid": "2a4282b7-d989-4b43-b657-312702eb8cd3",
     "showTitle": false,
     "title": ""
    }
   },
   "outputs": [
    {
     "data": {
      "text/plain": [
       "'prddw-scan.mle.mazdaeur.com/PRD_DWH'"
      ]
     },
     "execution_count": 8,
     "metadata": {},
     "output_type": "execute_result"
    }
   ],
   "source": [
    "connectionpool(environment)"
   ]
  },
  {
   "cell_type": "code",
   "execution_count": 9,
   "metadata": {
    "ExecuteTime": {
     "end_time": "2020-11-25T11:54:09.138991Z",
     "start_time": "2020-11-25T11:54:07.071339Z"
    },
    "application/vnd.databricks.v1+cell": {
     "cellMetadata": {},
     "inputWidgets": {},
     "nuid": "7ea7c247-9b27-4f7e-8a11-bf8381d14f2f",
     "showTitle": false,
     "title": ""
    }
   },
   "outputs": [
    {
     "name": "stdout",
     "output_type": "stream",
     "text": [
      "DWSRV/password:prddw-scan.mle.mazdaeur.com/PRD_DWH\n"
     ]
    }
   ],
   "source": [
    "# Connect to the Oracle DB (DVL)\n",
    "connection = username + \"/\" + \"password:\" + connectionpool(environment)\n",
    "con = oracledb.connect(user=username, password=password, port=1521, dsn=connectionpool(environment))\n",
    "\n",
    "print(connection)"
   ]
  },
  {
   "cell_type": "code",
   "execution_count": 10,
   "metadata": {
    "application/vnd.databricks.v1+cell": {
     "cellMetadata": {},
     "inputWidgets": {},
     "nuid": "3745c6f1-f034-449f-88e3-cf6a0a0b0e8d",
     "showTitle": false,
     "title": ""
    }
   },
   "outputs": [],
   "source": [
    "# Now execute the sqlquery \n",
    "cursor = con.cursor() "
   ]
  },
  {
   "cell_type": "code",
   "execution_count": 11,
   "metadata": {
    "application/vnd.databricks.v1+cell": {
     "cellMetadata": {},
     "inputWidgets": {},
     "nuid": "cbab835e-4ca7-4dd2-8e48-bc4090502858",
     "showTitle": false,
     "title": ""
    }
   },
   "outputs": [],
   "source": [
    "cursor.arraysize = 10000"
   ]
  },
  {
   "cell_type": "code",
   "execution_count": 12,
   "metadata": {
    "application/vnd.databricks.v1+cell": {
     "cellMetadata": {},
     "inputWidgets": {},
     "nuid": "b3f9cd65-2b7d-4004-869d-ea21c2254bdc",
     "showTitle": false,
     "title": ""
    }
   },
   "outputs": [
    {
     "name": "stdout",
     "output_type": "stream",
     "text": [
      "('connection established',)\n"
     ]
    }
   ],
   "source": [
    "# execute SQL \n",
    "cursor.execute(\"select 'connection established' from dual\") \n",
    "for row in cursor: print(row)"
   ]
  },
  {
   "cell_type": "code",
   "execution_count": 13,
   "metadata": {
    "application/vnd.databricks.v1+cell": {
     "cellMetadata": {},
     "inputWidgets": {},
     "nuid": "29950628-bdbf-4f00-8043-bbf8f372f551",
     "showTitle": false,
     "title": ""
    }
   },
   "outputs": [],
   "source": [
    "## market selection\n",
    "## GER = '1-GZI'\n",
    "## UK = '1-GZE'\n"
   ]
  },
  {
   "cell_type": "markdown",
   "metadata": {
    "application/vnd.databricks.v1+cell": {
     "cellMetadata": {},
     "inputWidgets": {},
     "nuid": "06634ca6-e899-484a-9652-8cbdbbd8c413",
     "showTitle": false,
     "title": ""
    },
    "tags": []
   },
   "source": [
    "### UK"
   ]
  },
  {
   "cell_type": "code",
   "execution_count": 14,
   "metadata": {
    "application/vnd.databricks.v1+cell": {
     "cellMetadata": {},
     "inputWidgets": {},
     "nuid": "4de7e112-ad7e-466f-a95e-39dcb41af2a4",
     "showTitle": false,
     "title": ""
    }
   },
   "outputs": [],
   "source": [
    "tcmr_base=None\n",
    "dlr_base=None\n",
    "sales_base=None"
   ]
  },
  {
   "cell_type": "code",
   "execution_count": 15,
   "metadata": {
    "application/vnd.databricks.v1+cell": {
     "cellMetadata": {},
     "inputWidgets": {},
     "nuid": "72611850-c863-44f5-981d-0b9e42334b61",
     "showTitle": false,
     "title": ""
    }
   },
   "outputs": [
    {
     "name": "stderr",
     "output_type": "stream",
     "text": [
      "C:\\Users\\sknecht\\AppData\\Local\\Temp\\ipykernel_21976\\3776240913.py:4: UserWarning: pandas only supports SQLAlchemy connectable (engine/connection) or database string URI or sqlite3 DBAPI2 connection. Other DBAPI2 objects are not tested. Please consider using SQLAlchemy.\n",
      "  tcmr_base=pd.read_sql(\n"
     ]
    },
    {
     "name": "stdout",
     "output_type": "stream",
     "text": [
      "sql execute time:624.1807322502136\n"
     ]
    }
   ],
   "source": [
    "### Loading TCMR data UK\n",
    "start_time = time.time()\n",
    "\n",
    "tcmr_base=pd.read_sql(\n",
    "    '''select \n",
    "    dtc.agree_num as \"ref_num\",\n",
    "    ftph.updated_sbl as \"tcmr_updated\",\n",
    "    ftph.status as \"tcmr_pw_status\",\n",
    "    ftph.renewal_type as \"tcmr_type\",\n",
    "    ftph.tcmr_lead_stat as \"tcmr_lead\",\n",
    "    ftph.payment_walk as \"payment_walk\",\n",
    "    ddl.dlr_code as \"crnt_dlr_code\",\n",
    "    ddl.dlr_name as \"crnt_dlr_name\"\n",
    "from dwh.fact_tcmr_contract ftc\n",
    "    join dwh.dim_tcmr_contract dtc\n",
    "        on ftc.tcmr_contract_sk = dtc.tcmr_contract_sk\n",
    "    left join dwh.FACT_TCMR_PAYMENT_HIST ftph\n",
    "        on dtc.tcmr_contract_sk = ftph.tcmr_contract_sk\n",
    "    left join dwh.dim_tcmr_contract dtc\n",
    "        on ftph.tcmr_contract_sk = dtc.tcmr_contract_sk\n",
    "    join dwh.DIM_DLR ddl\n",
    "        on ftc.dlr_sk = ddl.dlr_sk\n",
    "where\n",
    "    1 = 1\n",
    "    and ftc.tech_bu_id = '1-GZE'\n",
    "''', con)\n",
    "\n",
    "end_time = time.time()\n",
    "print(\"sql execute time:%s\" % (end_time - start_time))\n",
    "\n",
    "tcmr_base = tcmr_base.sort_values('tcmr_updated', ascending=False).drop_duplicates('ref_num').sort_index()"
   ]
  },
  {
   "cell_type": "code",
   "execution_count": 16,
   "metadata": {
    "application/vnd.databricks.v1+cell": {
     "cellMetadata": {},
     "inputWidgets": {},
     "nuid": "b9e0dcd0-b683-4e41-9b7d-ddefc5efb157",
     "showTitle": false,
     "title": ""
    }
   },
   "outputs": [
    {
     "name": "stderr",
     "output_type": "stream",
     "text": [
      "C:\\Users\\sknecht\\AppData\\Local\\Temp\\ipykernel_21976\\4185893535.py:4: UserWarning: pandas only supports SQLAlchemy connectable (engine/connection) or database string URI or sqlite3 DBAPI2 connection. Other DBAPI2 objects are not tested. Please consider using SQLAlchemy.\n",
      "  dlr_base=pd.read_sql('''select\n"
     ]
    },
    {
     "name": "stdout",
     "output_type": "stream",
     "text": [
      "sql execute time:0.2638664245605469\n"
     ]
    }
   ],
   "source": [
    "### Loading dlr data\n",
    "start_time = time.time()\n",
    "\n",
    "dlr_base=pd.read_sql('''select \n",
    "    ddl.dlr_code as \"dlr_code\",\n",
    "    ddl.dlr_name as \"dlr_name\",\n",
    "    ddl.dlr_status as \"dlr_status\",\n",
    "    ddl.dlr_sales_district as \"mazda_zone\",\n",
    "    ddl.dlr_bank_district as \"bank_zone\",\n",
    "    ddl.DLR_SALES_ALLOW_ORDER_FLAG as \"sales_flag\"\n",
    "from dwh.DIM_DLR ddl\n",
    "where \n",
    "    1 = 1\n",
    "    and ddl.dlr_dist_code = 'MMUK'\n",
    "    and ddl.dlr_sales_district is not null\n",
    "''', con)\n",
    "\n",
    "end_time = time.time()\n",
    "print(\"sql execute time:%s\" % (end_time - start_time))"
   ]
  },
  {
   "cell_type": "code",
   "execution_count": 17,
   "metadata": {
    "application/vnd.databricks.v1+cell": {
     "cellMetadata": {},
     "inputWidgets": {},
     "nuid": "c83f89b2-e956-47ad-b974-0b4e5df4bcb8",
     "showTitle": false,
     "title": ""
    }
   },
   "outputs": [
    {
     "name": "stderr",
     "output_type": "stream",
     "text": [
      "C:\\Users\\sknecht\\AppData\\Local\\Temp\\ipykernel_21976\\4051197299.py:5: UserWarning: pandas only supports SQLAlchemy connectable (engine/connection) or database string URI or sqlite3 DBAPI2 connection. Other DBAPI2 objects are not tested. Please consider using SQLAlchemy.\n",
      "  sales_base=pd.read_sql('''select\n"
     ]
    },
    {
     "name": "stdout",
     "output_type": "stream",
     "text": [
      "sql execute time:191.38960766792297\n"
     ]
    }
   ],
   "source": [
    "#download sales data\n",
    "\n",
    "start_time = time.time()\n",
    "\n",
    "sales_base=pd.read_sql('''select \n",
    "    dcc.con_id as \"Contact Row ID\",\n",
    "    fcs.tech_accnt_id as \"Account Row ID\",\n",
    "    dcc.first_name as \"First Name\",\n",
    "    dcc.last_name as \"Last Name\",\n",
    "    dcc.date_of_birth as \"Birthday\",\n",
    "    dcc.address_line_1 as \"Street Address\",\n",
    "    dcc.city as \"City\",\n",
    "    dcc.post_code as \"Postal Code\",\n",
    "    dcc.country as \"Country\",\n",
    "    dcc.phone_private as \"Private Phone #\",\n",
    "    dcc.phone_work as \"Business Phone #\",\n",
    "    dcc.phone_mobile as \"Cell Phone #\",\n",
    "    dcc.email_private as \"Private Email\",\n",
    "    dcc.email_work as \"Business Email\",\n",
    "    dca.account_name as \"Account Name\",\n",
    "    dca.addr as \"Street Address.1\",\n",
    "    dca.email_1 as \"BBusiness Email\",\n",
    "    dca.email_2 as \"BPrivate Email\",\n",
    "    dca.city as \"City.1\",\n",
    "    dca.zipcode as \"Postal Code.1\",\n",
    "    dca.county as \"County.1\",\n",
    "    dlr.dlr_code as \"Dealer #\",\n",
    "    dlr.dlr_name as \"Dealer Name\",\n",
    "    dlr.dlr_country_name as \"Dealer_Country_I\",\n",
    "    fcs.tech_sale_dt as \"Sale Date\",\n",
    "    fcs.tech_vin_cd as \"VIN\",\n",
    "    dc.lcns_num as \"Registration #\",\n",
    "    dc.registered_dt as \"Registration Date\",\n",
    "    dc.model_cd as \"Model_I\",\n",
    "    dvm.veh_mdl_product_code as \"Model Number\",\n",
    "    dcs.sale_class_cd as \"New/Used/Demo\",\n",
    "    dc.fuel_cd as \"Fuel\"\n",
    "from dwh.fact_car_sales fcs\n",
    "    join dwh.dim_car_sales dcs\n",
    "        on fcs.car_sale_sk = dcs.car_sale_sk\n",
    "    join dwh.dim_dist dd\n",
    "        on fcs.dist_sk = dd.dist_sk\n",
    "    join dwh.dim_car dc\n",
    "        on fcs.car_sk = dc.car_sk\n",
    "    join dwh.DIM_DLR dlr\n",
    "        on fcs.dlr_sk = dlr.dlr_sk\n",
    "    join dwh.DIM_VEH_MODEL dvm\n",
    "        on dvm.veh_mdl_sk =  dc.veh_mdl_sk\n",
    "    join dwh.dim_customer_contact dcc\n",
    "        on fcs.customer_contact_owner_sk = dcc.customer_contact_sk\n",
    "    join dwh.dim_customer_account dca\n",
    "        on fcs.customer_account_sk = dca.customer_account_sk\n",
    "    where \n",
    "    1 = 1\n",
    "    and (dca.tech_bu_id = '1-GZE' or dcc.tech_bu_id = '1-GZE')\n",
    "    and dc.make_cd = 'Mazda'\n",
    "    and fcs.cal_sale_sk >= 20140601\n",
    "    and dc.serial_num is not null\n",
    "    and dcs.sale_class_cd is not null\n",
    "    and (dcc.con_id is not null or fcs.tech_accnt_id is not null)\n",
    "    ''', con)\n",
    "\n",
    "end_time = time.time()\n",
    "print(\"sql execute time:%s\" % (end_time - start_time))"
   ]
  },
  {
   "cell_type": "code",
   "execution_count": 18,
   "metadata": {
    "application/vnd.databricks.v1+cell": {
     "cellMetadata": {},
     "inputWidgets": {},
     "nuid": "7a3c5785-9dba-4c90-8bbb-595da7325304",
     "showTitle": false,
     "title": ""
    }
   },
   "outputs": [],
   "source": [
    "import os\n",
    "path = r'C:\\\\Data Analytics\\\\Renewals Dashboard - Sales data\\\\'\n",
    "os.makedirs(path, exist_ok=True)"
   ]
  },
  {
   "cell_type": "code",
   "execution_count": 19,
   "metadata": {
    "application/vnd.databricks.v1+cell": {
     "cellMetadata": {},
     "inputWidgets": {},
     "nuid": "5491e3fb-7f63-4267-8b31-8d33becdfed4",
     "showTitle": false,
     "title": ""
    }
   },
   "outputs": [],
   "source": [
    "tcmr_base.to_csv(r'C:\\\\Data Analytics\\\\Renewals Dashboard - Sales data\\\\UKtcmr_base.csv', index = False, encoding = 'utf-8-sig')\n",
    "dlr_base.to_csv(r'C:\\\\Data Analytics\\\\Renewals Dashboard - Sales data\\\\UKdlr_base.csv', index = False, encoding = 'utf-8-sig')\n",
    "sales_base.to_csv(r'C:\\\\Data Analytics\\\\Renewals Dashboard - Sales data\\\\UKsales_base.csv', index = False, encoding = 'utf-8-sig')"
   ]
  },
  {
   "cell_type": "markdown",
   "metadata": {
    "application/vnd.databricks.v1+cell": {
     "cellMetadata": {},
     "inputWidgets": {},
     "nuid": "a9f210fa-02cb-4e52-8a51-42b05fe696fa",
     "showTitle": false,
     "title": ""
    },
    "jp-MarkdownHeadingCollapsed": true,
    "tags": []
   },
   "source": [
    "### Germany"
   ]
  },
  {
   "cell_type": "code",
   "execution_count": 20,
   "metadata": {
    "application/vnd.databricks.v1+cell": {
     "cellMetadata": {},
     "inputWidgets": {},
     "nuid": "44eb736e-a9d1-432e-af4f-88d3a2276cc6",
     "showTitle": false,
     "title": ""
    }
   },
   "outputs": [],
   "source": [
    "tcmr_base=None\n",
    "dlr_base=None\n",
    "sales_base=None"
   ]
  },
  {
   "cell_type": "code",
   "execution_count": 21,
   "metadata": {
    "application/vnd.databricks.v1+cell": {
     "cellMetadata": {},
     "inputWidgets": {},
     "nuid": "122450e1-ac31-4093-8d84-c4bd28858c8c",
     "showTitle": false,
     "title": ""
    }
   },
   "outputs": [
    {
     "name": "stderr",
     "output_type": "stream",
     "text": [
      "C:\\Users\\sknecht\\AppData\\Local\\Temp\\ipykernel_21976\\2819601676.py:4: UserWarning: pandas only supports SQLAlchemy connectable (engine/connection) or database string URI or sqlite3 DBAPI2 connection. Other DBAPI2 objects are not tested. Please consider using SQLAlchemy.\n",
      "  tcmr_base=pd.read_sql(\n"
     ]
    },
    {
     "name": "stdout",
     "output_type": "stream",
     "text": [
      "sql execute time:789.7345502376556\n"
     ]
    }
   ],
   "source": [
    "### Loading TCMR data Ger\n",
    "start_time = time.time()\n",
    "\n",
    "tcmr_base=pd.read_sql(\n",
    "    '''select \n",
    "    dtc.agree_num as \"ref_num\",\n",
    "    ftph.updated_sbl as \"tcmr_updated\",\n",
    "    ftph.status as \"tcmr_pw_status\",\n",
    "    ftph.renewal_type as \"tcmr_type\",\n",
    "    ftph.tcmr_lead_stat as \"tcmr_lead\",\n",
    "    ftph.payment_walk as \"payment_walk\",\n",
    "    ddl.dlr_code as \"crnt_dlr_code\",\n",
    "    ddl.dlr_name as \"crnt_dlr_name\"\n",
    "from dwh.fact_tcmr_contract ftc\n",
    "    join dwh.dim_tcmr_contract dtc\n",
    "        on ftc.tcmr_contract_sk = dtc.tcmr_contract_sk\n",
    "    left join dwh.FACT_TCMR_PAYMENT_HIST ftph\n",
    "        on dtc.tcmr_contract_sk = ftph.tcmr_contract_sk\n",
    "    left join dwh.dim_tcmr_contract dtc\n",
    "        on ftph.tcmr_contract_sk = dtc.tcmr_contract_sk\n",
    "    join dwh.DIM_DLR ddl\n",
    "        on ftc.dlr_sk = ddl.dlr_sk\n",
    "where\n",
    "    1 = 1\n",
    "    and ftc.tech_bu_id = '1-GZI'\n",
    "''', con)\n",
    "\n",
    "end_time = time.time()\n",
    "print(\"sql execute time:%s\" % (end_time - start_time))\n",
    "\n",
    "tcmr_base = tcmr_base.sort_values('tcmr_updated', ascending=False).drop_duplicates('ref_num').sort_index()"
   ]
  },
  {
   "cell_type": "code",
   "execution_count": 22,
   "metadata": {
    "application/vnd.databricks.v1+cell": {
     "cellMetadata": {},
     "inputWidgets": {},
     "nuid": "1bbd515d-a911-41c1-bb04-6662158f7280",
     "showTitle": false,
     "title": ""
    }
   },
   "outputs": [
    {
     "name": "stderr",
     "output_type": "stream",
     "text": [
      "C:\\Users\\sknecht\\AppData\\Local\\Temp\\ipykernel_21976\\420099745.py:4: UserWarning: pandas only supports SQLAlchemy connectable (engine/connection) or database string URI or sqlite3 DBAPI2 connection. Other DBAPI2 objects are not tested. Please consider using SQLAlchemy.\n",
      "  dlr_base=pd.read_sql('''select\n"
     ]
    },
    {
     "name": "stdout",
     "output_type": "stream",
     "text": [
      "sql execute time:0.38458251953125\n"
     ]
    }
   ],
   "source": [
    "### Loading dlr data\n",
    "start_time = time.time()\n",
    "\n",
    "dlr_base=pd.read_sql('''select \n",
    "    ddl.dlr_code as \"dlr_code\",\n",
    "    ddl.dlr_name as \"dlr_name\",\n",
    "    ddl.dlr_status as \"dlr_status\",\n",
    "    ddl.dlr_sales_district as \"mazda_zone\",\n",
    "    ddl.dlr_bank_district as \"bank_zone\",\n",
    "    ddl.DLR_SALES_ALLOW_ORDER_FLAG as \"sales_flag\"\n",
    "from dwh.DIM_DLR ddl\n",
    "where \n",
    "    1 = 1\n",
    "    and ddl.dlr_dist_code = 'MMD'\n",
    "    and ddl.dlr_sales_district is not null\n",
    "''', con)\n",
    "\n",
    "end_time = time.time()\n",
    "print(\"sql execute time:%s\" % (end_time - start_time))"
   ]
  },
  {
   "cell_type": "code",
   "execution_count": 23,
   "metadata": {
    "application/vnd.databricks.v1+cell": {
     "cellMetadata": {},
     "inputWidgets": {},
     "nuid": "2e6ec31d-d34d-4d83-9502-8b6eefe68881",
     "showTitle": false,
     "title": ""
    }
   },
   "outputs": [
    {
     "name": "stderr",
     "output_type": "stream",
     "text": [
      "C:\\Users\\sknecht\\AppData\\Local\\Temp\\ipykernel_21976\\3909614525.py:5: UserWarning: pandas only supports SQLAlchemy connectable (engine/connection) or database string URI or sqlite3 DBAPI2 connection. Other DBAPI2 objects are not tested. Please consider using SQLAlchemy.\n",
      "  sales_base=pd.read_sql('''select\n"
     ]
    },
    {
     "name": "stdout",
     "output_type": "stream",
     "text": [
      "sql execute time:227.10662198066711\n"
     ]
    }
   ],
   "source": [
    "#download sales data\n",
    "\n",
    "start_time = time.time()\n",
    "\n",
    "sales_base=pd.read_sql('''select \n",
    "    dcc.con_id as \"Contact Row ID\",\n",
    "    fcs.tech_accnt_id as \"Account Row ID\",\n",
    "    dcc.first_name as \"First Name\",\n",
    "    dcc.last_name as \"Last Name\",\n",
    "    dcc.date_of_birth as \"Birthday\",\n",
    "    dcc.address_line_1 as \"Street Address\",\n",
    "    dcc.city as \"City\",\n",
    "    dcc.post_code as \"Postal Code\",\n",
    "    dcc.country as \"Country\",\n",
    "    dcc.phone_private as \"Private Phone #\",\n",
    "    dcc.phone_work as \"Business Phone #\",\n",
    "    dcc.phone_mobile as \"Cell Phone #\",\n",
    "    dcc.email_private as \"Private Email\",\n",
    "    dcc.email_work as \"Business Email\",\n",
    "    dca.account_name as \"Account Name\",\n",
    "    dca.addr as \"Street Address.1\",\n",
    "    dca.email_1 as \"BBusiness Email\",\n",
    "    dca.email_2 as \"BPrivate Email\",\n",
    "    dca.city as \"City.1\",\n",
    "    dca.zipcode as \"Postal Code.1\",\n",
    "    dca.county as \"County.1\",\n",
    "    dlr.dlr_code as \"Dealer #\",\n",
    "    dlr.dlr_name as \"Dealer Name\",\n",
    "    dlr.dlr_country_name as \"Dealer_Country_I\",\n",
    "    fcs.tech_sale_dt as \"Sale Date\",\n",
    "    fcs.tech_vin_cd as \"VIN\",\n",
    "    dc.lcns_num as \"Registration #\",\n",
    "    dc.registered_dt as \"Registration Date\",\n",
    "    dc.model_cd as \"Model_I\",\n",
    "    dvm.veh_mdl_product_code as \"Model Number\",\n",
    "    dcs.sale_class_cd as \"New/Used/Demo\",\n",
    "    dc.fuel_cd as \"Fuel\"\n",
    "from dwh.fact_car_sales fcs\n",
    "    join dwh.dim_car_sales dcs\n",
    "        on fcs.car_sale_sk = dcs.car_sale_sk\n",
    "    join dwh.dim_dist dd\n",
    "        on fcs.dist_sk = dd.dist_sk\n",
    "    join dwh.dim_car dc\n",
    "        on fcs.car_sk = dc.car_sk\n",
    "    join dwh.DIM_DLR dlr\n",
    "        on fcs.dlr_sk = dlr.dlr_sk\n",
    "    join dwh.DIM_VEH_MODEL dvm\n",
    "        on dvm.veh_mdl_sk =  dc.veh_mdl_sk\n",
    "    join dwh.dim_customer_contact dcc\n",
    "        on fcs.customer_contact_owner_sk = dcc.customer_contact_sk\n",
    "    join dwh.dim_customer_account dca\n",
    "        on fcs.customer_account_sk = dca.customer_account_sk\n",
    "    where \n",
    "    1 = 1\n",
    "    and (dca.tech_bu_id = '1-GZI' or dcc.tech_bu_id = '1-GZI')\n",
    "    and dc.make_cd = 'Mazda'\n",
    "    and fcs.cal_sale_sk >= 20140601\n",
    "    and dc.serial_num is not null\n",
    "    and dcs.sale_class_cd is not null\n",
    "    and (dcc.con_id is not null or fcs.tech_accnt_id is not null)\n",
    "    ''', con)\n",
    "\n",
    "end_time = time.time()\n",
    "print(\"sql execute time:%s\" % (end_time - start_time))"
   ]
  },
  {
   "cell_type": "code",
   "execution_count": 24,
   "metadata": {
    "application/vnd.databricks.v1+cell": {
     "cellMetadata": {},
     "inputWidgets": {},
     "nuid": "bbf397ae-3ff2-463b-935d-461930bd44cb",
     "showTitle": false,
     "title": ""
    }
   },
   "outputs": [],
   "source": [
    "tcmr_base.to_csv(r'C:\\\\Data Analytics\\\\Renewals Dashboard - Sales data\\\\GERtcmr_base.csv', index = False, encoding = 'utf-8-sig')\n",
    "dlr_base.to_csv(r'C:\\\\Data Analytics\\\\Renewals Dashboard - Sales data\\\\GERdlr_base.csv', index = False, encoding = 'utf-8-sig')\n",
    "sales_base.to_csv(r'C:\\\\Data Analytics\\\\Renewals Dashboard - Sales data\\\\GERsales_base.csv', index = False, encoding = 'utf-8-sig')"
   ]
  },
  {
   "cell_type": "markdown",
   "metadata": {
    "application/vnd.databricks.v1+cell": {
     "cellMetadata": {},
     "inputWidgets": {},
     "nuid": "9bbf7984-1b80-4d40-9dd1-d8a321fb4d17",
     "showTitle": false,
     "title": ""
    },
    "jp-MarkdownHeadingCollapsed": true,
    "tags": []
   },
   "source": [
    "### Switzerland"
   ]
  },
  {
   "cell_type": "code",
   "execution_count": 25,
   "metadata": {
    "application/vnd.databricks.v1+cell": {
     "cellMetadata": {},
     "inputWidgets": {},
     "nuid": "47527bd3-e22d-4c87-935d-70829e6a65dd",
     "showTitle": false,
     "title": ""
    }
   },
   "outputs": [],
   "source": [
    "tcmr_base=None\n",
    "dlr_base=None\n",
    "sales_base=None"
   ]
  },
  {
   "cell_type": "code",
   "execution_count": 26,
   "metadata": {
    "application/vnd.databricks.v1+cell": {
     "cellMetadata": {},
     "inputWidgets": {},
     "nuid": "14fdb895-24c2-44cb-b3d1-52a9336ba182",
     "showTitle": false,
     "title": ""
    }
   },
   "outputs": [
    {
     "name": "stderr",
     "output_type": "stream",
     "text": [
      "C:\\Users\\sknecht\\AppData\\Local\\Temp\\ipykernel_21976\\4264391750.py:4: UserWarning: pandas only supports SQLAlchemy connectable (engine/connection) or database string URI or sqlite3 DBAPI2 connection. Other DBAPI2 objects are not tested. Please consider using SQLAlchemy.\n",
      "  tcmr_base=pd.read_sql(\n"
     ]
    },
    {
     "name": "stdout",
     "output_type": "stream",
     "text": [
      "sql execute time:78.5361590385437\n"
     ]
    }
   ],
   "source": [
    "### Loading TCMR data Ger\n",
    "start_time = time.time()\n",
    "\n",
    "tcmr_base=pd.read_sql(\n",
    "    '''select \n",
    "    dtc.agree_num as \"ref_num\",\n",
    "    ftph.updated_sbl as \"tcmr_updated\",\n",
    "    ftph.status as \"tcmr_pw_status\",\n",
    "    ftph.renewal_type as \"tcmr_type\",\n",
    "    ftph.tcmr_lead_stat as \"tcmr_lead\",\n",
    "    ftph.payment_walk as \"payment_walk\",\n",
    "    ddl.dlr_code as \"crnt_dlr_code\",\n",
    "    ddl.dlr_name as \"crnt_dlr_name\"\n",
    "from dwh.fact_tcmr_contract ftc\n",
    "    join dwh.dim_tcmr_contract dtc\n",
    "        on ftc.tcmr_contract_sk = dtc.tcmr_contract_sk\n",
    "    left join dwh.FACT_TCMR_PAYMENT_HIST ftph\n",
    "        on dtc.tcmr_contract_sk = ftph.tcmr_contract_sk\n",
    "    left join dwh.dim_tcmr_contract dtc\n",
    "        on ftph.tcmr_contract_sk = dtc.tcmr_contract_sk\n",
    "    join dwh.DIM_DLR ddl\n",
    "        on ftc.dlr_sk = ddl.dlr_sk\n",
    "where\n",
    "    1 = 1\n",
    "    and ftc.tech_bu_id = '1-8PMCW'\n",
    "''', con)\n",
    "\n",
    "end_time = time.time()\n",
    "print(\"sql execute time:%s\" % (end_time - start_time))\n",
    "\n",
    "tcmr_base = tcmr_base.sort_values('tcmr_updated', ascending=False).drop_duplicates('ref_num').sort_index()"
   ]
  },
  {
   "cell_type": "code",
   "execution_count": 27,
   "metadata": {
    "application/vnd.databricks.v1+cell": {
     "cellMetadata": {},
     "inputWidgets": {},
     "nuid": "ca3d803f-6bd7-4875-9bc5-a79e59ed19ad",
     "showTitle": false,
     "title": ""
    }
   },
   "outputs": [
    {
     "name": "stdout",
     "output_type": "stream",
     "text": [
      "sql execute time:0.1167607307434082\n"
     ]
    },
    {
     "name": "stderr",
     "output_type": "stream",
     "text": [
      "C:\\Users\\sknecht\\AppData\\Local\\Temp\\ipykernel_21976\\893207345.py:4: UserWarning: pandas only supports SQLAlchemy connectable (engine/connection) or database string URI or sqlite3 DBAPI2 connection. Other DBAPI2 objects are not tested. Please consider using SQLAlchemy.\n",
      "  dlr_base=pd.read_sql('''select\n"
     ]
    }
   ],
   "source": [
    "### Loading dlr data\n",
    "start_time = time.time()\n",
    "\n",
    "dlr_base=pd.read_sql('''select \n",
    "    ddl.dlr_code as \"dlr_code\",\n",
    "    ddl.dlr_name as \"dlr_name\",\n",
    "    ddl.dlr_status as \"dlr_status\",\n",
    "    ddl.dlr_sales_district as \"mazda_zone\",\n",
    "    ddl.dlr_bank_district as \"bank_zone\",\n",
    "    ddl.DLR_SALES_ALLOW_ORDER_FLAG as \"sales_flag\"\n",
    "from dwh.DIM_DLR ddl\n",
    "where \n",
    "    1 = 1\n",
    "    and ddl.dlr_dist_code = 'MS'\n",
    "    and ddl.dlr_sales_district is not null\n",
    "''', con)\n",
    "\n",
    "end_time = time.time()\n",
    "print(\"sql execute time:%s\" % (end_time - start_time))"
   ]
  },
  {
   "cell_type": "code",
   "execution_count": 28,
   "metadata": {
    "application/vnd.databricks.v1+cell": {
     "cellMetadata": {},
     "inputWidgets": {},
     "nuid": "248a9d15-5b42-4d3a-bb33-ad2771649961",
     "showTitle": false,
     "title": ""
    }
   },
   "outputs": [
    {
     "name": "stderr",
     "output_type": "stream",
     "text": [
      "C:\\Users\\sknecht\\AppData\\Local\\Temp\\ipykernel_21976\\457636194.py:5: UserWarning: pandas only supports SQLAlchemy connectable (engine/connection) or database string URI or sqlite3 DBAPI2 connection. Other DBAPI2 objects are not tested. Please consider using SQLAlchemy.\n",
      "  sales_base=pd.read_sql('''select\n"
     ]
    },
    {
     "name": "stdout",
     "output_type": "stream",
     "text": [
      "sql execute time:39.29549169540405\n"
     ]
    }
   ],
   "source": [
    "#download sales data\n",
    "\n",
    "start_time = time.time()\n",
    "\n",
    "sales_base=pd.read_sql('''select \n",
    "    dcc.con_id as \"Contact Row ID\",\n",
    "    fcs.tech_accnt_id as \"Account Row ID\",\n",
    "    dcc.first_name as \"First Name\",\n",
    "    dcc.last_name as \"Last Name\",\n",
    "    dcc.date_of_birth as \"Birthday\",\n",
    "    dcc.address_line_1 as \"Street Address\",\n",
    "    dcc.city as \"City\",\n",
    "    dcc.post_code as \"Postal Code\",\n",
    "    dcc.country as \"Country\",\n",
    "    dcc.phone_private as \"Private Phone #\",\n",
    "    dcc.phone_work as \"Business Phone #\",\n",
    "    dcc.phone_mobile as \"Cell Phone #\",\n",
    "    dcc.email_private as \"Private Email\",\n",
    "    dcc.email_work as \"Business Email\",\n",
    "    dca.account_name as \"Account Name\",\n",
    "    dca.addr as \"Street Address.1\",\n",
    "    dca.email_1 as \"BBusiness Email\",\n",
    "    dca.email_2 as \"BPrivate Email\",\n",
    "    dca.city as \"City.1\",\n",
    "    dca.zipcode as \"Postal Code.1\",\n",
    "    dca.county as \"County.1\",\n",
    "    dlr.dlr_code as \"Dealer #\",\n",
    "    dlr.dlr_name as \"Dealer Name\",\n",
    "    dlr.dlr_country_name as \"Dealer_Country_I\",\n",
    "    fcs.tech_sale_dt as \"Sale Date\",\n",
    "    fcs.tech_vin_cd as \"VIN\",\n",
    "    dc.lcns_num as \"Registration #\",\n",
    "    dc.registered_dt as \"Registration Date\",\n",
    "    dc.model_cd as \"Model_I\",\n",
    "    dvm.veh_mdl_product_code as \"Model Number\",\n",
    "    dcs.sale_class_cd as \"New/Used/Demo\",\n",
    "    dc.fuel_cd as \"Fuel\"\n",
    "from dwh.fact_car_sales fcs\n",
    "    join dwh.dim_car_sales dcs\n",
    "        on fcs.car_sale_sk = dcs.car_sale_sk\n",
    "    join dwh.dim_dist dd\n",
    "        on fcs.dist_sk = dd.dist_sk\n",
    "    join dwh.dim_car dc\n",
    "        on fcs.car_sk = dc.car_sk\n",
    "    join dwh.DIM_DLR dlr\n",
    "        on fcs.dlr_sk = dlr.dlr_sk\n",
    "    join dwh.DIM_VEH_MODEL dvm\n",
    "        on dvm.veh_mdl_sk =  dc.veh_mdl_sk\n",
    "    join dwh.dim_customer_contact dcc\n",
    "        on fcs.customer_contact_owner_sk = dcc.customer_contact_sk\n",
    "    join dwh.dim_customer_account dca\n",
    "        on fcs.customer_account_sk = dca.customer_account_sk\n",
    "    where \n",
    "    1 = 1\n",
    "    and (dca.tech_bu_id = '1-8PMCW' or dcc.tech_bu_id = '1-8PMCW')\n",
    "    and dc.make_cd = 'Mazda'\n",
    "    and fcs.cal_sale_sk >= 20140601\n",
    "    and dc.serial_num is not null\n",
    "    and dcs.sale_class_cd is not null\n",
    "    and (dcc.con_id is not null or fcs.tech_accnt_id is not null)\n",
    "    ''', con)\n",
    "\n",
    "end_time = time.time()\n",
    "print(\"sql execute time:%s\" % (end_time - start_time))"
   ]
  },
  {
   "cell_type": "code",
   "execution_count": 29,
   "metadata": {
    "application/vnd.databricks.v1+cell": {
     "cellMetadata": {},
     "inputWidgets": {},
     "nuid": "97bd8a5f-b75c-461d-91a7-c3db23387b4d",
     "showTitle": false,
     "title": ""
    }
   },
   "outputs": [],
   "source": [
    "tcmr_base.to_csv(r'C:\\\\Data Analytics\\\\Renewals Dashboard - Sales data\\\\CHtcmr_base.csv', index = False, encoding = 'utf-8-sig')\n",
    "dlr_base.to_csv(r'C:\\\\Data Analytics\\\\Renewals Dashboard - Sales data\\\\CHdlr_base.csv', index = False, encoding = 'utf-8-sig')\n",
    "sales_base.to_csv(r'C:\\\\Data Analytics\\\\Renewals Dashboard - Sales data\\\\CHsales_base.csv', index = False, encoding = 'utf-8-sig')"
   ]
  },
  {
   "cell_type": "markdown",
   "metadata": {
    "application/vnd.databricks.v1+cell": {
     "cellMetadata": {},
     "inputWidgets": {},
     "nuid": "5114b89f-ae82-4c54-aca4-53ab2b17abbe",
     "showTitle": false,
     "title": ""
    },
    "jp-MarkdownHeadingCollapsed": true,
    "tags": []
   },
   "source": [
    "### Spain"
   ]
  },
  {
   "cell_type": "code",
   "execution_count": 30,
   "metadata": {
    "application/vnd.databricks.v1+cell": {
     "cellMetadata": {},
     "inputWidgets": {},
     "nuid": "fb636276-3a13-46a5-b4ad-3ccdb64bcd6f",
     "showTitle": false,
     "title": ""
    }
   },
   "outputs": [],
   "source": [
    "tcmr_base=None\n",
    "dlr_base=None\n",
    "sales_base=None"
   ]
  },
  {
   "cell_type": "code",
   "execution_count": 31,
   "metadata": {
    "application/vnd.databricks.v1+cell": {
     "cellMetadata": {},
     "inputWidgets": {},
     "nuid": "b938213d-4740-47a5-865f-6947de497bfe",
     "showTitle": false,
     "title": ""
    }
   },
   "outputs": [
    {
     "name": "stderr",
     "output_type": "stream",
     "text": [
      "C:\\Users\\sknecht\\AppData\\Local\\Temp\\ipykernel_21976\\3309356607.py:4: UserWarning: pandas only supports SQLAlchemy connectable (engine/connection) or database string URI or sqlite3 DBAPI2 connection. Other DBAPI2 objects are not tested. Please consider using SQLAlchemy.\n",
      "  tcmr_base=pd.read_sql(\n"
     ]
    },
    {
     "name": "stdout",
     "output_type": "stream",
     "text": [
      "sql execute time:174.11813116073608\n"
     ]
    }
   ],
   "source": [
    "### Loading TCMR data Spain\n",
    "start_time = time.time()\n",
    "\n",
    "tcmr_base=pd.read_sql(\n",
    "    '''select \n",
    "    dtc.agree_num as \"ref_num\",\n",
    "    ftph.updated_sbl as \"tcmr_updated\",\n",
    "    ftph.status as \"tcmr_pw_status\",\n",
    "    ftph.renewal_type as \"tcmr_type\",\n",
    "    ftph.tcmr_lead_stat as \"tcmr_lead\",\n",
    "    ftph.payment_walk as \"payment_walk\",\n",
    "    ddl.dlr_code as \"crnt_dlr_code\",\n",
    "    ddl.dlr_name as \"crnt_dlr_name\"\n",
    "from dwh.fact_tcmr_contract ftc\n",
    "    join dwh.dim_tcmr_contract dtc\n",
    "        on ftc.tcmr_contract_sk = dtc.tcmr_contract_sk\n",
    "    left join dwh.FACT_TCMR_PAYMENT_HIST ftph\n",
    "        on dtc.tcmr_contract_sk = ftph.tcmr_contract_sk\n",
    "    left join dwh.dim_tcmr_contract dtc\n",
    "        on ftph.tcmr_contract_sk = dtc.tcmr_contract_sk\n",
    "    join dwh.DIM_DLR ddl\n",
    "        on ftc.dlr_sk = ddl.dlr_sk\n",
    "where\n",
    "    1 = 1\n",
    "    and ftc.tech_bu_id = '1-8PMAJ'\n",
    "''', con)\n",
    "\n",
    "end_time = time.time()\n",
    "print(\"sql execute time:%s\" % (end_time - start_time))\n",
    "\n",
    "tcmr_base = tcmr_base.sort_values('tcmr_updated', ascending=False).drop_duplicates('ref_num').sort_index()"
   ]
  },
  {
   "cell_type": "code",
   "execution_count": 32,
   "metadata": {
    "application/vnd.databricks.v1+cell": {
     "cellMetadata": {},
     "inputWidgets": {},
     "nuid": "d554e12a-4bcd-4da2-baf2-59ee37ddaf21",
     "showTitle": false,
     "title": ""
    }
   },
   "outputs": [
    {
     "name": "stdout",
     "output_type": "stream",
     "text": [
      "sql execute time:0.08666777610778809\n"
     ]
    },
    {
     "name": "stderr",
     "output_type": "stream",
     "text": [
      "C:\\Users\\sknecht\\AppData\\Local\\Temp\\ipykernel_21976\\1464237243.py:4: UserWarning: pandas only supports SQLAlchemy connectable (engine/connection) or database string URI or sqlite3 DBAPI2 connection. Other DBAPI2 objects are not tested. Please consider using SQLAlchemy.\n",
      "  dlr_base=pd.read_sql('''select\n"
     ]
    }
   ],
   "source": [
    "### Loading dlr data\n",
    "start_time = time.time()\n",
    "\n",
    "dlr_base=pd.read_sql('''select \n",
    "    ddl.dlr_code as \"dlr_code\",\n",
    "    ddl.dlr_name as \"dlr_name\",\n",
    "    ddl.dlr_status as \"dlr_status\",\n",
    "    ddl.dlr_sales_district as \"mazda_zone\",\n",
    "    ddl.dlr_bank_district as \"bank_zone\",\n",
    "    ddl.DLR_SALES_ALLOW_ORDER_FLAG as \"sales_flag\"\n",
    "from dwh.DIM_DLR ddl\n",
    "where \n",
    "    1 = 1\n",
    "    and ddl.dlr_dist_code = 'MAE'\n",
    "    and ddl.dlr_sales_district is not null\n",
    "''', con)\n",
    "\n",
    "end_time = time.time()\n",
    "print(\"sql execute time:%s\" % (end_time - start_time))"
   ]
  },
  {
   "cell_type": "code",
   "execution_count": 33,
   "metadata": {
    "application/vnd.databricks.v1+cell": {
     "cellMetadata": {},
     "inputWidgets": {},
     "nuid": "6aadbd9e-7a28-4f49-b7f9-3a0b3895d091",
     "showTitle": false,
     "title": ""
    }
   },
   "outputs": [
    {
     "name": "stderr",
     "output_type": "stream",
     "text": [
      "C:\\Users\\sknecht\\AppData\\Local\\Temp\\ipykernel_21976\\495616538.py:5: UserWarning: pandas only supports SQLAlchemy connectable (engine/connection) or database string URI or sqlite3 DBAPI2 connection. Other DBAPI2 objects are not tested. Please consider using SQLAlchemy.\n",
      "  sales_base=pd.read_sql('''select\n"
     ]
    },
    {
     "name": "stdout",
     "output_type": "stream",
     "text": [
      "sql execute time:72.78986120223999\n"
     ]
    }
   ],
   "source": [
    "#download sales data\n",
    "\n",
    "start_time = time.time()\n",
    "\n",
    "sales_base=pd.read_sql('''select \n",
    "    dcc.con_id as \"Contact Row ID\",\n",
    "    fcs.tech_accnt_id as \"Account Row ID\",\n",
    "    dcc.first_name as \"First Name\",\n",
    "    dcc.last_name as \"Last Name\",\n",
    "    dcc.date_of_birth as \"Birthday\",\n",
    "    dcc.address_line_1 as \"Street Address\",\n",
    "    dcc.city as \"City\",\n",
    "    dcc.post_code as \"Postal Code\",\n",
    "    dcc.country as \"Country\",\n",
    "    dcc.phone_private as \"Private Phone #\",\n",
    "    dcc.phone_work as \"Business Phone #\",\n",
    "    dcc.phone_mobile as \"Cell Phone #\",\n",
    "    dcc.email_private as \"Private Email\",\n",
    "    dcc.email_work as \"Business Email\",\n",
    "    dca.account_name as \"Account Name\",\n",
    "    dca.addr as \"Street Address.1\",\n",
    "    dca.email_1 as \"BBusiness Email\",\n",
    "    dca.email_2 as \"BPrivate Email\",\n",
    "    dca.city as \"City.1\",\n",
    "    dca.zipcode as \"Postal Code.1\",\n",
    "    dca.county as \"County.1\",\n",
    "    dlr.dlr_code as \"Dealer #\",\n",
    "    dlr.dlr_name as \"Dealer Name\",\n",
    "    dlr.dlr_country_name as \"Dealer_Country_I\",\n",
    "    fcs.tech_sale_dt as \"Sale Date\",\n",
    "    fcs.tech_vin_cd as \"VIN\",\n",
    "    dc.lcns_num as \"Registration #\",\n",
    "    dc.registered_dt as \"Registration Date\",\n",
    "    dc.model_cd as \"Model_I\",\n",
    "    dvm.veh_mdl_product_code as \"Model Number\",\n",
    "    dcs.sale_class_cd as \"New/Used/Demo\",\n",
    "    dc.fuel_cd as \"Fuel\"\n",
    "from dwh.fact_car_sales fcs\n",
    "    join dwh.dim_car_sales dcs\n",
    "        on fcs.car_sale_sk = dcs.car_sale_sk\n",
    "    join dwh.dim_dist dd\n",
    "        on fcs.dist_sk = dd.dist_sk\n",
    "    join dwh.dim_car dc\n",
    "        on fcs.car_sk = dc.car_sk\n",
    "    join dwh.DIM_DLR dlr\n",
    "        on fcs.dlr_sk = dlr.dlr_sk\n",
    "    join dwh.DIM_VEH_MODEL dvm\n",
    "        on dvm.veh_mdl_sk =  dc.veh_mdl_sk\n",
    "    join dwh.dim_customer_contact dcc\n",
    "        on fcs.customer_contact_owner_sk = dcc.customer_contact_sk\n",
    "    join dwh.dim_customer_account dca\n",
    "        on fcs.customer_account_sk = dca.customer_account_sk\n",
    "    where \n",
    "    1 = 1\n",
    "    and (dca.tech_bu_id = '1-8PMAJ' or dcc.tech_bu_id = '1-8PMAJ')\n",
    "    and dc.make_cd = 'Mazda'\n",
    "    and fcs.cal_sale_sk >= 20140601\n",
    "    and dc.serial_num is not null\n",
    "    and dcs.sale_class_cd is not null\n",
    "    and (dcc.con_id is not null or fcs.tech_accnt_id is not null)\n",
    "    ''', con)\n",
    "\n",
    "end_time = time.time()\n",
    "print(\"sql execute time:%s\" % (end_time - start_time))"
   ]
  },
  {
   "cell_type": "code",
   "execution_count": 34,
   "metadata": {
    "application/vnd.databricks.v1+cell": {
     "cellMetadata": {},
     "inputWidgets": {},
     "nuid": "53437e54-8ce4-4a9f-840a-4fd41096a1b0",
     "showTitle": false,
     "title": ""
    },
    "tags": []
   },
   "outputs": [],
   "source": [
    "tcmr_base.to_csv(r'C:\\\\Data Analytics\\\\Renewals Dashboard - Sales data\\\\EStcmr_base.csv', index = False, encoding = 'utf-8-sig')\n",
    "dlr_base.to_csv(r'C:\\\\Data Analytics\\\\Renewals Dashboard - Sales data\\\\ESdlr_base.csv', index = False, encoding = 'utf-8-sig')\n",
    "sales_base.to_csv(r'C:\\\\Data Analytics\\\\Renewals Dashboard - Sales data\\\\ESsales_base.csv', index = False, encoding = 'utf-8-sig')"
   ]
  },
  {
   "cell_type": "markdown",
   "metadata": {
    "application/vnd.databricks.v1+cell": {
     "cellMetadata": {},
     "inputWidgets": {},
     "nuid": "a1b31800-2a8f-4b0d-b87c-e74618c4d920",
     "showTitle": false,
     "title": ""
    }
   },
   "source": [
    "### Italy"
   ]
  },
  {
   "cell_type": "code",
   "execution_count": 35,
   "metadata": {
    "application/vnd.databricks.v1+cell": {
     "cellMetadata": {},
     "inputWidgets": {},
     "nuid": "418ba246-646e-4b5b-b1d0-6e815f011ac4",
     "showTitle": false,
     "title": ""
    }
   },
   "outputs": [],
   "source": [
    "tcmr_base=None\n",
    "dlr_base=None\n",
    "sales_base=None"
   ]
  },
  {
   "cell_type": "code",
   "execution_count": 36,
   "metadata": {
    "application/vnd.databricks.v1+cell": {
     "cellMetadata": {},
     "inputWidgets": {},
     "nuid": "a35bc4ff-d1ad-4e7e-9149-ee1baf6a4d2f",
     "showTitle": false,
     "title": ""
    }
   },
   "outputs": [
    {
     "name": "stderr",
     "output_type": "stream",
     "text": [
      "C:\\Users\\sknecht\\AppData\\Local\\Temp\\ipykernel_21976\\323868668.py:4: UserWarning: pandas only supports SQLAlchemy connectable (engine/connection) or database string URI or sqlite3 DBAPI2 connection. Other DBAPI2 objects are not tested. Please consider using SQLAlchemy.\n",
      "  tcmr_base=pd.read_sql(\n"
     ]
    },
    {
     "name": "stdout",
     "output_type": "stream",
     "text": [
      "sql execute time:79.30128788948059\n"
     ]
    }
   ],
   "source": [
    "### Loading TCMR data Spain\n",
    "start_time = time.time()\n",
    "\n",
    "tcmr_base=pd.read_sql(\n",
    "    '''select \n",
    "    dtc.agree_num as \"ref_num\",\n",
    "    ftph.updated_sbl as \"tcmr_updated\",\n",
    "    ftph.status as \"tcmr_pw_status\",\n",
    "    ftph.renewal_type as \"tcmr_type\",\n",
    "    ftph.tcmr_lead_stat as \"tcmr_lead\",\n",
    "    ftph.payment_walk as \"payment_walk\",\n",
    "    ddl.dlr_code as \"crnt_dlr_code\",\n",
    "    ddl.dlr_name as \"crnt_dlr_name\"\n",
    "from dwh.fact_tcmr_contract ftc\n",
    "    join dwh.dim_tcmr_contract dtc\n",
    "        on ftc.tcmr_contract_sk = dtc.tcmr_contract_sk\n",
    "    left join dwh.FACT_TCMR_PAYMENT_HIST ftph\n",
    "        on dtc.tcmr_contract_sk = ftph.tcmr_contract_sk\n",
    "    left join dwh.dim_tcmr_contract dtc\n",
    "        on ftph.tcmr_contract_sk = dtc.tcmr_contract_sk\n",
    "    join dwh.DIM_DLR ddl\n",
    "        on ftc.dlr_sk = ddl.dlr_sk\n",
    "where\n",
    "    1 = 1\n",
    "    and ftc.tech_bu_id = '1-8PMDL'\n",
    "''', con)\n",
    "\n",
    "end_time = time.time()\n",
    "print(\"sql execute time:%s\" % (end_time - start_time))\n",
    "\n",
    "tcmr_base = tcmr_base.sort_values('tcmr_updated', ascending=False).drop_duplicates('ref_num').sort_index()"
   ]
  },
  {
   "cell_type": "code",
   "execution_count": 37,
   "metadata": {
    "application/vnd.databricks.v1+cell": {
     "cellMetadata": {},
     "inputWidgets": {},
     "nuid": "5d211b6a-9bf6-4a72-b023-43536c4ca167",
     "showTitle": false,
     "title": ""
    }
   },
   "outputs": [
    {
     "name": "stderr",
     "output_type": "stream",
     "text": [
      "C:\\Users\\sknecht\\AppData\\Local\\Temp\\ipykernel_21976\\120558498.py:4: UserWarning: pandas only supports SQLAlchemy connectable (engine/connection) or database string URI or sqlite3 DBAPI2 connection. Other DBAPI2 objects are not tested. Please consider using SQLAlchemy.\n",
      "  dlr_base=pd.read_sql('''select\n"
     ]
    },
    {
     "name": "stdout",
     "output_type": "stream",
     "text": [
      "sql execute time:0.23608875274658203\n"
     ]
    }
   ],
   "source": [
    "### Loading dlr data\n",
    "start_time = time.time()\n",
    "\n",
    "dlr_base=pd.read_sql('''select \n",
    "    ddl.dlr_code as \"dlr_code\",\n",
    "    ddl.dlr_name as \"dlr_name\",\n",
    "    ddl.dlr_status as \"dlr_status\",\n",
    "    ddl.dlr_sales_district as \"mazda_zone\",\n",
    "    ddl.dlr_bank_district as \"bank_zone\",\n",
    "    ddl.DLR_SALES_ALLOW_ORDER_FLAG as \"sales_flag\"\n",
    "from dwh.DIM_DLR ddl\n",
    "where \n",
    "    1 = 1\n",
    "    and ddl.dlr_dist_code = 'MMI'\n",
    "    and ddl.dlr_sales_district is not null\n",
    "''', con)\n",
    "\n",
    "end_time = time.time()\n",
    "print(\"sql execute time:%s\" % (end_time - start_time))"
   ]
  },
  {
   "cell_type": "code",
   "execution_count": 38,
   "metadata": {
    "application/vnd.databricks.v1+cell": {
     "cellMetadata": {},
     "inputWidgets": {},
     "nuid": "7cc7bb37-d018-4260-aaa5-1a0b6fcafd18",
     "showTitle": false,
     "title": ""
    }
   },
   "outputs": [
    {
     "name": "stderr",
     "output_type": "stream",
     "text": [
      "C:\\Users\\sknecht\\AppData\\Local\\Temp\\ipykernel_21976\\4143542672.py:5: UserWarning: pandas only supports SQLAlchemy connectable (engine/connection) or database string URI or sqlite3 DBAPI2 connection. Other DBAPI2 objects are not tested. Please consider using SQLAlchemy.\n",
      "  sales_base=pd.read_sql('''select\n"
     ]
    },
    {
     "name": "stdout",
     "output_type": "stream",
     "text": [
      "sql execute time:119.52933311462402\n"
     ]
    }
   ],
   "source": [
    "#download sales data\n",
    "\n",
    "start_time = time.time()\n",
    "\n",
    "sales_base=pd.read_sql('''select \n",
    "    dcc.con_id as \"Contact Row ID\",\n",
    "    fcs.tech_accnt_id as \"Account Row ID\",\n",
    "    dcc.first_name as \"First Name\",\n",
    "    dcc.last_name as \"Last Name\",\n",
    "    dcc.date_of_birth as \"Birthday\",\n",
    "    dcc.address_line_1 as \"Street Address\",\n",
    "    dcc.city as \"City\",\n",
    "    dcc.post_code as \"Postal Code\",\n",
    "    dcc.country as \"Country\",\n",
    "    dcc.phone_private as \"Private Phone #\",\n",
    "    dcc.phone_work as \"Business Phone #\",\n",
    "    dcc.phone_mobile as \"Cell Phone #\",\n",
    "    dcc.email_private as \"Private Email\",\n",
    "    dcc.email_work as \"Business Email\",\n",
    "    dca.account_name as \"Account Name\",\n",
    "    dca.addr as \"Street Address.1\",\n",
    "    dca.email_1 as \"BBusiness Email\",\n",
    "    dca.email_2 as \"BPrivate Email\",\n",
    "    dca.city as \"City.1\",\n",
    "    dca.zipcode as \"Postal Code.1\",\n",
    "    dca.county as \"County.1\",\n",
    "    dlr.dlr_code as \"Dealer #\",\n",
    "    dlr.dlr_name as \"Dealer Name\",\n",
    "    dlr.dlr_country_name as \"Dealer_Country_I\",\n",
    "    fcs.tech_sale_dt as \"Sale Date\",\n",
    "    fcs.tech_vin_cd as \"VIN\",\n",
    "    dc.lcns_num as \"Registration #\",\n",
    "    dc.registered_dt as \"Registration Date\",\n",
    "    dc.model_cd as \"Model_I\",\n",
    "    dvm.veh_mdl_product_code as \"Model Number\",\n",
    "    dcs.sale_class_cd as \"New/Used/Demo\",\n",
    "    dc.fuel_cd as \"Fuel\"\n",
    "from dwh.fact_car_sales fcs\n",
    "    join dwh.dim_car_sales dcs\n",
    "        on fcs.car_sale_sk = dcs.car_sale_sk\n",
    "    join dwh.dim_dist dd\n",
    "        on fcs.dist_sk = dd.dist_sk\n",
    "    join dwh.dim_car dc\n",
    "        on fcs.car_sk = dc.car_sk\n",
    "    join dwh.DIM_DLR dlr\n",
    "        on fcs.dlr_sk = dlr.dlr_sk\n",
    "    join dwh.DIM_VEH_MODEL dvm\n",
    "        on dvm.veh_mdl_sk =  dc.veh_mdl_sk\n",
    "    join dwh.dim_customer_contact dcc\n",
    "        on fcs.customer_contact_owner_sk = dcc.customer_contact_sk\n",
    "    join dwh.dim_customer_account dca\n",
    "        on fcs.customer_account_sk = dca.customer_account_sk\n",
    "    where \n",
    "    1 = 1\n",
    "    and (dca.tech_bu_id = '1-8PMDL' or dcc.tech_bu_id = '1-8PMDL')\n",
    "    and dc.make_cd = 'Mazda'\n",
    "    and fcs.cal_sale_sk >= 20140601\n",
    "    and dc.serial_num is not null\n",
    "    and dcs.sale_class_cd is not null\n",
    "    and (dcc.con_id is not null or fcs.tech_accnt_id is not null)\n",
    "    ''', con)\n",
    "\n",
    "end_time = time.time()\n",
    "print(\"sql execute time:%s\" % (end_time - start_time))"
   ]
  },
  {
   "cell_type": "code",
   "execution_count": 39,
   "metadata": {
    "application/vnd.databricks.v1+cell": {
     "cellMetadata": {},
     "inputWidgets": {},
     "nuid": "b87f96a2-06bc-4875-a77d-15c3425fa8e4",
     "showTitle": false,
     "title": ""
    }
   },
   "outputs": [],
   "source": [
    "tcmr_base.to_csv(r'C:\\\\Data Analytics\\\\Renewals Dashboard - Sales data\\\\ITtcmr_base.csv', index = False, encoding = 'utf-8-sig')\n",
    "dlr_base.to_csv(r'C:\\\\Data Analytics\\\\Renewals Dashboard - Sales data\\\\ITdlr_base.csv', index = False, encoding = 'utf-8-sig')\n",
    "sales_base.to_csv(r'C:\\\\Data Analytics\\\\Renewals Dashboard - Sales data\\\\ITsales_base.csv', index = False, encoding = 'utf-8-sig')"
   ]
  },
  {
   "cell_type": "markdown",
   "metadata": {
    "application/vnd.databricks.v1+cell": {
     "cellMetadata": {},
     "inputWidgets": {},
     "nuid": "8bcd37ec-c239-461a-b793-0bd406340a39",
     "showTitle": false,
     "title": ""
    }
   },
   "source": [
    "#### France"
   ]
  },
  {
   "cell_type": "code",
   "execution_count": 40,
   "metadata": {
    "application/vnd.databricks.v1+cell": {
     "cellMetadata": {},
     "inputWidgets": {},
     "nuid": "0acc0ee4-77e6-4e4c-a8e4-4adbda11629b",
     "showTitle": false,
     "title": ""
    }
   },
   "outputs": [],
   "source": [
    "tcmr_base=None\n",
    "dlr_base=None\n",
    "sales_base=None"
   ]
  },
  {
   "cell_type": "code",
   "execution_count": 41,
   "metadata": {
    "application/vnd.databricks.v1+cell": {
     "cellMetadata": {},
     "inputWidgets": {},
     "nuid": "439084c1-1ff6-4e03-b85b-bbe242b2b3a8",
     "showTitle": false,
     "title": ""
    }
   },
   "outputs": [
    {
     "name": "stderr",
     "output_type": "stream",
     "text": [
      "C:\\Users\\sknecht\\AppData\\Local\\Temp\\ipykernel_21976\\1548607196.py:4: UserWarning: pandas only supports SQLAlchemy connectable (engine/connection) or database string URI or sqlite3 DBAPI2 connection. Other DBAPI2 objects are not tested. Please consider using SQLAlchemy.\n",
      "  tcmr_base=pd.read_sql(\n"
     ]
    },
    {
     "name": "stdout",
     "output_type": "stream",
     "text": [
      "sql execute time:43.828540563583374\n"
     ]
    }
   ],
   "source": [
    "### Loading TCMR data France\n",
    "start_time = time.time()\n",
    "\n",
    "tcmr_base=pd.read_sql(\n",
    "    '''select \n",
    "    dtc.agree_num as \"ref_num\",\n",
    "    ftph.updated_sbl as \"tcmr_updated\",\n",
    "    ftph.status as \"tcmr_pw_status\",\n",
    "    ftph.renewal_type as \"tcmr_type\",\n",
    "    ftph.tcmr_lead_stat as \"tcmr_lead\",\n",
    "    ftph.payment_walk as \"payment_walk\",\n",
    "    ddl.dlr_code as \"crnt_dlr_code\",\n",
    "    ddl.dlr_name as \"crnt_dlr_name\"\n",
    "from dwh.fact_tcmr_contract ftc\n",
    "    join dwh.dim_tcmr_contract dtc\n",
    "        on ftc.tcmr_contract_sk = dtc.tcmr_contract_sk\n",
    "    left join dwh.FACT_TCMR_PAYMENT_HIST ftph\n",
    "        on dtc.tcmr_contract_sk = ftph.tcmr_contract_sk\n",
    "    left join dwh.dim_tcmr_contract dtc\n",
    "        on ftph.tcmr_contract_sk = dtc.tcmr_contract_sk\n",
    "    join dwh.DIM_DLR ddl\n",
    "        on ftc.dlr_sk = ddl.dlr_sk\n",
    "where\n",
    "    1 = 1\n",
    "    and ftc.tech_bu_id = '1-8PM8P'\n",
    "''', con)\n",
    "\n",
    "end_time = time.time()\n",
    "print(\"sql execute time:%s\" % (end_time - start_time))\n",
    "\n",
    "tcmr_base = tcmr_base.sort_values('tcmr_updated', ascending=False).drop_duplicates('ref_num').sort_index()"
   ]
  },
  {
   "cell_type": "code",
   "execution_count": 42,
   "metadata": {
    "application/vnd.databricks.v1+cell": {
     "cellMetadata": {},
     "inputWidgets": {},
     "nuid": "12ae46bf-1972-4840-adc8-04394da4d045",
     "showTitle": false,
     "title": ""
    }
   },
   "outputs": [
    {
     "name": "stdout",
     "output_type": "stream",
     "text": [
      "sql execute time:0.19820666313171387\n"
     ]
    },
    {
     "name": "stderr",
     "output_type": "stream",
     "text": [
      "C:\\Users\\sknecht\\AppData\\Local\\Temp\\ipykernel_21976\\2620639876.py:4: UserWarning: pandas only supports SQLAlchemy connectable (engine/connection) or database string URI or sqlite3 DBAPI2 connection. Other DBAPI2 objects are not tested. Please consider using SQLAlchemy.\n",
      "  dlr_base=pd.read_sql('''select\n"
     ]
    }
   ],
   "source": [
    "### Loading dlr data\n",
    "start_time = time.time()\n",
    "\n",
    "dlr_base=pd.read_sql('''select \n",
    "    ddl.dlr_code as \"dlr_code\",\n",
    "    ddl.dlr_name as \"dlr_name\",\n",
    "    ddl.dlr_status as \"dlr_status\",\n",
    "    ddl.dlr_sales_district as \"mazda_zone\",\n",
    "    ddl.dlr_bank_district as \"bank_zone\",\n",
    "    ddl.DLR_SALES_ALLOW_ORDER_FLAG as \"sales_flag\"\n",
    "from dwh.DIM_DLR ddl\n",
    "where \n",
    "    1 = 1\n",
    "    and ddl.dlr_dist_code = 'MAF'\n",
    "    and ddl.dlr_sales_district is not null\n",
    "''', con)\n",
    "\n",
    "end_time = time.time()\n",
    "print(\"sql execute time:%s\" % (end_time - start_time))"
   ]
  },
  {
   "cell_type": "code",
   "execution_count": 43,
   "metadata": {
    "application/vnd.databricks.v1+cell": {
     "cellMetadata": {},
     "inputWidgets": {},
     "nuid": "33d80070-3c72-4735-94c0-2ff1edddc5dc",
     "showTitle": false,
     "title": ""
    }
   },
   "outputs": [
    {
     "name": "stderr",
     "output_type": "stream",
     "text": [
      "C:\\Users\\sknecht\\AppData\\Local\\Temp\\ipykernel_21976\\3179698137.py:5: UserWarning: pandas only supports SQLAlchemy connectable (engine/connection) or database string URI or sqlite3 DBAPI2 connection. Other DBAPI2 objects are not tested. Please consider using SQLAlchemy.\n",
      "  sales_base=pd.read_sql('''select\n"
     ]
    },
    {
     "name": "stdout",
     "output_type": "stream",
     "text": [
      "sql execute time:61.9362359046936\n"
     ]
    }
   ],
   "source": [
    "#download sales data\n",
    "\n",
    "start_time = time.time()\n",
    "\n",
    "sales_base=pd.read_sql('''select \n",
    "    dcc.con_id as \"Contact Row ID\",\n",
    "    fcs.tech_accnt_id as \"Account Row ID\",\n",
    "    dcc.first_name as \"First Name\",\n",
    "    dcc.last_name as \"Last Name\",\n",
    "    dcc.date_of_birth as \"Birthday\",\n",
    "    dcc.address_line_1 as \"Street Address\",\n",
    "    dcc.city as \"City\",\n",
    "    dcc.post_code as \"Postal Code\",\n",
    "    dcc.country as \"Country\",\n",
    "    dcc.phone_private as \"Private Phone #\",\n",
    "    dcc.phone_work as \"Business Phone #\",\n",
    "    dcc.phone_mobile as \"Cell Phone #\",\n",
    "    dcc.email_private as \"Private Email\",\n",
    "    dcc.email_work as \"Business Email\",\n",
    "    dca.account_name as \"Account Name\",\n",
    "    dca.addr as \"Street Address.1\",\n",
    "    dca.email_1 as \"BBusiness Email\",\n",
    "    dca.email_2 as \"BPrivate Email\",\n",
    "    dca.city as \"City.1\",\n",
    "    dca.zipcode as \"Postal Code.1\",\n",
    "    dca.county as \"County.1\",\n",
    "    dlr.dlr_code as \"Dealer #\",\n",
    "    dlr.dlr_name as \"Dealer Name\",\n",
    "    dlr.dlr_country_name as \"Dealer_Country_I\",\n",
    "    fcs.tech_sale_dt as \"Sale Date\",\n",
    "    fcs.tech_vin_cd as \"VIN\",\n",
    "    dc.lcns_num as \"Registration #\",\n",
    "    dc.registered_dt as \"Registration Date\",\n",
    "    dc.model_cd as \"Model_I\",\n",
    "    dvm.veh_mdl_product_code as \"Model Number\",\n",
    "    dcs.sale_class_cd as \"New/Used/Demo\",\n",
    "    dc.fuel_cd as \"Fuel\"\n",
    "from dwh.fact_car_sales fcs\n",
    "    join dwh.dim_car_sales dcs\n",
    "        on fcs.car_sale_sk = dcs.car_sale_sk\n",
    "    join dwh.dim_dist dd\n",
    "        on fcs.dist_sk = dd.dist_sk\n",
    "    join dwh.dim_car dc\n",
    "        on fcs.car_sk = dc.car_sk\n",
    "    join dwh.DIM_DLR dlr\n",
    "        on fcs.dlr_sk = dlr.dlr_sk\n",
    "    join dwh.DIM_VEH_MODEL dvm\n",
    "        on dvm.veh_mdl_sk =  dc.veh_mdl_sk\n",
    "    join dwh.dim_customer_contact dcc\n",
    "        on fcs.customer_contact_owner_sk = dcc.customer_contact_sk\n",
    "    join dwh.dim_customer_account dca\n",
    "        on fcs.customer_account_sk = dca.customer_account_sk\n",
    "    where \n",
    "    1 = 1\n",
    "    and (dca.tech_bu_id = '1-8PM8P' or dcc.tech_bu_id = '1-8PM8P')\n",
    "    and dc.make_cd = 'Mazda'\n",
    "    and fcs.cal_sale_sk >= 20140601\n",
    "    and dc.serial_num is not null\n",
    "    and dcs.sale_class_cd is not null\n",
    "    and (dcc.con_id is not null or fcs.tech_accnt_id is not null)\n",
    "    ''', con)\n",
    "\n",
    "end_time = time.time()\n",
    "print(\"sql execute time:%s\" % (end_time - start_time))"
   ]
  },
  {
   "cell_type": "code",
   "execution_count": 44,
   "metadata": {
    "application/vnd.databricks.v1+cell": {
     "cellMetadata": {},
     "inputWidgets": {},
     "nuid": "3b429ce3-7b35-49c8-a547-191fe38447b5",
     "showTitle": false,
     "title": ""
    }
   },
   "outputs": [],
   "source": [
    "tcmr_base.to_csv(r'C:\\\\Data Analytics\\\\Renewals Dashboard - Sales data\\\\FRtcmr_base.csv', index = False, encoding = 'utf-8-sig')\n",
    "dlr_base.to_csv(r'C:\\\\Data Analytics\\\\Renewals Dashboard - Sales data\\\\FRdlr_base.csv', index = False, encoding = 'utf-8-sig')\n",
    "sales_base.to_csv(r'C:\\\\Data Analytics\\\\Renewals Dashboard - Sales data\\\\FRsales_base.csv', index = False, encoding = 'utf-8-sig')"
   ]
  },
  {
   "cell_type": "markdown",
   "metadata": {
    "application/vnd.databricks.v1+cell": {
     "cellMetadata": {},
     "inputWidgets": {},
     "nuid": "e753bd71-d11a-4b8e-9ac3-521dd2d8d7d8",
     "showTitle": false,
     "title": ""
    }
   },
   "source": [
    "### Poland"
   ]
  },
  {
   "cell_type": "code",
   "execution_count": 45,
   "metadata": {
    "application/vnd.databricks.v1+cell": {
     "cellMetadata": {},
     "inputWidgets": {},
     "nuid": "28bb5015-5b1c-4454-bc35-f3b550b32ff7",
     "showTitle": false,
     "title": ""
    }
   },
   "outputs": [],
   "source": [
    "tcmr_base=None\n",
    "dlr_base=None\n",
    "sales_base=None"
   ]
  },
  {
   "cell_type": "code",
   "execution_count": 46,
   "metadata": {
    "application/vnd.databricks.v1+cell": {
     "cellMetadata": {},
     "inputWidgets": {},
     "nuid": "470a902b-6435-47f8-86a4-185eecc3551c",
     "showTitle": false,
     "title": ""
    }
   },
   "outputs": [
    {
     "name": "stderr",
     "output_type": "stream",
     "text": [
      "C:\\Users\\sknecht\\AppData\\Local\\Temp\\ipykernel_21976\\2529471146.py:4: UserWarning: pandas only supports SQLAlchemy connectable (engine/connection) or database string URI or sqlite3 DBAPI2 connection. Other DBAPI2 objects are not tested. Please consider using SQLAlchemy.\n",
      "  tcmr_base=pd.read_sql(\n"
     ]
    },
    {
     "name": "stdout",
     "output_type": "stream",
     "text": [
      "sql execute time:78.52293992042542\n"
     ]
    }
   ],
   "source": [
    "### Loading TCMR data France\n",
    "start_time = time.time()\n",
    "\n",
    "tcmr_base=pd.read_sql(\n",
    "    '''select \n",
    "    dtc.agree_num as \"ref_num\",\n",
    "    ftph.updated_sbl as \"tcmr_updated\",\n",
    "    ftph.status as \"tcmr_pw_status\",\n",
    "    ftph.renewal_type as \"tcmr_type\",\n",
    "    ftph.tcmr_lead_stat as \"tcmr_lead\",\n",
    "    ftph.payment_walk as \"payment_walk\",\n",
    "    ddl.dlr_code as \"crnt_dlr_code\",\n",
    "    ddl.dlr_name as \"crnt_dlr_name\"\n",
    "from dwh.fact_tcmr_contract ftc\n",
    "    join dwh.dim_tcmr_contract dtc\n",
    "        on ftc.tcmr_contract_sk = dtc.tcmr_contract_sk\n",
    "    left join dwh.FACT_TCMR_PAYMENT_HIST ftph\n",
    "        on dtc.tcmr_contract_sk = ftph.tcmr_contract_sk\n",
    "    left join dwh.dim_tcmr_contract dtc\n",
    "        on ftph.tcmr_contract_sk = dtc.tcmr_contract_sk\n",
    "    join dwh.DIM_DLR ddl\n",
    "        on ftc.dlr_sk = ddl.dlr_sk\n",
    "where\n",
    "    1 = 1\n",
    "    and ftc.tech_bu_id = '1-8PMCM'\n",
    "''', con)\n",
    "\n",
    "end_time = time.time()\n",
    "print(\"sql execute time:%s\" % (end_time - start_time))\n",
    "\n",
    "tcmr_base = tcmr_base.sort_values('tcmr_updated', ascending=False).drop_duplicates('ref_num').sort_index()"
   ]
  },
  {
   "cell_type": "code",
   "execution_count": 47,
   "metadata": {
    "application/vnd.databricks.v1+cell": {
     "cellMetadata": {},
     "inputWidgets": {},
     "nuid": "c9e90c50-d2f0-4e98-a6ad-8386e8350c26",
     "showTitle": false,
     "title": ""
    }
   },
   "outputs": [
    {
     "name": "stdout",
     "output_type": "stream",
     "text": [
      "sql execute time:0.10386276245117188\n"
     ]
    },
    {
     "name": "stderr",
     "output_type": "stream",
     "text": [
      "C:\\Users\\sknecht\\AppData\\Local\\Temp\\ipykernel_21976\\202411213.py:4: UserWarning: pandas only supports SQLAlchemy connectable (engine/connection) or database string URI or sqlite3 DBAPI2 connection. Other DBAPI2 objects are not tested. Please consider using SQLAlchemy.\n",
      "  dlr_base=pd.read_sql('''select\n"
     ]
    }
   ],
   "source": [
    "### Loading dlr data\n",
    "start_time = time.time()\n",
    "\n",
    "dlr_base=pd.read_sql('''select \n",
    "    ddl.dlr_code as \"dlr_code\",\n",
    "    ddl.dlr_name as \"dlr_name\",\n",
    "    ddl.dlr_status as \"dlr_status\",\n",
    "    ddl.dlr_sales_district as \"mazda_zone\",\n",
    "    ddl.dlr_bank_district as \"bank_zone\",\n",
    "    ddl.DLR_SALES_ALLOW_ORDER_FLAG as \"sales_flag\"\n",
    "from dwh.DIM_DLR ddl\n",
    "where \n",
    "    1 = 1\n",
    "    and ddl.dlr_dist_code = 'MMPOL'\n",
    "    and ddl.dlr_sales_district is not null\n",
    "''', con)\n",
    "\n",
    "end_time = time.time()\n",
    "print(\"sql execute time:%s\" % (end_time - start_time))"
   ]
  },
  {
   "cell_type": "code",
   "execution_count": 48,
   "metadata": {
    "application/vnd.databricks.v1+cell": {
     "cellMetadata": {},
     "inputWidgets": {},
     "nuid": "c6d429f4-b40b-4b35-9c20-2b228119a95c",
     "showTitle": false,
     "title": ""
    }
   },
   "outputs": [
    {
     "name": "stderr",
     "output_type": "stream",
     "text": [
      "C:\\Users\\sknecht\\AppData\\Local\\Temp\\ipykernel_21976\\951546004.py:5: UserWarning: pandas only supports SQLAlchemy connectable (engine/connection) or database string URI or sqlite3 DBAPI2 connection. Other DBAPI2 objects are not tested. Please consider using SQLAlchemy.\n",
      "  sales_base=pd.read_sql('''select\n"
     ]
    },
    {
     "name": "stdout",
     "output_type": "stream",
     "text": [
      "sql execute time:52.79890727996826\n"
     ]
    }
   ],
   "source": [
    "#download sales data\n",
    "\n",
    "start_time = time.time()\n",
    "\n",
    "sales_base=pd.read_sql('''select \n",
    "    dcc.con_id as \"Contact Row ID\",\n",
    "    fcs.tech_accnt_id as \"Account Row ID\",\n",
    "    dcc.first_name as \"First Name\",\n",
    "    dcc.last_name as \"Last Name\",\n",
    "    dcc.date_of_birth as \"Birthday\",\n",
    "    dcc.address_line_1 as \"Street Address\",\n",
    "    dcc.city as \"City\",\n",
    "    dcc.post_code as \"Postal Code\",\n",
    "    dcc.country as \"Country\",\n",
    "    dcc.phone_private as \"Private Phone #\",\n",
    "    dcc.phone_work as \"Business Phone #\",\n",
    "    dcc.phone_mobile as \"Cell Phone #\",\n",
    "    dcc.email_private as \"Private Email\",\n",
    "    dcc.email_work as \"Business Email\",\n",
    "    dca.account_name as \"Account Name\",\n",
    "    dca.addr as \"Street Address.1\",\n",
    "    dca.email_1 as \"BBusiness Email\",\n",
    "    dca.email_2 as \"BPrivate Email\",\n",
    "    dca.city as \"City.1\",\n",
    "    dca.zipcode as \"Postal Code.1\",\n",
    "    dca.county as \"County.1\",\n",
    "    dlr.dlr_code as \"Dealer #\",\n",
    "    dlr.dlr_name as \"Dealer Name\",\n",
    "    dlr.dlr_country_name as \"Dealer_Country_I\",\n",
    "    fcs.tech_sale_dt as \"Sale Date\",\n",
    "    fcs.tech_vin_cd as \"VIN\",\n",
    "    dc.lcns_num as \"Registration #\",\n",
    "    dc.registered_dt as \"Registration Date\",\n",
    "    dc.model_cd as \"Model_I\",\n",
    "    dvm.veh_mdl_product_code as \"Model Number\",\n",
    "    dcs.sale_class_cd as \"New/Used/Demo\",\n",
    "    dc.fuel_cd as \"Fuel\"\n",
    "from dwh.fact_car_sales fcs\n",
    "    join dwh.dim_car_sales dcs\n",
    "        on fcs.car_sale_sk = dcs.car_sale_sk\n",
    "    join dwh.dim_dist dd\n",
    "        on fcs.dist_sk = dd.dist_sk\n",
    "    join dwh.dim_car dc\n",
    "        on fcs.car_sk = dc.car_sk\n",
    "    join dwh.DIM_DLR dlr\n",
    "        on fcs.dlr_sk = dlr.dlr_sk\n",
    "    join dwh.DIM_VEH_MODEL dvm\n",
    "        on dvm.veh_mdl_sk =  dc.veh_mdl_sk\n",
    "    join dwh.dim_customer_contact dcc\n",
    "        on fcs.customer_contact_owner_sk = dcc.customer_contact_sk\n",
    "    join dwh.dim_customer_account dca\n",
    "        on fcs.customer_account_sk = dca.customer_account_sk\n",
    "    where \n",
    "    1 = 1\n",
    "    and (dca.tech_bu_id = '1-8PMCM' or dcc.tech_bu_id = '1-8PMCM')\n",
    "    and dc.make_cd = 'Mazda'\n",
    "    and fcs.cal_sale_sk >= 20140601\n",
    "    and dc.serial_num is not null\n",
    "    and dcs.sale_class_cd is not null\n",
    "    and (dcc.con_id is not null or fcs.tech_accnt_id is not null)\n",
    "    ''', con)\n",
    "\n",
    "end_time = time.time()\n",
    "print(\"sql execute time:%s\" % (end_time - start_time))"
   ]
  },
  {
   "cell_type": "code",
   "execution_count": 49,
   "metadata": {
    "application/vnd.databricks.v1+cell": {
     "cellMetadata": {},
     "inputWidgets": {},
     "nuid": "aa06b263-eb08-4aa0-a558-f39bde962503",
     "showTitle": false,
     "title": ""
    }
   },
   "outputs": [],
   "source": [
    "tcmr_base.to_csv(r'C:\\\\Data Analytics\\\\Renewals Dashboard - Sales data\\\\POLtcmr_base.csv', index = False, encoding = 'utf-8-sig')\n",
    "dlr_base.to_csv(r'C:\\\\Data Analytics\\\\Renewals Dashboard - Sales data\\\\POLdlr_base.csv', index = False, encoding = 'utf-8-sig')\n",
    "sales_base.to_csv(r'C:\\\\Data Analytics\\\\Renewals Dashboard - Sales data\\\\POLsales_base.csv', index = False, encoding = 'utf-8-sig')"
   ]
  },
  {
   "cell_type": "markdown",
   "metadata": {
    "application/vnd.databricks.v1+cell": {
     "cellMetadata": {},
     "inputWidgets": {},
     "nuid": "f7f3ee8f-7cb4-430b-9599-d27ce60f128b",
     "showTitle": false,
     "title": ""
    }
   },
   "source": [
    "# Austria"
   ]
  },
  {
   "cell_type": "code",
   "execution_count": 50,
   "metadata": {
    "application/vnd.databricks.v1+cell": {
     "cellMetadata": {},
     "inputWidgets": {},
     "nuid": "4b5867c7-b8e2-4fe8-91cc-86989876760b",
     "showTitle": false,
     "title": ""
    }
   },
   "outputs": [],
   "source": [
    "tcmr_base=None\n",
    "dlr_base=None\n",
    "sales_base=None"
   ]
  },
  {
   "cell_type": "code",
   "execution_count": 51,
   "metadata": {
    "application/vnd.databricks.v1+cell": {
     "cellMetadata": {},
     "inputWidgets": {},
     "nuid": "6c71a7e0-7577-4d5e-92a2-2a16e812c9c7",
     "showTitle": false,
     "title": ""
    }
   },
   "outputs": [
    {
     "name": "stderr",
     "output_type": "stream",
     "text": [
      "C:\\Users\\sknecht\\AppData\\Local\\Temp\\ipykernel_21976\\3530738084.py:4: UserWarning: pandas only supports SQLAlchemy connectable (engine/connection) or database string URI or sqlite3 DBAPI2 connection. Other DBAPI2 objects are not tested. Please consider using SQLAlchemy.\n",
      "  tcmr_base=pd.read_sql(\n"
     ]
    },
    {
     "name": "stdout",
     "output_type": "stream",
     "text": [
      "sql execute time:87.01189041137695\n"
     ]
    }
   ],
   "source": [
    "### Loading TCMR data Austria\n",
    "start_time = time.time()\n",
    "\n",
    "tcmr_base=pd.read_sql(\n",
    "    '''select \n",
    "    dtc.agree_num as \"ref_num\",\n",
    "    ftph.updated_sbl as \"tcmr_updated\",\n",
    "    ftph.status as \"tcmr_pw_status\",\n",
    "    ftph.renewal_type as \"tcmr_type\",\n",
    "    ftph.tcmr_lead_stat as \"tcmr_lead\",\n",
    "    ftph.payment_walk as \"payment_walk\",\n",
    "    ddl.dlr_code as \"crnt_dlr_code\",\n",
    "    ddl.dlr_name as \"crnt_dlr_name\"\n",
    "from dwh.fact_tcmr_contract ftc\n",
    "    join dwh.dim_tcmr_contract dtc\n",
    "        on ftc.tcmr_contract_sk = dtc.tcmr_contract_sk\n",
    "    left join dwh.FACT_TCMR_PAYMENT_HIST ftph\n",
    "        on dtc.tcmr_contract_sk = ftph.tcmr_contract_sk\n",
    "    left join dwh.dim_tcmr_contract dtc\n",
    "        on ftph.tcmr_contract_sk = dtc.tcmr_contract_sk\n",
    "    join dwh.DIM_DLR ddl\n",
    "        on ftc.dlr_sk = ddl.dlr_sk\n",
    "where\n",
    "    1 = 1\n",
    "    and ftc.tech_bu_id = '1-8PMCM'\n",
    "''', con)\n",
    "\n",
    "end_time = time.time()\n",
    "print(\"sql execute time:%s\" % (end_time - start_time))\n",
    "\n",
    "tcmr_base = tcmr_base.sort_values('tcmr_updated', ascending=False).drop_duplicates('ref_num').sort_index()"
   ]
  },
  {
   "cell_type": "code",
   "execution_count": 52,
   "metadata": {
    "application/vnd.databricks.v1+cell": {
     "cellMetadata": {},
     "inputWidgets": {},
     "nuid": "3ecfec42-13cd-496a-96d7-0342efe6fee3",
     "showTitle": false,
     "title": ""
    }
   },
   "outputs": [
    {
     "name": "stdout",
     "output_type": "stream",
     "text": [
      "sql execute time:0.07084774971008301\n"
     ]
    },
    {
     "name": "stderr",
     "output_type": "stream",
     "text": [
      "C:\\Users\\sknecht\\AppData\\Local\\Temp\\ipykernel_21976\\3799364023.py:4: UserWarning: pandas only supports SQLAlchemy connectable (engine/connection) or database string URI or sqlite3 DBAPI2 connection. Other DBAPI2 objects are not tested. Please consider using SQLAlchemy.\n",
      "  dlr_base=pd.read_sql('''select\n"
     ]
    }
   ],
   "source": [
    "### Loading dlr data\n",
    "start_time = time.time()\n",
    "\n",
    "dlr_base=pd.read_sql('''select \n",
    "    ddl.dlr_code as \"dlr_code\",\n",
    "    ddl.dlr_name as \"dlr_name\",\n",
    "    ddl.dlr_status as \"dlr_status\",\n",
    "    ddl.dlr_sales_district as \"mazda_zone\",\n",
    "    ddl.dlr_bank_district as \"bank_zone\",\n",
    "    ddl.DLR_SALES_ALLOW_ORDER_FLAG as \"sales_flag\"\n",
    "from dwh.DIM_DLR ddl\n",
    "where \n",
    "    1 = 1\n",
    "    and ddl.dlr_dist_code = 'MAG'\n",
    "    and ddl.dlr_sales_district is not null\n",
    "''', con)\n",
    "\n",
    "end_time = time.time()\n",
    "print(\"sql execute time:%s\" % (end_time - start_time))"
   ]
  },
  {
   "cell_type": "code",
   "execution_count": 53,
   "metadata": {
    "application/vnd.databricks.v1+cell": {
     "cellMetadata": {},
     "inputWidgets": {},
     "nuid": "2e6741f9-ffeb-48d3-83a9-e7f8536b05bd",
     "showTitle": false,
     "title": ""
    }
   },
   "outputs": [
    {
     "name": "stderr",
     "output_type": "stream",
     "text": [
      "C:\\Users\\sknecht\\AppData\\Local\\Temp\\ipykernel_21976\\951546004.py:5: UserWarning: pandas only supports SQLAlchemy connectable (engine/connection) or database string URI or sqlite3 DBAPI2 connection. Other DBAPI2 objects are not tested. Please consider using SQLAlchemy.\n",
      "  sales_base=pd.read_sql('''select\n"
     ]
    },
    {
     "name": "stdout",
     "output_type": "stream",
     "text": [
      "sql execute time:44.971246004104614\n"
     ]
    }
   ],
   "source": [
    "#download sales data\n",
    "\n",
    "start_time = time.time()\n",
    "\n",
    "sales_base=pd.read_sql('''select \n",
    "    dcc.con_id as \"Contact Row ID\",\n",
    "    fcs.tech_accnt_id as \"Account Row ID\",\n",
    "    dcc.first_name as \"First Name\",\n",
    "    dcc.last_name as \"Last Name\",\n",
    "    dcc.date_of_birth as \"Birthday\",\n",
    "    dcc.address_line_1 as \"Street Address\",\n",
    "    dcc.city as \"City\",\n",
    "    dcc.post_code as \"Postal Code\",\n",
    "    dcc.country as \"Country\",\n",
    "    dcc.phone_private as \"Private Phone #\",\n",
    "    dcc.phone_work as \"Business Phone #\",\n",
    "    dcc.phone_mobile as \"Cell Phone #\",\n",
    "    dcc.email_private as \"Private Email\",\n",
    "    dcc.email_work as \"Business Email\",\n",
    "    dca.account_name as \"Account Name\",\n",
    "    dca.addr as \"Street Address.1\",\n",
    "    dca.email_1 as \"BBusiness Email\",\n",
    "    dca.email_2 as \"BPrivate Email\",\n",
    "    dca.city as \"City.1\",\n",
    "    dca.zipcode as \"Postal Code.1\",\n",
    "    dca.county as \"County.1\",\n",
    "    dlr.dlr_code as \"Dealer #\",\n",
    "    dlr.dlr_name as \"Dealer Name\",\n",
    "    dlr.dlr_country_name as \"Dealer_Country_I\",\n",
    "    fcs.tech_sale_dt as \"Sale Date\",\n",
    "    fcs.tech_vin_cd as \"VIN\",\n",
    "    dc.lcns_num as \"Registration #\",\n",
    "    dc.registered_dt as \"Registration Date\",\n",
    "    dc.model_cd as \"Model_I\",\n",
    "    dvm.veh_mdl_product_code as \"Model Number\",\n",
    "    dcs.sale_class_cd as \"New/Used/Demo\",\n",
    "    dc.fuel_cd as \"Fuel\"\n",
    "from dwh.fact_car_sales fcs\n",
    "    join dwh.dim_car_sales dcs\n",
    "        on fcs.car_sale_sk = dcs.car_sale_sk\n",
    "    join dwh.dim_dist dd\n",
    "        on fcs.dist_sk = dd.dist_sk\n",
    "    join dwh.dim_car dc\n",
    "        on fcs.car_sk = dc.car_sk\n",
    "    join dwh.DIM_DLR dlr\n",
    "        on fcs.dlr_sk = dlr.dlr_sk\n",
    "    join dwh.DIM_VEH_MODEL dvm\n",
    "        on dvm.veh_mdl_sk =  dc.veh_mdl_sk\n",
    "    join dwh.dim_customer_contact dcc\n",
    "        on fcs.customer_contact_owner_sk = dcc.customer_contact_sk\n",
    "    join dwh.dim_customer_account dca\n",
    "        on fcs.customer_account_sk = dca.customer_account_sk\n",
    "    where \n",
    "    1 = 1\n",
    "    and (dca.tech_bu_id = '1-8PMCM' or dcc.tech_bu_id = '1-8PMCM')\n",
    "    and dc.make_cd = 'Mazda'\n",
    "    and fcs.cal_sale_sk >= 20140601\n",
    "    and dc.serial_num is not null\n",
    "    and dcs.sale_class_cd is not null\n",
    "    and (dcc.con_id is not null or fcs.tech_accnt_id is not null)\n",
    "    ''', con)\n",
    "\n",
    "end_time = time.time()\n",
    "print(\"sql execute time:%s\" % (end_time - start_time))"
   ]
  },
  {
   "cell_type": "code",
   "execution_count": 54,
   "metadata": {
    "application/vnd.databricks.v1+cell": {
     "cellMetadata": {},
     "inputWidgets": {},
     "nuid": "f6d41a40-36f6-4b1e-b7d9-480c2ada7e6d",
     "showTitle": false,
     "title": ""
    }
   },
   "outputs": [],
   "source": [
    "tcmr_base.to_csv(r'C:\\\\Data Analytics\\\\Renewals Dashboard - Sales data\\\\ATtcmr_base.csv', index = False, encoding = 'utf-8-sig')\n",
    "dlr_base.to_csv(r'C:\\\\Data Analytics\\\\Renewals Dashboard - Sales data\\\\ATdlr_base.csv', index = False, encoding = 'utf-8-sig')\n",
    "sales_base.to_csv(r'C:\\\\Data Analytics\\\\Renewals Dashboard - Sales data\\\\ATsales_base.csv', index = False, encoding = 'utf-8-sig')"
   ]
  },
  {
   "cell_type": "markdown",
   "metadata": {
    "application/vnd.databricks.v1+cell": {
     "cellMetadata": {},
     "inputWidgets": {},
     "nuid": "6dd3ae4e-6d6d-486f-bdb8-c5d8e948c52b",
     "showTitle": false,
     "title": ""
    }
   },
   "source": [
    "# Ireland"
   ]
  },
  {
   "cell_type": "code",
   "execution_count": 55,
   "metadata": {
    "application/vnd.databricks.v1+cell": {
     "cellMetadata": {},
     "inputWidgets": {},
     "nuid": "ed9dbbe5-46a1-4d5e-b0a0-699f7ac60d6b",
     "showTitle": false,
     "title": ""
    }
   },
   "outputs": [],
   "source": [
    "tcmr_base=None\n",
    "dlr_base=None\n",
    "sales_base=None"
   ]
  },
  {
   "cell_type": "code",
   "execution_count": 56,
   "metadata": {
    "application/vnd.databricks.v1+cell": {
     "cellMetadata": {},
     "inputWidgets": {},
     "nuid": "9d5b204c-8504-4ee7-a900-c9659a62b680",
     "showTitle": false,
     "title": ""
    }
   },
   "outputs": [
    {
     "name": "stderr",
     "output_type": "stream",
     "text": [
      "C:\\Users\\sknecht\\AppData\\Local\\Temp\\ipykernel_21976\\2187602347.py:4: UserWarning: pandas only supports SQLAlchemy connectable (engine/connection) or database string URI or sqlite3 DBAPI2 connection. Other DBAPI2 objects are not tested. Please consider using SQLAlchemy.\n",
      "  tcmr_base=pd.read_sql(\n"
     ]
    },
    {
     "name": "stdout",
     "output_type": "stream",
     "text": [
      "sql execute time:79.23521304130554\n"
     ]
    }
   ],
   "source": [
    "### Loading TCMR data Ireland\n",
    "start_time = time.time()\n",
    "\n",
    "tcmr_base=pd.read_sql(\n",
    "    '''select \n",
    "    dtc.agree_num as \"ref_num\",\n",
    "    ftph.updated_sbl as \"tcmr_updated\",\n",
    "    ftph.status as \"tcmr_pw_status\",\n",
    "    ftph.renewal_type as \"tcmr_type\",\n",
    "    ftph.tcmr_lead_stat as \"tcmr_lead\",\n",
    "    ftph.payment_walk as \"payment_walk\",\n",
    "    ddl.dlr_code as \"crnt_dlr_code\",\n",
    "    ddl.dlr_name as \"crnt_dlr_name\"\n",
    "from dwh.fact_tcmr_contract ftc\n",
    "    join dwh.dim_tcmr_contract dtc\n",
    "        on ftc.tcmr_contract_sk = dtc.tcmr_contract_sk\n",
    "    left join dwh.FACT_TCMR_PAYMENT_HIST ftph\n",
    "        on dtc.tcmr_contract_sk = ftph.tcmr_contract_sk\n",
    "    left join dwh.dim_tcmr_contract dtc\n",
    "        on ftph.tcmr_contract_sk = dtc.tcmr_contract_sk\n",
    "    join dwh.DIM_DLR ddl\n",
    "        on ftc.dlr_sk = ddl.dlr_sk\n",
    "where\n",
    "    1 = 1\n",
    "    and ftc.tech_bu_id = '1-8PMCM'\n",
    "''', con)\n",
    "\n",
    "end_time = time.time()\n",
    "print(\"sql execute time:%s\" % (end_time - start_time))\n",
    "\n",
    "tcmr_base = tcmr_base.sort_values('tcmr_updated', ascending=False).drop_duplicates('ref_num').sort_index()"
   ]
  },
  {
   "cell_type": "code",
   "execution_count": 57,
   "metadata": {
    "application/vnd.databricks.v1+cell": {
     "cellMetadata": {},
     "inputWidgets": {},
     "nuid": "01c0fb15-fe4e-4586-92fb-2e946dfacd84",
     "showTitle": false,
     "title": ""
    }
   },
   "outputs": [
    {
     "name": "stdout",
     "output_type": "stream",
     "text": [
      "sql execute time:0.08637785911560059\n"
     ]
    },
    {
     "name": "stderr",
     "output_type": "stream",
     "text": [
      "C:\\Users\\sknecht\\AppData\\Local\\Temp\\ipykernel_21976\\1909522352.py:4: UserWarning: pandas only supports SQLAlchemy connectable (engine/connection) or database string URI or sqlite3 DBAPI2 connection. Other DBAPI2 objects are not tested. Please consider using SQLAlchemy.\n",
      "  dlr_base=pd.read_sql('''select\n"
     ]
    }
   ],
   "source": [
    "### Loading dlr data\n",
    "start_time = time.time()\n",
    "\n",
    "dlr_base=pd.read_sql('''select \n",
    "    ddl.dlr_code as \"dlr_code\",\n",
    "    ddl.dlr_name as \"dlr_name\",\n",
    "    ddl.dlr_status as \"dlr_status\",\n",
    "    ddl.dlr_sales_district as \"mazda_zone\",\n",
    "    ddl.dlr_bank_district as \"bank_zone\",\n",
    "    ddl.DLR_SALES_ALLOW_ORDER_FLAG as \"sales_flag\"\n",
    "from dwh.DIM_DLR ddl\n",
    "where \n",
    "    1 = 1\n",
    "    and ddl.dlr_dist_code = 'MMIRL'\n",
    "    and ddl.dlr_sales_district is not null\n",
    "''', con)\n",
    "\n",
    "end_time = time.time()\n",
    "print(\"sql execute time:%s\" % (end_time - start_time))"
   ]
  },
  {
   "cell_type": "code",
   "execution_count": 58,
   "metadata": {
    "application/vnd.databricks.v1+cell": {
     "cellMetadata": {},
     "inputWidgets": {},
     "nuid": "b66fadcb-18f3-4e68-a8d0-2e4f5bd997db",
     "showTitle": false,
     "title": ""
    }
   },
   "outputs": [
    {
     "name": "stderr",
     "output_type": "stream",
     "text": [
      "C:\\Users\\sknecht\\AppData\\Local\\Temp\\ipykernel_21976\\951546004.py:5: UserWarning: pandas only supports SQLAlchemy connectable (engine/connection) or database string URI or sqlite3 DBAPI2 connection. Other DBAPI2 objects are not tested. Please consider using SQLAlchemy.\n",
      "  sales_base=pd.read_sql('''select\n"
     ]
    },
    {
     "name": "stdout",
     "output_type": "stream",
     "text": [
      "sql execute time:40.93847990036011\n"
     ]
    }
   ],
   "source": [
    "#download sales data\n",
    "\n",
    "start_time = time.time()\n",
    "\n",
    "sales_base=pd.read_sql('''select \n",
    "    dcc.con_id as \"Contact Row ID\",\n",
    "    fcs.tech_accnt_id as \"Account Row ID\",\n",
    "    dcc.first_name as \"First Name\",\n",
    "    dcc.last_name as \"Last Name\",\n",
    "    dcc.date_of_birth as \"Birthday\",\n",
    "    dcc.address_line_1 as \"Street Address\",\n",
    "    dcc.city as \"City\",\n",
    "    dcc.post_code as \"Postal Code\",\n",
    "    dcc.country as \"Country\",\n",
    "    dcc.phone_private as \"Private Phone #\",\n",
    "    dcc.phone_work as \"Business Phone #\",\n",
    "    dcc.phone_mobile as \"Cell Phone #\",\n",
    "    dcc.email_private as \"Private Email\",\n",
    "    dcc.email_work as \"Business Email\",\n",
    "    dca.account_name as \"Account Name\",\n",
    "    dca.addr as \"Street Address.1\",\n",
    "    dca.email_1 as \"BBusiness Email\",\n",
    "    dca.email_2 as \"BPrivate Email\",\n",
    "    dca.city as \"City.1\",\n",
    "    dca.zipcode as \"Postal Code.1\",\n",
    "    dca.county as \"County.1\",\n",
    "    dlr.dlr_code as \"Dealer #\",\n",
    "    dlr.dlr_name as \"Dealer Name\",\n",
    "    dlr.dlr_country_name as \"Dealer_Country_I\",\n",
    "    fcs.tech_sale_dt as \"Sale Date\",\n",
    "    fcs.tech_vin_cd as \"VIN\",\n",
    "    dc.lcns_num as \"Registration #\",\n",
    "    dc.registered_dt as \"Registration Date\",\n",
    "    dc.model_cd as \"Model_I\",\n",
    "    dvm.veh_mdl_product_code as \"Model Number\",\n",
    "    dcs.sale_class_cd as \"New/Used/Demo\",\n",
    "    dc.fuel_cd as \"Fuel\"\n",
    "from dwh.fact_car_sales fcs\n",
    "    join dwh.dim_car_sales dcs\n",
    "        on fcs.car_sale_sk = dcs.car_sale_sk\n",
    "    join dwh.dim_dist dd\n",
    "        on fcs.dist_sk = dd.dist_sk\n",
    "    join dwh.dim_car dc\n",
    "        on fcs.car_sk = dc.car_sk\n",
    "    join dwh.DIM_DLR dlr\n",
    "        on fcs.dlr_sk = dlr.dlr_sk\n",
    "    join dwh.DIM_VEH_MODEL dvm\n",
    "        on dvm.veh_mdl_sk =  dc.veh_mdl_sk\n",
    "    join dwh.dim_customer_contact dcc\n",
    "        on fcs.customer_contact_owner_sk = dcc.customer_contact_sk\n",
    "    join dwh.dim_customer_account dca\n",
    "        on fcs.customer_account_sk = dca.customer_account_sk\n",
    "    where \n",
    "    1 = 1\n",
    "    and (dca.tech_bu_id = '1-8PMCM' or dcc.tech_bu_id = '1-8PMCM')\n",
    "    and dc.make_cd = 'Mazda'\n",
    "    and fcs.cal_sale_sk >= 20140601\n",
    "    and dc.serial_num is not null\n",
    "    and dcs.sale_class_cd is not null\n",
    "    and (dcc.con_id is not null or fcs.tech_accnt_id is not null)\n",
    "    ''', con)\n",
    "\n",
    "end_time = time.time()\n",
    "print(\"sql execute time:%s\" % (end_time - start_time))"
   ]
  },
  {
   "cell_type": "code",
   "execution_count": 59,
   "metadata": {
    "application/vnd.databricks.v1+cell": {
     "cellMetadata": {},
     "inputWidgets": {},
     "nuid": "d958a995-aee5-4da5-baa9-fe2938e80c12",
     "showTitle": false,
     "title": ""
    }
   },
   "outputs": [],
   "source": [
    "tcmr_base.to_csv(r'C:\\\\Data Analytics\\\\Renewals Dashboard - Sales data\\\\IRLtcmr_base.csv', index = False, encoding = 'utf-8-sig')\n",
    "dlr_base.to_csv(r'C:\\\\Data Analytics\\\\Renewals Dashboard - Sales data\\\\IRLdlr_base.csv', index = False, encoding = 'utf-8-sig')\n",
    "sales_base.to_csv(r'C:\\\\Data Analytics\\\\Renewals Dashboard - Sales data\\\\IRLsales_base.csv', index = False, encoding = 'utf-8-sig')"
   ]
  },
  {
   "cell_type": "code",
   "execution_count": 60,
   "metadata": {
    "application/vnd.databricks.v1+cell": {
     "cellMetadata": {},
     "inputWidgets": {},
     "nuid": "82723cd6-135a-42bf-98c3-3fccf08302e6",
     "showTitle": false,
     "title": ""
    }
   },
   "outputs": [
    {
     "name": "stdout",
     "output_type": "stream",
     "text": [
      "ALL Done - great job!\n"
     ]
    }
   ],
   "source": [
    "print('ALL Done - great job!')"
   ]
  },
  {
   "cell_type": "code",
   "execution_count": 61,
   "metadata": {
    "application/vnd.databricks.v1+cell": {
     "cellMetadata": {},
     "inputWidgets": {},
     "nuid": "a06b759a-4ed4-4fc5-8d5e-bc05bd931389",
     "showTitle": false,
     "title": ""
    }
   },
   "outputs": [],
   "source": [
    "## Upload and replace existing files in Teams: MLE_P_IT_Power BI rollout/Pilot - MME Financial Services/renewal report input data"
   ]
  },
  {
   "cell_type": "code",
   "execution_count": null,
   "metadata": {
    "application/vnd.databricks.v1+cell": {
     "cellMetadata": {},
     "inputWidgets": {},
     "nuid": "6d67f6c2-2d38-4cc2-acce-4f6530ce1f7b",
     "showTitle": false,
     "title": ""
    }
   },
   "outputs": [],
   "source": []
  }
 ],
 "metadata": {
  "application/vnd.databricks.v1+notebook": {
   "dashboards": [],
   "language": "python",
   "notebookMetadata": {},
   "notebookName": "SQL Sales Dealer  TCMR. data queries updated 01.23",
   "widgets": {}
  },
  "kernelspec": {
   "display_name": "Python 3 (ipykernel)",
   "language": "python",
   "name": "python3"
  },
  "language_info": {
   "codemirror_mode": {
    "name": "ipython",
    "version": 3
   },
   "file_extension": ".py",
   "mimetype": "text/x-python",
   "name": "python",
   "nbconvert_exporter": "python",
   "pygments_lexer": "ipython3",
   "version": "3.11.5"
  },
  "toc": {
   "base_numbering": 1,
   "nav_menu": {},
   "number_sections": true,
   "sideBar": true,
   "skip_h1_title": false,
   "title_cell": "Table of Contents",
   "title_sidebar": "Contents",
   "toc_cell": false,
   "toc_position": {},
   "toc_section_display": true,
   "toc_window_display": false
  },
  "varInspector": {
   "cols": {
    "lenName": 16,
    "lenType": 16,
    "lenVar": 40
   },
   "kernels_config": {
    "python": {
     "delete_cmd_postfix": "",
     "delete_cmd_prefix": "del ",
     "library": "var_list.py",
     "varRefreshCmd": "print(var_dic_list())"
    },
    "r": {
     "delete_cmd_postfix": ") ",
     "delete_cmd_prefix": "rm(",
     "library": "var_list.r",
     "varRefreshCmd": "cat(var_dic_list()) "
    }
   },
   "types_to_exclude": [
    "module",
    "function",
    "builtin_function_or_method",
    "instance",
    "_Feature"
   ],
   "window_display": false
  }
 },
 "nbformat": 4,
 "nbformat_minor": 0
}
