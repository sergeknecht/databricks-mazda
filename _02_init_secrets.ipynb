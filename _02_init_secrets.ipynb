{
 "cells": [
  {
   "cell_type": "markdown",
   "metadata": {},
   "source": [
    "# Install Required Libraries\n",
    "Install the necessary libraries, including python-dotenv to handle .env files."
   ]
  },
  {
   "cell_type": "markdown",
   "metadata": {},
   "source": [
    "# Save Secrets to JDBC Scope\n",
    "Save the extracted secrets to the newly created JDBC scope."
   ]
  },
  {
   "cell_type": "code",
   "execution_count": 4,
   "metadata": {},
   "outputs": [
    {
     "ename": "ImportError",
     "evalue": "cannot import name 'SecretScope' from 'databricks.sdk' (/Users/sergeknecht/Dropbox/Projects/databricks-mazda/venv/lib/python3.11/site-packages/databricks/sdk/__init__.py)",
     "output_type": "error",
     "traceback": [
      "\u001b[0;31m---------------------------------------------------------------------------\u001b[0m",
      "\u001b[0;31mImportError\u001b[0m                               Traceback (most recent call last)",
      "\u001b[1;32m/Users/sergeknecht/Dropbox/Projects/databricks-mazda/_02_init_secrets.ipynb Cell 3\u001b[0m line \u001b[0;36m2\n\u001b[1;32m      <a href='vscode-notebook-cell:/Users/sergeknecht/Dropbox/Projects/databricks-mazda/_02_init_secrets.ipynb#W2sZmlsZQ%3D%3D?line=0'>1</a>\u001b[0m \u001b[39m# Importing required libraries\u001b[39;00m\n\u001b[0;32m----> <a href='vscode-notebook-cell:/Users/sergeknecht/Dropbox/Projects/databricks-mazda/_02_init_secrets.ipynb#W2sZmlsZQ%3D%3D?line=1'>2</a>\u001b[0m \u001b[39mfrom\u001b[39;00m \u001b[39mdatabricks\u001b[39;00m\u001b[39m.\u001b[39;00m\u001b[39msdk\u001b[39;00m \u001b[39mimport\u001b[39;00m SecretScope, Secret\n\u001b[1;32m      <a href='vscode-notebook-cell:/Users/sergeknecht/Dropbox/Projects/databricks-mazda/_02_init_secrets.ipynb#W2sZmlsZQ%3D%3D?line=2'>3</a>\u001b[0m \u001b[39mfrom\u001b[39;00m \u001b[39mhelpers\u001b[39;00m\u001b[39m.\u001b[39;00m\u001b[39menv_utils\u001b[39;00m \u001b[39mimport\u001b[39;00m load_env_as_json, load_env_as_list\n\u001b[1;32m      <a href='vscode-notebook-cell:/Users/sergeknecht/Dropbox/Projects/databricks-mazda/_02_init_secrets.ipynb#W2sZmlsZQ%3D%3D?line=4'>5</a>\u001b[0m scope_name \u001b[39m=\u001b[39m \u001b[39m\"\u001b[39m\u001b[39mACP\u001b[39m\u001b[39m\"\u001b[39m\n",
      "\u001b[0;31mImportError\u001b[0m: cannot import name 'SecretScope' from 'databricks.sdk' (/Users/sergeknecht/Dropbox/Projects/databricks-mazda/venv/lib/python3.11/site-packages/databricks/sdk/__init__.py)"
     ]
    }
   ],
   "source": [
    "# Importing required libraries\n",
    "from databricks.sdk import SecretScope, Secret\n",
    "from helpers.env_utils import load_env_as_json, load_env_as_list\n",
    "\n",
    "scope_name = \"ACP\"\n",
    "\n",
    "secrets :dict = load_env_as_json(dev_mode=scope_name, env_filename=\".env_init\")\n",
    "for key, value in secrets.items():\n",
    "    scope = SecretScope(key)\n",
    "    secret = Secret(scope, key)\n",
    "    secret.write(value)"
   ]
  },
  {
   "cell_type": "code",
   "execution_count": null,
   "metadata": {},
   "outputs": [],
   "source": [
    "secrets = load_env_as_list(dev_mode=scope_name, env_filename=\".env_init\")\n",
    "for key, value in secrets.items():\n",
    "    scope = SecretScope(key)\n",
    "    secret = Secret(scope, key)\n",
    "    secret.write(value)"
   ]
  },
  {
   "cell_type": "code",
   "execution_count": null,
   "metadata": {},
   "outputs": [],
   "source": [
    "# Get the secrets in the specified scope\n",
    "secrets = SecretScope(scope_name).list_secrets()\n",
    "\n",
    "# Display the keys of the secrets\n",
    "for secret in secrets:\n",
    "    print(secret.key)\n"
   ]
  }
 ],
 "metadata": {
  "kernelspec": {
   "display_name": "venv",
   "language": "python",
   "name": "python3"
  },
  "language_info": {
   "codemirror_mode": {
    "name": "ipython",
    "version": 3
   },
   "file_extension": ".py",
   "mimetype": "text/x-python",
   "name": "python",
   "nbconvert_exporter": "python",
   "pygments_lexer": "ipython3",
   "version": "3.11.3"
  },
  "orig_nbformat": 4
 },
 "nbformat": 4,
 "nbformat_minor": 2
}
